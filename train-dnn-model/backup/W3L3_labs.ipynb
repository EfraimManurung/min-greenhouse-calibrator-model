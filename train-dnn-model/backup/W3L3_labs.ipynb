{
  "cells": [
    {
      "cell_type": "markdown",
      "metadata": {
        "id": "Irtqh7W7w5bJ"
      },
      "source": [
        "# 10. Deep Learning Lab (2024 edition)\n",
        "\n",
        "In this tutorial we will work with various neural network model architectures and demonstrate their use for various tasks.\n",
        "\n",
        "- First, we will construct and train an [MLP with a single hidden layer for a regression task](#scrollTo=A_regression_exercise_with_a_MLP_and_the_Hitters_dataset). We will predict the salery of athletes using the Hitters dataset. We will also compare with linear regression models, that we have seen previously in the class.\n",
        "\n",
        "- Second, we will work on a [multi-layer network for a classification task](#scrollTo=Multilayer_Network_with_the_MNIST_dataset) for recognizing hand-written images. Here we will classify images to detect handwritten numbers (0-9), with the classical MNIST dataset.\n",
        "\n",
        "- Third, we will study a more difficult classification task that involves 100 classes! We will construct and train a [Convolutional Neural Network for image classification](#scrollTo=Convolutional_Neural_Networks_with_the_CIFAR_dataset) using the CIFAR image dataset.\n",
        "\n",
        "- Fourth, we will use a [Pre-trained CNN for classifying our own images](#scrollTo=Pretrained_CNN_model_for_image_classification). We will re-use a deep CNN architecture with 50-layers, called ResNet50!\n",
        "\n",
        "- Last, we will conclude with a challenge for you: Using the knowledge of this tutorial, create your own model, and improve results for the hardwritten digit recogrition problem, using MNIST!\n"
      ]
    },
    {
      "cell_type": "markdown",
      "metadata": {
        "id": "F0JBM0OyZp9E"
      },
      "source": [
        "In this section, we demonstrate how to fit neural networks using the examples discussed in the ISLR book text.\n",
        "\n",
        "We use the `keras` package, a multi-framework package for deep learning, that is compatible with any framework – JAX, TensorFlow, or PyTorch. If you want to know more, visit the [keras website](https://www.keras.io), it has a very comprehensive documentation.\n",
        "\n",
        "A good companion\n",
        "is the textbook *Deep Learning with Python*\n",
        "(F. Chollet, 2017, Manning Publications,) and most of our code has been inspired from there.\n",
        "\n",
        "Getting `keras` up and running on your computer can be a\n",
        "challenge.\n",
        "\n",
        "Therefore, we will with colab, that come prepackaged with everything necessary!"
      ]
    },
    {
      "cell_type": "code",
      "source": [
        "# Import several libraries that we will use below\n",
        "import numpy as np\n",
        "import pandas as pd\n",
        "import sklearn\n",
        "import keras\n",
        "\n",
        "from sklearn.preprocessing import OneHotEncoder\n",
        "from sklearn.model_selection import train_test_split\n",
        "from sklearn.preprocessing import StandardScaler\n",
        "from sklearn.linear_model import LinearRegression , LogisticRegression , Lasso\n",
        "from sklearn.metrics import mean_absolute_error, r2_score\n",
        "from keras import layers, Sequential\n",
        "\n",
        "from keras.applications.imagenet_utils import preprocess_input, decode_predictions\n",
        "from keras.applications.resnet import ResNet50\n",
        "\n",
        "import os\n",
        "import matplotlib.pyplot as plt\n",
        "import seaborn as sns"
      ],
      "metadata": {
        "id": "MBJeTj0GyGiT"
      },
      "execution_count": null,
      "outputs": []
    },
    {
      "cell_type": "markdown",
      "source": [
        "## 1. A regression exercise with a MLP and the Hitters dataset"
      ],
      "metadata": {
        "id": "oO3H0-rmrulQ"
      }
    },
    {
      "cell_type": "markdown",
      "source": [
        "\n",
        "\n",
        "Here we will revisit the examples of Section *10.6 When to Use Deep Learning*, and develop a regression model for the Hitters dataset from Chapter 6.\n",
        "\n",
        "This is a regression problem, where the goal is to predict the 'Salary' of a baseball player in 1987 using his performance statistics from 1986. After removing players with missing responses, we are left with 263 players and 19 variables. We randomly split the data into a training set of 176 players (two thirds), and a test set of 87 players (one third). We used three methods for fitting a regression model to these data.\n",
        "\n",
        "- A linear model was used to fit the training data, and make predictions on the test data. The model has 20 parameters.\n",
        "- The same linear model was fit with lasso regularization.\n",
        "- A MLP neural network with one hidden layer consisting of 64 ReLU units was fit to the data. This model has 1,345 parameters."
      ],
      "metadata": {
        "id": "9sPwfcw-upY6"
      }
    },
    {
      "cell_type": "markdown",
      "source": [
        "Lets get started, download the Hitters dataset, load it, and inspect it.\n",
        "Then we will turn the cetegorical attributes into numerical with one hote encoding, and split it in training and test. Test set is a random 33% of the original dataset.\n",
        "\n",
        "We will also scale the dataset using a standard scaler.\n",
        "\n",
        "All these steps should be sraightforward to you from the previous lessons, so quickly we will move into fitting and evaluating linear models!"
      ],
      "metadata": {
        "id": "vZJhTIDxIrIW"
      }
    },
    {
      "cell_type": "code",
      "source": [
        "# Download the Hitter's dataset\n",
        "!wget -q https://git.wur.nl/koots006/msc-course-machine-learning/-/raw/0ffcf25692d63933a03c092b79ba9906b8576058/islr_data/Hitters.csv"
      ],
      "metadata": {
        "id": "i2w5rJPGuoVI"
      },
      "execution_count": null,
      "outputs": []
    },
    {
      "cell_type": "code",
      "source": [
        "# Load the dataset\n",
        "hitters = pd.read_csv('Hitters.csv')\n",
        "hitters.head()\n",
        "hitters=hitters.dropna()"
      ],
      "metadata": {
        "id": "G9ukMrB2xYJX"
      },
      "execution_count": null,
      "outputs": []
    },
    {
      "cell_type": "code",
      "source": [
        "#Inspect the dataset\n",
        "hitters.head(5)"
      ],
      "metadata": {
        "id": "clal-lzJxzqb"
      },
      "execution_count": null,
      "outputs": []
    },
    {
      "cell_type": "code",
      "source": [
        "# Preprocessing: encode categorical variables with one hot encoding\n",
        "ohe = OneHotEncoder(sparse_output=False,drop=\"if_binary\")\n",
        "hitters[['League', 'Division', 'NewLeague']] = ohe.fit_transform(hitters[['League', 'Division', 'NewLeague']])"
      ],
      "metadata": {
        "id": "D-uCNN5jyDgW"
      },
      "execution_count": null,
      "outputs": []
    },
    {
      "cell_type": "code",
      "source": [
        "# features and target variables\n",
        "X = hitters.loc[:, hitters.columns != 'Salary']\n",
        "y = hitters.Salary"
      ],
      "metadata": {
        "id": "of6MIYGCzIKj"
      },
      "execution_count": null,
      "outputs": []
    },
    {
      "cell_type": "code",
      "source": [
        "# Split train and test set\n",
        "X_train, X_test, y_train, y_test = train_test_split(X, y, test_size=.33, random_state=0)"
      ],
      "metadata": {
        "id": "MbC7J2HRzMFC"
      },
      "execution_count": null,
      "outputs": []
    },
    {
      "cell_type": "code",
      "source": [
        "# Scale the dataset\n",
        "scaler = StandardScaler().fit(X_train)\n",
        "\n",
        "X_train = scaler.transform(X_train)\n",
        "X_test = scaler.transform(X_test)"
      ],
      "metadata": {
        "id": "k7TpZ41zzPDA"
      },
      "execution_count": null,
      "outputs": []
    },
    {
      "cell_type": "markdown",
      "source": [
        "### A feed-forward neural network with a single hidden layer\n",
        "Here we will define and train a simple neural network using keras."
      ],
      "metadata": {
        "id": "X7iUJXXBZQ1S"
      }
    },
    {
      "cell_type": "markdown",
      "source": [
        "#### Model structure\n",
        "\n",
        "First, we define the neural network model structure to have one hidden layer consisting of 64 neurons, using the RELU activation function.\n",
        "\n",
        "In keras,  we create feed-forward models, ie with several layers in a sequence, with the `Sequential` class.\n",
        "\n",
        "- The first layer is an input layer, with the shape of the input data!\n",
        "- Then, comes a \"dense\" layer of 64 neurons, and RELU activations.\n",
        "- It is followed by a Dropout layer (for regularization) of 20%\n",
        "- Finally the output layer predicts the target salary. As it is a regression task, we use a linear activation function here."
      ],
      "metadata": {
        "id": "BB0Vd7cz4aKe"
      }
    },
    {
      "cell_type": "code",
      "source": [
        "# Define the model structure\n",
        "mlp = Sequential([\n",
        "                  layers.Input(shape=X_train.shape[1]),\n",
        "                  layers.Dense(units=64, activation='relu'),\n",
        "                  layers.Dropout(rate=0.2),\n",
        "                  layers.Dense(units=1, activation='linear'),\n",
        "                ])\n"
      ],
      "metadata": {
        "id": "i2vgwDQL4ZXo"
      },
      "execution_count": null,
      "outputs": []
    },
    {
      "cell_type": "markdown",
      "source": [
        "To inspect the structure and the number of parameters of the model we can use the `summary` function."
      ],
      "metadata": {
        "id": "WvgRc1A3PGfE"
      }
    },
    {
      "cell_type": "code",
      "source": [
        "# Check the structure\n",
        "mlp.summary()"
      ],
      "metadata": {
        "id": "P4xm94-iBKuA"
      },
      "execution_count": null,
      "outputs": []
    },
    {
      "cell_type": "markdown",
      "source": [
        "Our model structure is ready. Next we need to configure it for training.\n",
        "\n",
        "\n",
        "#### Training configuration\n",
        "\n",
        "This involves setting a loss function, and metrics to compute during training.\n",
        "\n",
        "In our case, we select MSE for the loss function, and additionally report MAE and R2 score, so that we can monitor the training process.\n",
        "\n",
        "We also define the optimizer that is used for minimizing the loss function of a neural network during training. It also updates the model weights and biases based on the gradients of the loss function. Here we use RMSprop, an extention to Stochastic Gradient Descent, that works more effciently.\n"
      ],
      "metadata": {
        "id": "ULriv11OPfEi"
      }
    },
    {
      "cell_type": "code",
      "source": [
        "# set things up\n",
        "mlp.compile(loss='mse', metrics=['mae', 'R2Score'], optimizer='rmsprop')"
      ],
      "metadata": {
        "id": "A2I1fqt75xp9"
      },
      "execution_count": null,
      "outputs": []
    },
    {
      "cell_type": "markdown",
      "source": [
        "Now, we are ready to train (aka fit) the MLP model.\n",
        "\n",
        "#### Model training\n",
        "\n",
        "For this, we will pass the training data (features and labels), define the number of epochs (ie training iterations), and the bath size.\n",
        "\n",
        "We will use 10% of the training data for model validation during training.\n",
        "\n",
        "Once you execute the cell below you will see printouts of the trianing process, reporting on the three metrics we have defined above:\n",
        "(a) loss, which is MSE,\n",
        "(b) MAE, and\n",
        "(c) R2.\n",
        "\n",
        "Metrics are reported both for the training, and the validation split!\n",
        "\n"
      ],
      "metadata": {
        "id": "ZTbYzVy3RlRi"
      }
    },
    {
      "cell_type": "code",
      "source": [
        "history = mlp.fit(X_train,\n",
        "                    y_train,\n",
        "                    epochs=600,\n",
        "                    batch_size=16,\n",
        "                    validation_split=0.1,\n",
        "                    )"
      ],
      "metadata": {
        "id": "MHYihOr255GK"
      },
      "execution_count": null,
      "outputs": []
    },
    {
      "cell_type": "markdown",
      "source": [
        "#### Monitoring the training process\n",
        "\n",
        "We will visualize the model training process, and see how these metrics evolve during"
      ],
      "metadata": {
        "id": "8IRdEtSiSA-7"
      }
    },
    {
      "cell_type": "code",
      "source": [
        "# Plot loss (MSE) for both training and validation split\n",
        "\n",
        "sns.lineplot(x=history.epoch, y=history.history['loss'], color='g', label='training')\n",
        "sns.lineplot(x=history.epoch, y=history.history['val_loss'], color='b', label='validation')\n",
        "plt.title('Model loss during training')\n",
        "plt.ylabel('loss')\n",
        "plt.xlabel('training epoch')\n",
        "plt.legend(loc='upper right')"
      ],
      "metadata": {
        "id": "ZVfmYfIN7b9Y"
      },
      "execution_count": null,
      "outputs": []
    },
    {
      "cell_type": "code",
      "source": [
        "# Plot R2 for both training and validation split\n",
        "\n",
        "sns.lineplot(x=history.epoch, y=history.history['r2_score'], color='g', label='training')\n",
        "sns.lineplot(x=history.epoch, y=history.history['val_r2_score'], color='b', label='validation')\n",
        "\n",
        "plt.title('R2 during training')\n",
        "plt.ylabel('R2')\n",
        "plt.xlabel('epoch')\n",
        "plt.legend(loc='lower right')"
      ],
      "metadata": {
        "id": "UGEi7QGJ6h0P"
      },
      "execution_count": null,
      "outputs": []
    },
    {
      "cell_type": "markdown",
      "source": [
        "> ##### **Discussion question**\n",
        ">\n",
        "> - What can you tell from inspecting the training diagrams? Does the MLP overfit, or underfit?"
      ],
      "metadata": {
        "id": "gHRY4e3JxhCO"
      }
    },
    {
      "cell_type": "markdown",
      "source": [
        "#### Evaluate with the independent test set"
      ],
      "metadata": {
        "id": "kgc7e04IxrKu"
      }
    },
    {
      "cell_type": "code",
      "source": [
        "y_hat_test = mlp.predict(X_test)\n",
        "print(\"MAE\",mean_absolute_error(y_test, y_hat_test))\n",
        "print(\"R2\",r2_score(y_test, y_hat_test))"
      ],
      "metadata": {
        "id": "QEaPX1ZKDkDF"
      },
      "execution_count": null,
      "outputs": []
    },
    {
      "cell_type": "markdown",
      "source": [
        "> ##### **Discussion question**\n",
        ">\n",
        ">\n",
        "> - How does the model perform in the test set?\n",
        "> - How does this compare with the metrics you estimated in the training and validation splits?"
      ],
      "metadata": {
        "id": "LQCfdjeiy_0E"
      }
    },
    {
      "cell_type": "markdown",
      "source": [
        "### Compare with (linear) machine learning models\n",
        "\n",
        "We will fit and evaluate two models for the same task: A linear regressor, and a linear regressor with lasso regularization.\n",
        "\n",
        "We will report MAE and R2 on the holdout test set. Note and compare the metrics with the Neural Network above."
      ],
      "metadata": {
        "id": "7YHHp7yfznlh"
      }
    },
    {
      "cell_type": "markdown",
      "source": [
        "#### Linear regression model"
      ],
      "metadata": {
        "id": "pz-3pfjIJ92W"
      }
    },
    {
      "cell_type": "code",
      "source": [
        "# Linear regression model\n",
        "lrm = LinearRegression()\\\n",
        "        .fit(X_train, y_train)\n",
        "\n",
        "#estimate metrics on the training set\n",
        "y_hat_train = lrm.predict(X_train)\n",
        "print(\"MAE LRM training\",mean_absolute_error(y_train, y_hat_train))\n",
        "print(\"R2 LRM training\", r2_score(y_train, y_hat_train))\n"
      ],
      "metadata": {
        "id": "XFR2PgdUzzRA"
      },
      "execution_count": null,
      "outputs": []
    },
    {
      "cell_type": "code",
      "source": [
        "#estimate metrics on the test set\n",
        "\n",
        "y_hat_test = lrm.predict(X_test)\n",
        "print(\"MAE\",mean_absolute_error(y_test, y_hat_test))\n",
        "print(\"R2\",r2_score(y_test, y_hat_test))"
      ],
      "metadata": {
        "id": "heX7axFw3rRU"
      },
      "execution_count": null,
      "outputs": []
    },
    {
      "cell_type": "markdown",
      "source": [
        "> ##### **Discussion question**\n",
        ">\n",
        "> - Can you explain how many parameters are in this model?\n",
        ">\n",
        "> (hint) Use `lrm.coef_` to view the model parameters"
      ],
      "metadata": {
        "id": "Mqw-EEILKC3R"
      }
    },
    {
      "cell_type": "markdown",
      "source": [
        "#### Lasso regularization\n",
        "Repeat the same for Lasso!"
      ],
      "metadata": {
        "id": "MDgi_WkgMiU2"
      }
    },
    {
      "cell_type": "code",
      "source": [
        "# Lasso training\n",
        "lasso = Lasso(max_iter=3000)\\\n",
        "             .fit(X_train, y_train)\n",
        "\n",
        "#estimate metrics on the training set\n",
        "y_hat_train = lasso.predict(X_train)\n",
        "print(\"MAE Lasso training\",mean_absolute_error(y_train, y_hat_train))\n",
        "print(\"R2 Lasso training\", r2_score(y_train, y_hat_train))"
      ],
      "metadata": {
        "id": "RVNyQ02F34fd"
      },
      "execution_count": null,
      "outputs": []
    },
    {
      "cell_type": "code",
      "source": [
        "y_hat_test  = lasso.predict(X_test)\n",
        "print(\"MAE Lasso\",mean_absolute_error(y_test, y_hat_test))\n",
        "print(\"R2 Lasso\",r2_score(y_test, y_hat_test))"
      ],
      "metadata": {
        "id": "pbipX0uQ4N-H"
      },
      "execution_count": null,
      "outputs": []
    },
    {
      "cell_type": "markdown",
      "source": [
        "> ##### **Question and Exercise**\n",
        ">\n",
        ">- How many parameters are in this model?\n",
        ">\n",
        "> Note that we did not do tune the model for the hyperparameter ($\\lambda$), as mentioned in the book. If you have time at the end of today, you can do so by 10-fold cross-validation on the training data. The optimized model comes with 12 variables having nonzero coefficients."
      ],
      "metadata": {
        "id": "P4wuW1uEMrRo"
      }
    },
    {
      "cell_type": "code",
      "source": [],
      "metadata": {
        "id": "BmBm2ajMzlSQ"
      },
      "execution_count": null,
      "outputs": []
    },
    {
      "cell_type": "markdown",
      "source": [
        "> ##### **Discussion question**\n",
        ">\n",
        ">\n",
        "> - Make a table that reports MAE for the three models you have constructed for both training and test split.\n",
        "> - The MLP performs better metrics compared to the linear models. Is it indeed better than them? How can you measure that?\n"
      ],
      "metadata": {
        "id": "OZG3pg8ZB_Md"
      }
    },
    {
      "cell_type": "markdown",
      "source": [
        "> ##### **Extra exercise**: Compare to a Random Forest\n",
        ">\n",
        "> *(If you have time left, at the end of the day)*\n",
        ">\n",
        "> - Fit a Random Forest on the regression exercise.\n",
        "> - What are your results?\n",
        "> - How does RF compares to linear models and neural networks?"
      ],
      "metadata": {
        "id": "3PzcXuj01GU6"
      }
    },
    {
      "cell_type": "code",
      "source": [
        "# TODO your code here"
      ],
      "metadata": {
        "id": "ulOH67fiWJbw"
      },
      "execution_count": null,
      "outputs": []
    },
    {
      "cell_type": "markdown",
      "source": [
        "## 2. Multilayer Network with the MNIST dataset"
      ],
      "metadata": {
        "id": "VLMQyAJSZcpc"
      }
    },
    {
      "cell_type": "markdown",
      "metadata": {
        "id": "WZyxye6OaY8C"
      },
      "source": [
        "#### The MNIST dataset\n",
        "\n",
        "The MNIST dataset is a popular dataset in the field of machine learning and computer vision. It consists of 60,000 grayscale images of handwritten digits (0-9) for training and 10,000 images for testing. Each image is 28x28 pixels, and the goal is to train a model to recognize and classify the digits correctly. The MNIST dataset is widely used as a benchmark for evaluating the performance of machine learning algorithms, especially for image classification tasks. It is a simple yet challenging dataset, making it an ideal starting point for beginners in the field."
      ]
    },
    {
      "cell_type": "markdown",
      "metadata": {
        "id": "Q79_t0dYnILP"
      },
      "source": [
        "The `keras` package comes with a number of example datasets,\n",
        "including the `MNIST` digit data. Our first step is to load the\n",
        "`MNIST` data. The `load_data()` function is provided for this purpose."
      ]
    },
    {
      "cell_type": "code",
      "execution_count": null,
      "metadata": {
        "id": "g4gBaMEOntbX"
      },
      "outputs": [],
      "source": [
        "(X_train, y_train), (X_test, y_test) = keras.datasets.mnist.load_data()"
      ]
    },
    {
      "cell_type": "markdown",
      "metadata": {
        "id": "O3wCKlw6oCOQ"
      },
      "source": [
        "There are 60,000 images in the training data and 10,000 in the test data. The images are $28\\times 28$, and stored as a three-dimensional array. The first dimention corresponds to the image identifier!\n"
      ]
    },
    {
      "cell_type": "code",
      "execution_count": null,
      "metadata": {
        "id": "ItQ0xk3koCoS"
      },
      "outputs": [],
      "source": [
        "print(X_train.shape)\n",
        "print(y_train.shape)"
      ]
    },
    {
      "cell_type": "markdown",
      "source": [
        "To inspect the dataset, we will plot ten random images from the training set."
      ],
      "metadata": {
        "id": "MAqNB6iCWwMN"
      }
    },
    {
      "cell_type": "code",
      "source": [
        "# Plot 10 random images from the training set\n",
        "nr_training_images = X_train.shape[0]\n",
        "plt.figure(figsize=(15,7))\n",
        "for i in range(10):\n",
        "  sample_id = np.random.randint(nr_training_images)\n",
        "  plt.subplot(2,5,i+1)\n",
        "  plt.imshow(X_train[sample_id,:,:])\n",
        "  plt.title('class: %d' % y_train[sample_id])\n",
        "plt.show()"
      ],
      "metadata": {
        "id": "cD1m-4r8KOyk"
      },
      "execution_count": null,
      "outputs": []
    },
    {
      "cell_type": "markdown",
      "source": [
        "For this first example, we will not use any image structure, i.e. we will consider our input data as a vector of size $28\\times28 = 784$ elements.\n",
        "\n",
        "Therefore, we need to reshape our input data into an one-dimentional vector.   \n",
        "Also, we will convert the numerical output into classes, using one hot encoding.\n",
        "\n",
        "Luckily `keras` has a lot of built-in functions that do this for us."
      ],
      "metadata": {
        "id": "BSOEY6ZIXwG1"
      }
    },
    {
      "cell_type": "code",
      "execution_count": null,
      "metadata": {
        "id": "fZMea2dcofhp"
      },
      "outputs": [],
      "source": [
        "# Reshape training data into matrix\n",
        "X_train = np.reshape(X_train, newshape=(X_train.shape[0],784))\n",
        "X_test  = np.reshape(X_test, newshape=(X_test.shape[0], 784))\n",
        "\n",
        "# One-hot encode class labels\n",
        "y_train = keras.utils.to_categorical(y_train, 10)\n",
        "y_test = keras.utils.to_categorical(y_test, 10)"
      ]
    },
    {
      "cell_type": "markdown",
      "source": [
        "The shape of our training (and test) data has changed!\n",
        "\n",
        "(You can confirm the shape of the test dataset)"
      ],
      "metadata": {
        "id": "wtvUpmImZyTJ"
      }
    },
    {
      "cell_type": "code",
      "execution_count": null,
      "metadata": {
        "id": "FbleZ7leqKYG"
      },
      "outputs": [],
      "source": [
        "print(X_train.shape)\n",
        "print(y_train.shape)"
      ]
    },
    {
      "cell_type": "markdown",
      "metadata": {
        "id": "w-YkYioSoX_I"
      },
      "source": [
        "Neural networks are somewhat sensitive to the scale of the inputs. For example, ridge and\n",
        "lasso regularization are affected by scaling.  Here the inputs are eight-bit grayscale values between 0 and 255, so we rescale to the unit interval.\n",
        "\n",
        "> Note: Eight bits means $2^8$, which equals 256. Since the convention\n",
        "is to start at $0$, the possible values  range from $0$ to $255$."
      ]
    },
    {
      "cell_type": "code",
      "execution_count": null,
      "metadata": {
        "id": "RPmkZftkoOue"
      },
      "outputs": [],
      "source": [
        "X_train = X_train.astype(\"float32\") / 255\n",
        "X_test = X_test.astype(\"float32\") / 255"
      ]
    },
    {
      "cell_type": "markdown",
      "metadata": {
        "id": "4UywZXnUpmSX"
      },
      "source": [
        "#### Model structure\n",
        "\n",
        "Now we are ready to fit our neural network.\n",
        "Similar as with the previous exercise we will construct a network that consists of dense layers, with RELU activations and dropout for regularization.\n",
        "\n",
        "Our design choice is to have two hidden layers of 256 and 128 neurons, each followed by a dropout layer of 30%.\n",
        "\n",
        "The output layer has 10 units, using softmax as activation, as its a classification task."
      ]
    },
    {
      "cell_type": "code",
      "execution_count": null,
      "metadata": {
        "id": "qZjeIwgZoXac"
      },
      "outputs": [],
      "source": [
        "modnn = Sequential([keras.Input(shape=(784)),\n",
        "                    layers.Dense(units=256, activation='relu'),\n",
        "                    layers.Dropout(rate=0.3),\n",
        "                    layers.Dense(units=128, activation='relu'),\n",
        "                    layers.Dropout(rate=0.3),\n",
        "                    layers.Dense(units=10, activation='softmax')\n",
        "                    ])\n"
      ]
    },
    {
      "cell_type": "markdown",
      "metadata": {
        "id": "kImvBdKxq5AH"
      },
      "source": [
        "\n",
        "Finally, we use `summary()` to summarize the model, and to make sure we got it\n",
        "all right."
      ]
    },
    {
      "cell_type": "code",
      "execution_count": null,
      "metadata": {
        "id": "JivKjlwurAF-"
      },
      "outputs": [],
      "source": [
        "modnn.summary()"
      ]
    },
    {
      "cell_type": "markdown",
      "metadata": {
        "id": "4nG4xywArE7f"
      },
      "source": [
        "The parameters for each layer include a bias term, which results in a\n",
        "parameter count of 235,146. For example, the first hidden\n",
        "layer involves $(784+1)\\times 256=200{,}960$ parameters.\n",
        "\n",
        "Notice that the layer names such as `dropout_1` and\n",
        "`dense_2` have subscripts. These may appear somewhat random; in\n",
        "fact, if you fit the same model again, **these will change. They are of\n",
        "no consequence: they vary because the model\n",
        "specification code is run in `python`**, and these subscripts are incremented every time\n",
        "`Sequential()` is called.\n",
        "\n",
        "#### Training configuration and model training\n",
        "\n",
        "Next, we add details to the model to specify the fitting algorithm.\n",
        "\n",
        "We fit the model by minimizing the cross-entropy function, as its a classification problem."
      ]
    },
    {
      "cell_type": "code",
      "execution_count": null,
      "metadata": {
        "id": "YEt9DYKmprU8"
      },
      "outputs": [],
      "source": [
        "# training configuration\n",
        "\n",
        "modnn.compile(loss='categorical_crossentropy',\n",
        "              metrics=['accuracy'],\n",
        "              optimizer='rmsprop',)"
      ]
    },
    {
      "cell_type": "markdown",
      "metadata": {
        "id": "F4cqIgxYh5fY"
      },
      "source": [
        "Below we start the model training.\n",
        "Here we specified a validation split of 10%, so the training is actually performed on 90% of the 60,000 observations in the training set. This is an alternative to actually supplying validation data.\n",
        "\n",
        "Images are supplied in batches of 128 observations for estimating losses, and computing the gradient using RMSprop.\n",
        "\n",
        "The output is a progress report on the fitting of the model, grouped by epoch. This is very useful, since on large datasets fitting can take time.\n",
        "\n",
        "We will use 20 epochs."
      ]
    },
    {
      "cell_type": "code",
      "execution_count": null,
      "metadata": {
        "id": "n4hLN1UXprd1"
      },
      "outputs": [],
      "source": [
        "# model training\n",
        "\n",
        "history = modnn.fit(X_train,y_train,\n",
        "                    epochs=20,\n",
        "                    batch_size=120,\n",
        "                    validation_split=0.1)"
      ]
    },
    {
      "cell_type": "markdown",
      "metadata": {
        "id": "eEnPk7SbsHn9"
      },
      "source": [
        "The plots below visualize the accuracy and the loss during training.\n",
        "\n"
      ]
    },
    {
      "cell_type": "code",
      "execution_count": null,
      "metadata": {
        "id": "stGaRHDqiRzh"
      },
      "outputs": [],
      "source": [
        "# Plot loss (cross-entropy) for both training and validation split\n",
        "\n",
        "sns.lineplot(x=history.epoch, y=history.history['loss'], color='g', label='training')\n",
        "sns.lineplot(x=history.epoch, y=history.history['val_loss'], color='b', label='validation')\n",
        "plt.title('Model loss during training')\n",
        "plt.ylabel('loss')\n",
        "plt.xlabel('training epoch')\n",
        "plt.legend(loc='lower right')"
      ]
    },
    {
      "cell_type": "code",
      "execution_count": null,
      "metadata": {
        "id": "BaONWbNThC38"
      },
      "outputs": [],
      "source": [
        "# Plot classification accuracy for both training and validation split\n",
        "\n",
        "sns.lineplot(x=history.epoch, y=history.history['accuracy'], color='g', label='training')\n",
        "sns.lineplot(x=history.epoch, y=history.history['val_accuracy'], color='b', label='validation')\n",
        "\n",
        "plt.title('Model accuracy during training')\n",
        "plt.ylabel('accuracy')\n",
        "plt.xlabel('training epoch')\n",
        "plt.legend(loc='lower right')\n"
      ]
    },
    {
      "cell_type": "markdown",
      "metadata": {
        "id": "8u841VK0idVd"
      },
      "source": [
        "#### Evaluate with the test set\n",
        "There are several options to change while fitting a neural network: The architecture, the training configuration, the number of epochs, etc.\n",
        "\n",
        "If we assume that we are happy with the model performace on the training and validation set, ie the hyper-parameter tuning has been concluded, its time to evaluate the model with the holdout (test) set.\n",
        "\n",
        "Finally, we estimate the perfomance of the network in the test set. We can do that with the `evaluate` function, that employs the metrics we defined above."
      ]
    },
    {
      "cell_type": "code",
      "execution_count": null,
      "metadata": {
        "id": "i8pnK0s8sz-e"
      },
      "outputs": [],
      "source": [
        "eval_results = modnn.evaluate(X_test, y_test)"
      ]
    },
    {
      "cell_type": "markdown",
      "metadata": {
        "id": "D2M_Gc7etBfO"
      },
      "source": [
        "As we passed `categorical_crossentropy` as loss and `accuracy` as metric when compiling the model, the outcomes of the `evaluate` function will be the test crossentropy loss and accuracy respectively."
      ]
    },
    {
      "cell_type": "code",
      "execution_count": null,
      "metadata": {
        "id": "9_fcyFbSs3SB"
      },
      "outputs": [],
      "source": [
        "print(\"Test crossentropy loss:\", eval_results[0])\n",
        "print(\"Test accuracy:\", eval_results[1])"
      ]
    },
    {
      "cell_type": "markdown",
      "source": [
        "This look pretty good, with an accuracy above 98%!\n",
        "\n",
        "> ##### **Question**\n",
        "> - Check on the web for the [MNIST benchmark leaderboard](https://benchmarks.ai/mnist). How well do other models perform?\n",
        "\n",
        "\n",
        "Lets see what our model predicted with some random images from the test set!"
      ],
      "metadata": {
        "id": "qzconVUgc9Ti"
      }
    },
    {
      "cell_type": "code",
      "source": [
        "# Plot 10 random images from the testing set\n",
        "nr_testing_images = X_test.shape[0]\n",
        "plt.figure(figsize=(15,7))\n",
        "for i in range(10):\n",
        "  sample_id = np.random.randint(nr_testing_images)\n",
        "  plt.subplot(2,5,i+1)\n",
        "  plt.imshow(np.reshape(X_test[sample_id, :], (28,28)))\n",
        "  plt.title('class: %d estimated: %d' % (np.argmax(y_test[sample_id]),  np.argmax(modnn.predict(X_test[sample_id:sample_id+1,:]))))\n",
        "plt.show()"
      ],
      "metadata": {
        "id": "TT-SLPVtc-pU"
      },
      "execution_count": null,
      "outputs": []
    },
    {
      "cell_type": "markdown",
      "source": [],
      "metadata": {
        "id": "ucx-8B5klLJZ"
      }
    },
    {
      "cell_type": "markdown",
      "metadata": {
        "id": "ejYMwngYaaWB"
      },
      "source": [
        "## 3. Convolutional Neural Networks with the CIFAR dataset"
      ]
    },
    {
      "cell_type": "markdown",
      "metadata": {
        "id": "Ck8ae66Zumgu"
      },
      "source": [
        "#### The CIFAR dataset\n",
        "\n",
        "The CIFAR dataset is a collection of labeled images often used for object recognition and classification tasks in machine learning. It includes 60,000 colored training images and 10,000 testing images, each with 3 channels (red, green, blue) and a resolution of 32x32 pixels. The images are distributed across 100 classes.\n",
        "\n",
        "In this section we fit a CNN to the `CIFAR` data, which is available in the `keras`\n",
        "package. It is arranged in a similar fashion as the `MNIST` data."
      ]
    },
    {
      "cell_type": "code",
      "execution_count": null,
      "metadata": {
        "id": "tTNkIzlMabcT"
      },
      "outputs": [],
      "source": [
        "(X_train, y_train), (X_test, y_test) = keras.datasets.cifar100.load_data()"
      ]
    },
    {
      "cell_type": "markdown",
      "metadata": {
        "id": "O3Xb1qETVbeH"
      },
      "source": [
        "Let's have a look at some of the images:"
      ]
    },
    {
      "cell_type": "code",
      "execution_count": null,
      "metadata": {
        "id": "Etu4cRTYvnj4"
      },
      "outputs": [],
      "source": [
        "# Plot 10 random images from the training set\n",
        "nr_images_training = X_train.shape[0]\n",
        "plt.figure(figsize=(15,7))\n",
        "for i in range(10):\n",
        "  sample_id = np.random.randint(nr_images_training)\n",
        "  plt.subplot(2,5,i+1)\n",
        "  plt.imshow(X_train[sample_id,:,:,:])\n",
        "  plt.title('class: %d' % y_train[sample_id][0])\n",
        "plt.show()"
      ]
    },
    {
      "cell_type": "markdown",
      "metadata": {
        "id": "OzIUBiuivjju"
      },
      "source": [
        "The array of 50,000 training images has four dimensions:\n",
        "each three-color image is represented as a set of three channels, each of which consists of $32\\times 32$ eight-bit pixels.\n",
        "\n",
        "We standardize as we did for the digits, but keep the array structure.\n",
        "\n",
        "\n",
        "We one-hot encode the labels to produce a 100-column binary matrix."
      ]
    },
    {
      "cell_type": "code",
      "execution_count": null,
      "metadata": {
        "id": "iPvq8MX2utwX"
      },
      "outputs": [],
      "source": [
        "# Standardize images\n",
        "X_train = X_train.astype(\"float32\") / 255\n",
        "X_test = X_test.astype(\"float32\") / 255\n",
        "\n",
        "# One-hot encode class labels\n",
        "y_train = keras.utils.to_categorical(y_train, 100)\n",
        "y_test = keras.utils.to_categorical(y_test, 100)\n"
      ]
    },
    {
      "cell_type": "code",
      "execution_count": null,
      "metadata": {
        "id": "rC2YGK4BvMsY"
      },
      "outputs": [],
      "source": [
        "# Check the shapes\n",
        "print(X_train.shape)\n",
        "print(X_test.shape)\n",
        "print(y_train.shape)\n",
        "print(y_test.shape)"
      ]
    },
    {
      "cell_type": "markdown",
      "source": [
        "#### Model structure\n",
        "\n",
        "Here we specify a moderately-sized  CNN for\n",
        "demonstration purposes, similar in structure to Figure below (10.8).\n",
        "\n",
        "![CIFAR_CNN_ISLR.jpg](data:image/jpeg;base64,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)"
      ],
      "metadata": {
        "id": "2rd5Pwa6n36p"
      }
    },
    {
      "cell_type": "markdown",
      "metadata": {
        "id": "HygnREBivl6P"
      },
      "source": [
        "In summary, this is a deep CNN with four convolutional layers with RELU activations.\n",
        "\n",
        "Each convolution is followed by max pooling layer, which reduces the size of the feature map in each channel by a factor of four: two in each dimension.\n",
        "\n",
        "The feature map of the last convolution is flattened and dropout is applied for regularization.\n",
        "\n",
        "Two fully-connected layers follow, and a softmax output layer. The model takes in a 3D input tensor and outputs a 1D tensor of shape (100,) representing the probabilities of each class.\n"
      ]
    },
    {
      "cell_type": "code",
      "execution_count": null,
      "metadata": {
        "id": "7vkyDf_aZWy2"
      },
      "outputs": [],
      "source": [
        "model = Sequential([\n",
        "                layers.Input(shape=(32,32,3)),\n",
        "\n",
        "                layers.Conv2D(filters=32, kernel_size=(3,3), activation='relu', padding='same'),\n",
        "                layers.MaxPooling2D(pool_size=(2,2)),\n",
        "\n",
        "                layers.Conv2D(filters=64, kernel_size=(3,3), activation='relu', padding='same'),\n",
        "                layers.MaxPooling2D(pool_size=(2,2)),\n",
        "\n",
        "                layers.Conv2D(filters=128, kernel_size=(3,3), activation='relu', padding='same'),\n",
        "                layers.MaxPooling2D(pool_size=(2,2)),\n",
        "\n",
        "                layers.Conv2D(filters=256, kernel_size=(3,3), activation='relu', padding='same'),\n",
        "                layers.MaxPooling2D(pool_size=(2,2)),\n",
        "\n",
        "                layers.Flatten(),\n",
        "                layers.Dropout(rate=0.5),\n",
        "\n",
        "                layers.Dense(units=512, activation='relu'),\n",
        "\n",
        "                layers.Dense(units=100, activation='softmax'),\n",
        "                ])\n",
        "\n",
        "model.summary()"
      ]
    },
    {
      "cell_type": "markdown",
      "metadata": {
        "id": "xTu0HkYqbZ5F"
      },
      "source": [
        "Notice that we used the `padding = \"same\"` argument to\n",
        "`Conv2D()`, which ensures that the output channels have the\n",
        "same dimension as the input channels. There are 32 channels in the first\n",
        "hidden layer, in contrast to the three channels in the input layer.\n",
        "\n",
        "\n",
        "By studying the summary, we can see that the channels halve in both\n",
        "dimensions after each of these max-pooling operations.\n",
        "\n",
        "After the last of these we\n",
        "have a layer with  256 channels of dimension $2\\times 2$.\n",
        "\n",
        "These are then\n",
        "flattened to a dense layer of size 1,024:\n",
        "in other words, each of the $2\\times 2$ matrices is turned into a\n",
        "$4$-vector, and put side-by-side in one layer.\n",
        "\n",
        "This is followed by a\n",
        "dropout regularization layer,  then\n",
        "another dense layer of size 512, which finally reaches the softmax\n",
        "output layer.\n",
        "\n",
        "\n",
        "Finally, we specify the training configuration, and fit the model."
      ]
    },
    {
      "cell_type": "markdown",
      "source": [
        "> ##### **Question**\n",
        ">\n",
        "> - How many weights and biases (trainable parameters) are there in this CNN? How does this compare with the feed forward model you created for MNIST?"
      ],
      "metadata": {
        "id": "4rkCQcwzmXzo"
      }
    },
    {
      "cell_type": "markdown",
      "source": [
        "#### Training configuration and model training\n",
        "Here we will follow the same recipe as with the MNIST example.\n",
        "\n",
        "Note that this will be a slow training process."
      ],
      "metadata": {
        "id": "8UbXirlussb7"
      }
    },
    {
      "cell_type": "code",
      "source": [
        "# Training configuration\n",
        "\n",
        "model.compile(optimizer='rmsprop', loss='categorical_crossentropy', metrics=['accuracy'])"
      ],
      "metadata": {
        "id": "Mb2Y6LahwvVI"
      },
      "execution_count": null,
      "outputs": []
    },
    {
      "cell_type": "code",
      "execution_count": null,
      "metadata": {
        "colab": {
          "base_uri": "https://localhost:8080/"
        },
        "id": "o6L4eEmybiyF",
        "outputId": "0ced36e9-cbad-452f-86eb-6726c1fbcbf0"
      },
      "outputs": [
        {
          "output_type": "stream",
          "name": "stdout",
          "text": [
            "306/313 [============================>.] - ETA: 3s - loss: 3.3209 - accuracy: 0.1962"
          ]
        }
      ],
      "source": [
        "# Model training\n",
        "\n",
        "history = model.fit(X_train,\n",
        "                    y_train,\n",
        "                    epochs=30,\n",
        "                    # epochs=10,\n",
        "                    batch_size=128,\n",
        "                    validation_split=0.2)\n",
        "\n"
      ]
    },
    {
      "cell_type": "code",
      "source": [
        "# Model evaluation on the test set!\n",
        "\n",
        "eval_results = model.evaluate(X_test, y_test)\n",
        "print(\"Test crossentropy loss:\", eval_results[0])\n",
        "print(\"Test accuracy:\", eval_results[1])"
      ],
      "metadata": {
        "id": "qGAPRGjkw62k"
      },
      "execution_count": null,
      "outputs": []
    },
    {
      "cell_type": "markdown",
      "metadata": {
        "id": "8zqY2q17usS-"
      },
      "source": [
        "This model takes 10 minutes to run and achieves 38-46% accuracy on the test\n",
        "data. Although this is not terrible for 100-class data (a random\n",
        "classifier gets 1% accuracy).\n",
        "\n",
        "\n",
        "Searching the web, we see [results](https://benchmarks.ai/cifar-100) above 90%.\n",
        "\n",
        "Typically it takes a lot of architecture carpentry,\n",
        "fiddling with regularization, and time to achieve such results.\n",
        "\n",
        "> ##### Question\n",
        ">\n",
        "> - Do you think that a feed forward network could also work well in the case of CIFAR? Explain why.\n"
      ]
    },
    {
      "cell_type": "markdown",
      "metadata": {
        "id": "f-6qUOI1abyR"
      },
      "source": [
        "## 4. Pretrained CNN model for image classification"
      ]
    },
    {
      "cell_type": "markdown",
      "metadata": {
        "id": "zDlnKRc9dIBl"
      },
      "source": [
        "Training deep learning models is a challenging and time-cosnuming task that requires very big datasets, and deep architectures. Therefore, common deep learning models are made available along with their pre-trained parameters! This allows the AI community to reuse the models, for predictions in new applications.\n",
        "\n",
        "\n",
        "[Keras Applications](https://keras.io/api/applications/) are deep learning models that are made available alongside pre-trained weights. These models can be used for prediction, feature extraction, and fine-tuning.\n",
        "\n",
        "\n",
        "Below we will demonstrate how we use a CNN pretrained model to classify natural images. We will use ResNet50, and model that has been trained on the [ImageNet](https://www.image-net.org/) dataset. ImageNet is a large-scale image recognition dataset that was created in 2009. It is a widely used benchmark for evaluating the performance of image recognition algorithms, particularly convolutional neural networks (CNNs). The dataset contains over 14 million images, each of which is labeled with one of 21,841 categories.\n",
        "\n",
        "\n",
        "\n",
        "\n",
        "\n",
        "We will show how to use a pre-trained ReNet50 model to produce *Figure 10.10*.\n",
        "\n",
        "#### Load image examples\n",
        "We copied six jpeg images from a digital photo album into the\n",
        "directory `book_images`. We first read in the images a folder.\n",
        "Then we convert them into the array format (256 x 256) to match the specifications in `imagenet` dateset."
      ]
    },
    {
      "cell_type": "code",
      "source": [
        "# Get book images\n",
        "!wget -nc -q -P book_images https://git.wur.nl/koots006/msc-course-machine-learning/-/raw/main/islr_data/book_images/book_images/flamingo.jpg https://git.wur.nl/koots006/msc-course-machine-learning/-/raw/main/islr_data/book_images/book_images/hawk.jpg https://git.wur.nl/koots006/msc-course-machine-learning/-/raw/main/islr_data/book_images/book_images/hawk_cropped.jpeg https://git.wur.nl/koots006/msc-course-machine-learning/-/raw/main/islr_data/book_images/book_images/huey.jpg https://git.wur.nl/koots006/msc-course-machine-learning/-/raw/main/islr_data/book_images/book_images/kitty.jpg https://git.wur.nl/koots006/msc-course-machine-learning/-/raw/main/islr_data/book_images/book_images/weaver.jpg\n",
        "img_dir = 'book_images/'"
      ],
      "metadata": {
        "id": "FcIgghqfxiyO"
      },
      "execution_count": null,
      "outputs": []
    },
    {
      "cell_type": "code",
      "source": [
        "#  browse the image directory and load the all the image names\n",
        "img_names = []\n",
        "for root, _, files in os.walk(img_dir):\n",
        "    for file in files:\n",
        "        if file.lower().endswith(('.jpg','.jpeg')):\n",
        "            img_names.append(os.path.abspath(os.path.join(root, file)))\n",
        "\n",
        "# save the number of images\n",
        "num_img = len(img_names)\n"
      ],
      "metadata": {
        "id": "ODXxIziWBGsf"
      },
      "execution_count": null,
      "outputs": []
    },
    {
      "cell_type": "code",
      "source": [
        "# load all the images in a single array X,\n",
        "# and keep all_images for visualization\n",
        "\n",
        "X = np.ndarray(shape=(num_img, 224, 224, 3))\n",
        "all_images = []\n",
        "\n",
        "for i in range(num_img):\n",
        "    img = keras.utils.load_img(img_names[i], target_size=(224, 224))\n",
        "    all_images.append(img)\n",
        "    x = keras.utils.img_to_array(img)\n",
        "    x = np.expand_dims(x, axis=0)\n",
        "    X[i,:,:,:] = x\n",
        "\n",
        "# preprocess the input for imagenet\n",
        "X = preprocess_input(X)"
      ],
      "metadata": {
        "id": "pFhpjcw2DZHx"
      },
      "execution_count": null,
      "outputs": []
    },
    {
      "cell_type": "markdown",
      "metadata": {
        "id": "jQpABeaXZ2j-"
      },
      "source": [
        "Showing the 6 images:"
      ]
    },
    {
      "cell_type": "code",
      "execution_count": null,
      "metadata": {
        "id": "-sf8t4TVaOpU"
      },
      "outputs": [],
      "source": [
        "plt.figure(figsize=(8,12))\n",
        "for i in range(num_img):\n",
        "    plt.subplot(3,2,i+1)\n",
        "    plt.imshow(all_images[i])\n",
        "    plt.title(img_names[i])\n",
        "plt.show()"
      ]
    },
    {
      "cell_type": "markdown",
      "metadata": {
        "id": "onsHWI8yd8vW"
      },
      "source": [
        "#### Load the pretrained network\n",
        "We load the trained network from the web! Keras provides this functionality, with a single line: `ResNet50(weights='imagenet')`, ie use the ResNet50 architecture with weights trained with ImageNet!\n",
        "\n",
        "The model has 50 layers, with a fair bit of complexity.\n",
        "\n",
        "If you want, print the model summary!"
      ]
    },
    {
      "cell_type": "code",
      "execution_count": null,
      "metadata": {
        "id": "-axqMUsKd-pR"
      },
      "outputs": [],
      "source": [
        "model = ResNet50(weights='imagenet')\n",
        "# model.summary()"
      ]
    },
    {
      "cell_type": "markdown",
      "metadata": {
        "id": "s1vy3e3qd_CE"
      },
      "source": [
        "#### Predict with own images\n",
        "Loading the model was easy. Finally, we classify all our images, and return the top five (out of thousand) class\n",
        "choices in terms of predicted probability for each."
      ]
    },
    {
      "cell_type": "code",
      "execution_count": null,
      "metadata": {
        "id": "ZeyXgMIpd94s"
      },
      "outputs": [],
      "source": [
        "# predicts probability of each output class\n",
        "predictions = model.predict(X)\n",
        "\n",
        "# decode the predictions so that we see class names\n",
        "# This is also supported from the imagenet_utils\n",
        "decoded_preds = decode_predictions(predictions, top=5)\n",
        "decoded_preds"
      ]
    },
    {
      "cell_type": "markdown",
      "source": [
        "Finally, visualize again the figures, together with the top-two predicted labels.\n",
        "\n",
        "\n"
      ],
      "metadata": {
        "id": "VC_zd6YvGucF"
      }
    },
    {
      "cell_type": "code",
      "execution_count": null,
      "metadata": {
        "id": "BcIiF9o0bhop"
      },
      "outputs": [],
      "source": [
        "# organize the labels\n",
        "labels = [[f\"\"\"{decoded_preds[i][j][1]}({decoded_preds[i][j][2]:.2f})\"\"\" for j in range(2)] for i in range(num_img)]\n",
        "\n",
        "# plot again the figures, with assigned labels\n",
        "plt.figure(figsize=(10,20))\n",
        "for i in range(num_img):\n",
        "  plt.subplot(3,2,i+1)\n",
        "  plt.imshow(all_images[i])\n",
        "  plt.title(labels[i])\n",
        "plt.show()"
      ]
    },
    {
      "cell_type": "markdown",
      "metadata": {
        "id": "f_IgX7Psnh1q"
      },
      "source": [
        "> **Discussion Question**\n",
        ">\n",
        "> - What do you think of the suggestions from the neural network? Do they make sense to you?\n",
        "> - Is it confident when giving wrong labels?"
      ]
    },
    {
      "cell_type": "markdown",
      "source": [
        "> ##### ** Extra exercise**\n",
        ">\n",
        "> (optional if you have time at the end of today)\n",
        "> - Repeat the above exercise with your own images, or images you download from the web! What do you think of ResNet50 performance?"
      ],
      "metadata": {
        "id": "16bDBomFm7vo"
      }
    },
    {
      "cell_type": "markdown",
      "source": [
        "## Summary\n",
        "By now, you have mastered a lot with Neural Networks:\n",
        "- You have learned how to create and train simple feed forward networks, and use them for regression and classification tasks.\n",
        "- You have also trained your first convolutional neural network for classifying images.\n",
        "- Last, you have reused a pre trained network, and applied it on your own data!\n",
        "\n",
        "If you still have time, there is a data challenge for you below."
      ],
      "metadata": {
        "id": "j0ZfaVYlHY2L"
      }
    },
    {
      "cell_type": "markdown",
      "source": [
        "## Free style exercise: use all you know to get the best results on MNIST!"
      ],
      "metadata": {
        "id": "iOb10yJcYQoA"
      }
    },
    {
      "cell_type": "markdown",
      "source": [
        "You have seen how to load MNIST and how to train CNNs.\n",
        "\n",
        "Can you train a CNN that outperforms the Multilayer Network above in detecting handwritten numbers?\n",
        "\n",
        "Report your [results online](https://app.wooclap.com/WURML)"
      ],
      "metadata": {
        "id": "LCt_TVYCZE46"
      }
    },
    {
      "cell_type": "code",
      "source": [
        "## TODO: Build and train your MNIST CNN here!"
      ],
      "metadata": {
        "id": "z2pG3mXjZdp7"
      },
      "execution_count": null,
      "outputs": []
    }
  ],
  "metadata": {
    "colab": {
      "collapsed_sections": [
        "9sPwfcw-upY6"
      ],
      "provenance": [],
      "toc_visible": true
    },
    "kernelspec": {
      "display_name": "Python 3",
      "name": "python3"
    },
    "language_info": {
      "codemirror_mode": {
        "name": "ipython",
        "version": 3
      },
      "file_extension": ".py",
      "mimetype": "text/x-python",
      "name": "python",
      "nbconvert_exporter": "python",
      "pygments_lexer": "ipython3",
      "version": "3.9.2"
    }
  },
  "nbformat": 4,
  "nbformat_minor": 0
}