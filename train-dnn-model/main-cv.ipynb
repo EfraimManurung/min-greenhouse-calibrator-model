{
 "cells": [
  {
   "cell_type": "markdown",
   "metadata": {},
   "source": [
    "# Main Program for Cross Validation\n",
    "\n",
    "Author: Efraim Manurung\n",
    "\n",
    "MSc Thesis in Information Technology Group, Wageningen University\n",
    "\n",
    "efraim.manurung@gmail.com"
   ]
  },
  {
   "cell_type": "code",
   "execution_count": 14,
   "metadata": {},
   "outputs": [],
   "source": [
    "import pandas as pd\n",
    "import numpy as np\n",
    "from sklearn.model_selection import KFold\n",
    "from sklearn.preprocessing import StandardScaler\n",
    "from sklearn.metrics import mean_squared_error, mean_absolute_error, r2_score\n",
    "import tensorflow as tf\n",
    "from tensorflow.keras.models import Sequential\n",
    "from tensorflow.keras.layers import Dense, Dropout\n",
    "from tensorflow.keras.optimizers import Adam"
   ]
  },
  {
   "cell_type": "code",
   "execution_count": 15,
   "metadata": {},
   "outputs": [
    {
     "data": {
      "text/html": [
       "<div>\n",
       "<style scoped>\n",
       "    .dataframe tbody tr th:only-of-type {\n",
       "        vertical-align: middle;\n",
       "    }\n",
       "\n",
       "    .dataframe tbody tr th {\n",
       "        vertical-align: top;\n",
       "    }\n",
       "\n",
       "    .dataframe thead th {\n",
       "        text-align: right;\n",
       "    }\n",
       "</style>\n",
       "<table border=\"1\" class=\"dataframe\">\n",
       "  <thead>\n",
       "    <tr style=\"text-align: right;\">\n",
       "      <th></th>\n",
       "      <th>time</th>\n",
       "      <th>global out</th>\n",
       "      <th>global in</th>\n",
       "      <th>temp in</th>\n",
       "      <th>temp out</th>\n",
       "      <th>rh in</th>\n",
       "      <th>rh out</th>\n",
       "      <th>co2 in</th>\n",
       "      <th>co2 out</th>\n",
       "      <th>toplights</th>\n",
       "      <th>ventilation</th>\n",
       "      <th>heater</th>\n",
       "      <th>Unnamed: 12</th>\n",
       "      <th>Unnamed: 13</th>\n",
       "    </tr>\n",
       "  </thead>\n",
       "  <tbody>\n",
       "    <tr>\n",
       "      <th>0</th>\n",
       "      <td>0</td>\n",
       "      <td>0.032943</td>\n",
       "      <td>0.0</td>\n",
       "      <td>19.806459</td>\n",
       "      <td>22.685000</td>\n",
       "      <td>62.243682</td>\n",
       "      <td>52.775000</td>\n",
       "      <td>409.000000</td>\n",
       "      <td>1530.5</td>\n",
       "      <td>1</td>\n",
       "      <td>0.0</td>\n",
       "      <td>0</td>\n",
       "      <td>dataset3</td>\n",
       "      <td>May</td>\n",
       "    </tr>\n",
       "    <tr>\n",
       "      <th>1</th>\n",
       "      <td>300</td>\n",
       "      <td>0.032943</td>\n",
       "      <td>0.0</td>\n",
       "      <td>19.806459</td>\n",
       "      <td>22.685000</td>\n",
       "      <td>62.243682</td>\n",
       "      <td>52.775000</td>\n",
       "      <td>409.000000</td>\n",
       "      <td>1530.5</td>\n",
       "      <td>1</td>\n",
       "      <td>0.0</td>\n",
       "      <td>0</td>\n",
       "      <td>NaN</td>\n",
       "      <td>NaN</td>\n",
       "    </tr>\n",
       "    <tr>\n",
       "      <th>2</th>\n",
       "      <td>600</td>\n",
       "      <td>0.032943</td>\n",
       "      <td>0.0</td>\n",
       "      <td>19.889053</td>\n",
       "      <td>22.745000</td>\n",
       "      <td>62.040377</td>\n",
       "      <td>52.510000</td>\n",
       "      <td>409.000000</td>\n",
       "      <td>1506.5</td>\n",
       "      <td>1</td>\n",
       "      <td>0.0</td>\n",
       "      <td>0</td>\n",
       "      <td>NaN</td>\n",
       "      <td>NaN</td>\n",
       "    </tr>\n",
       "    <tr>\n",
       "      <th>3</th>\n",
       "      <td>900</td>\n",
       "      <td>0.032943</td>\n",
       "      <td>0.0</td>\n",
       "      <td>20.017409</td>\n",
       "      <td>22.823333</td>\n",
       "      <td>61.694059</td>\n",
       "      <td>52.213333</td>\n",
       "      <td>408.333333</td>\n",
       "      <td>1455.0</td>\n",
       "      <td>1</td>\n",
       "      <td>0.0</td>\n",
       "      <td>0</td>\n",
       "      <td>NaN</td>\n",
       "      <td>NaN</td>\n",
       "    </tr>\n",
       "    <tr>\n",
       "      <th>4</th>\n",
       "      <td>1200</td>\n",
       "      <td>0.032943</td>\n",
       "      <td>0.0</td>\n",
       "      <td>20.145762</td>\n",
       "      <td>22.865000</td>\n",
       "      <td>61.322003</td>\n",
       "      <td>52.015000</td>\n",
       "      <td>408.000000</td>\n",
       "      <td>1413.0</td>\n",
       "      <td>1</td>\n",
       "      <td>0.0</td>\n",
       "      <td>0</td>\n",
       "      <td>NaN</td>\n",
       "      <td>NaN</td>\n",
       "    </tr>\n",
       "  </tbody>\n",
       "</table>\n",
       "</div>"
      ],
      "text/plain": [
       "   time  global out  global in    temp in   temp out      rh in     rh out  \\\n",
       "0     0    0.032943        0.0  19.806459  22.685000  62.243682  52.775000   \n",
       "1   300    0.032943        0.0  19.806459  22.685000  62.243682  52.775000   \n",
       "2   600    0.032943        0.0  19.889053  22.745000  62.040377  52.510000   \n",
       "3   900    0.032943        0.0  20.017409  22.823333  61.694059  52.213333   \n",
       "4  1200    0.032943        0.0  20.145762  22.865000  61.322003  52.015000   \n",
       "\n",
       "       co2 in  co2 out  toplights  ventilation  heater Unnamed: 12 Unnamed: 13  \n",
       "0  409.000000   1530.5          1          0.0       0    dataset3         May  \n",
       "1  409.000000   1530.5          1          0.0       0         NaN         NaN  \n",
       "2  409.000000   1506.5          1          0.0       0         NaN         NaN  \n",
       "3  408.333333   1455.0          1          0.0       0         NaN         NaN  \n",
       "4  408.000000   1413.0          1          0.0       0         NaN         NaN  "
      ]
     },
     "execution_count": 15,
     "metadata": {},
     "output_type": "execute_result"
    }
   ],
   "source": [
    "# Load the datasets from separate files\n",
    "file_path = r\"iot-datasets-train-dnn-parameters.xlsx\"\n",
    "\n",
    "# Load and clean the training dataset\n",
    "mgh_data = pd.read_excel(file_path)\n",
    "\n",
    "# Display the first few rows of the dataframe\n",
    "mgh_data.head()"
   ]
  },
  {
   "cell_type": "code",
   "execution_count": 16,
   "metadata": {},
   "outputs": [],
   "source": [
    "def r2_score_metric(y_true, y_pred):\n",
    "    \"\"\"Custom R2 score metric\"\"\"\n",
    "    SS_res =  tf.reduce_sum(tf.square(y_true - y_pred)) \n",
    "    SS_tot = tf.reduce_sum(tf.square(y_true - tf.reduce_mean(y_true))) \n",
    "    return (1 - SS_res/(SS_tot + tf.keras.backend.epsilon()))\n",
    "\n",
    "def build_model(input_dim):\n",
    "    model = Sequential()\n",
    "    model.add(Dense(128, input_dim=input_dim, activation='relu'))  # More neurons\n",
    "    model.add(Dropout(0.2))\n",
    "    model.add(Dense(64, activation='relu'))  # Additional hidden layer\n",
    "    model.add(Dropout(0.2))\n",
    "    model.add(Dense(32, activation='relu'))  # Additional hidden layer\n",
    "    model.add(Dropout(0.2))\n",
    "    model.add(Dense(1))\n",
    "    \n",
    "    adam = Adam(learning_rate=0.001, use_ema=True, ema_momentum=0.9)\n",
    "    model.compile(optimizer=adam, loss='mean_squared_error', metrics=['mae', r2_score_metric])\n",
    "    \n",
    "    return model\n",
    "\n",
    "def cross_validate_model(target_variable, _epochs=100, _batch_size=10):\n",
    "    features = ['time', 'global out', 'temp out', 'rh out', 'co2 out', 'ventilation', 'toplights', 'heater']\n",
    "    \n",
    "    X = mgh_data[features]\n",
    "    y = mgh_data[target_variable]\n",
    "\n",
    "    # Initialize KFold with 10 splits\n",
    "    kf = KFold(n_splits=10, shuffle=True, random_state=42)\n",
    "    \n",
    "    rmse_scores = []\n",
    "    mae_scores = []\n",
    "    r2_scores = []\n",
    "\n",
    "    for train_index, val_index in kf.split(X):\n",
    "        X_train, X_val = X.iloc[train_index], X.iloc[val_index]\n",
    "        y_train, y_val = y.iloc[train_index], y.iloc[val_index]\n",
    "        \n",
    "        # Initialize and fit the scaler on the training data\n",
    "        scaler = StandardScaler()\n",
    "        X_train_scaled = scaler.fit_transform(X_train)\n",
    "        X_val_scaled = scaler.transform(X_val)\n",
    "\n",
    "        model = build_model(X_train_scaled.shape[1])\n",
    "        \n",
    "        model.fit(X_train_scaled, y_train, epochs=_epochs, batch_size=_batch_size, verbose=1)\n",
    "        \n",
    "        y_val_pred = model.predict(X_val_scaled)\n",
    "\n",
    "        mse = mean_squared_error(y_val, y_val_pred)\n",
    "        rmse = np.sqrt(mse)\n",
    "        mae = mean_absolute_error(y_val, y_val_pred)\n",
    "        r2 = r2_score(y_val, y_val_pred)\n",
    "        \n",
    "        rmse_scores.append(rmse)\n",
    "        mae_scores.append(mae)\n",
    "        r2_scores.append(r2)\n",
    "    \n",
    "    print(\"Target variable : \", target_variable)\n",
    "    print(\"10-Fold Cross-Validation Scores:\")\n",
    "    for i, (rmse, mae, r2) in enumerate(zip(rmse_scores, mae_scores, r2_scores)):\n",
    "        print(f\"Fold {i+1}: RMSE = {rmse:.4f}, MAE = {mae:.4f}, R2 = {r2:.4f}\")\n",
    "    \n",
    "    print(f\"\\nAverage RMSE: {np.mean(rmse_scores):.4f}\")\n",
    "    print(f\"Average MAE: {np.mean(mae_scores):.4f}\")\n",
    "    print(f\"Average R2: {np.mean(r2_scores):.4f}\")"
   ]
  },
  {
   "cell_type": "code",
   "execution_count": 17,
   "metadata": {},
   "outputs": [
    {
     "name": "stderr",
     "output_type": "stream",
     "text": [
      "c:\\Users\\frm19\\AppData\\Local\\Programs\\Python\\Python310\\lib\\site-packages\\keras\\src\\layers\\core\\dense.py:87: UserWarning: Do not pass an `input_shape`/`input_dim` argument to a layer. When using Sequential models, prefer using an `Input(shape)` object as the first layer in the model instead.\n",
      "  super().__init__(activity_regularizer=activity_regularizer, **kwargs)\n"
     ]
    },
    {
     "name": "stdout",
     "output_type": "stream",
     "text": [
      "\u001b[1m4492/4492\u001b[0m \u001b[32m━━━━━━━━━━━━━━━━━━━━\u001b[0m\u001b[37m\u001b[0m \u001b[1m7s\u001b[0m 1ms/step - loss: 1.6380 - mae: 0.6639 - r2_score_metric: -2.2341\n",
      "\u001b[1m63/63\u001b[0m \u001b[32m━━━━━━━━━━━━━━━━━━━━\u001b[0m\u001b[37m\u001b[0m \u001b[1m0s\u001b[0m 2ms/step\n"
     ]
    },
    {
     "name": "stderr",
     "output_type": "stream",
     "text": [
      "c:\\Users\\frm19\\AppData\\Local\\Programs\\Python\\Python310\\lib\\site-packages\\keras\\src\\layers\\core\\dense.py:87: UserWarning: Do not pass an `input_shape`/`input_dim` argument to a layer. When using Sequential models, prefer using an `Input(shape)` object as the first layer in the model instead.\n",
      "  super().__init__(activity_regularizer=activity_regularizer, **kwargs)\n"
     ]
    },
    {
     "name": "stdout",
     "output_type": "stream",
     "text": [
      "\u001b[1m4492/4492\u001b[0m \u001b[32m━━━━━━━━━━━━━━━━━━━━\u001b[0m\u001b[37m\u001b[0m \u001b[1m6s\u001b[0m 1ms/step - loss: 1.5678 - mae: 0.6595 - r2_score_metric: -2.1418\n",
      "\u001b[1m63/63\u001b[0m \u001b[32m━━━━━━━━━━━━━━━━━━━━\u001b[0m\u001b[37m\u001b[0m \u001b[1m0s\u001b[0m 1ms/step\n"
     ]
    },
    {
     "name": "stderr",
     "output_type": "stream",
     "text": [
      "c:\\Users\\frm19\\AppData\\Local\\Programs\\Python\\Python310\\lib\\site-packages\\keras\\src\\layers\\core\\dense.py:87: UserWarning: Do not pass an `input_shape`/`input_dim` argument to a layer. When using Sequential models, prefer using an `Input(shape)` object as the first layer in the model instead.\n",
      "  super().__init__(activity_regularizer=activity_regularizer, **kwargs)\n"
     ]
    },
    {
     "name": "stdout",
     "output_type": "stream",
     "text": [
      "\u001b[1m4492/4492\u001b[0m \u001b[32m━━━━━━━━━━━━━━━━━━━━\u001b[0m\u001b[37m\u001b[0m \u001b[1m7s\u001b[0m 1ms/step - loss: 1.5142 - mae: 0.6455 - r2_score_metric: -1272243.6250\n",
      "\u001b[1m63/63\u001b[0m \u001b[32m━━━━━━━━━━━━━━━━━━━━\u001b[0m\u001b[37m\u001b[0m \u001b[1m0s\u001b[0m 1ms/step  \n"
     ]
    },
    {
     "name": "stderr",
     "output_type": "stream",
     "text": [
      "c:\\Users\\frm19\\AppData\\Local\\Programs\\Python\\Python310\\lib\\site-packages\\keras\\src\\layers\\core\\dense.py:87: UserWarning: Do not pass an `input_shape`/`input_dim` argument to a layer. When using Sequential models, prefer using an `Input(shape)` object as the first layer in the model instead.\n",
      "  super().__init__(activity_regularizer=activity_regularizer, **kwargs)\n"
     ]
    },
    {
     "name": "stdout",
     "output_type": "stream",
     "text": [
      "\u001b[1m4492/4492\u001b[0m \u001b[32m━━━━━━━━━━━━━━━━━━━━\u001b[0m\u001b[37m\u001b[0m \u001b[1m8s\u001b[0m 1ms/step - loss: 1.7096 - mae: 0.7195 - r2_score_metric: -1.2397\n",
      "\u001b[1m63/63\u001b[0m \u001b[32m━━━━━━━━━━━━━━━━━━━━\u001b[0m\u001b[37m\u001b[0m \u001b[1m0s\u001b[0m 1ms/step\n"
     ]
    },
    {
     "name": "stderr",
     "output_type": "stream",
     "text": [
      "c:\\Users\\frm19\\AppData\\Local\\Programs\\Python\\Python310\\lib\\site-packages\\keras\\src\\layers\\core\\dense.py:87: UserWarning: Do not pass an `input_shape`/`input_dim` argument to a layer. When using Sequential models, prefer using an `Input(shape)` object as the first layer in the model instead.\n",
      "  super().__init__(activity_regularizer=activity_regularizer, **kwargs)\n"
     ]
    },
    {
     "name": "stdout",
     "output_type": "stream",
     "text": [
      "\u001b[1m4492/4492\u001b[0m \u001b[32m━━━━━━━━━━━━━━━━━━━━\u001b[0m\u001b[37m\u001b[0m \u001b[1m8s\u001b[0m 1ms/step - loss: 1.4721 - mae: 0.6463 - r2_score_metric: -1.7606\n",
      "\u001b[1m63/63\u001b[0m \u001b[32m━━━━━━━━━━━━━━━━━━━━\u001b[0m\u001b[37m\u001b[0m \u001b[1m0s\u001b[0m 903us/step\n"
     ]
    },
    {
     "name": "stderr",
     "output_type": "stream",
     "text": [
      "c:\\Users\\frm19\\AppData\\Local\\Programs\\Python\\Python310\\lib\\site-packages\\keras\\src\\layers\\core\\dense.py:87: UserWarning: Do not pass an `input_shape`/`input_dim` argument to a layer. When using Sequential models, prefer using an `Input(shape)` object as the first layer in the model instead.\n",
      "  super().__init__(activity_regularizer=activity_regularizer, **kwargs)\n"
     ]
    },
    {
     "name": "stdout",
     "output_type": "stream",
     "text": [
      "\u001b[1m4492/4492\u001b[0m \u001b[32m━━━━━━━━━━━━━━━━━━━━\u001b[0m\u001b[37m\u001b[0m \u001b[1m7s\u001b[0m 1ms/step - loss: 1.4338 - mae: 0.6549 - r2_score_metric: -1007.2889\n",
      "\u001b[1m63/63\u001b[0m \u001b[32m━━━━━━━━━━━━━━━━━━━━\u001b[0m\u001b[37m\u001b[0m \u001b[1m0s\u001b[0m 1ms/step\n"
     ]
    },
    {
     "name": "stderr",
     "output_type": "stream",
     "text": [
      "c:\\Users\\frm19\\AppData\\Local\\Programs\\Python\\Python310\\lib\\site-packages\\keras\\src\\layers\\core\\dense.py:87: UserWarning: Do not pass an `input_shape`/`input_dim` argument to a layer. When using Sequential models, prefer using an `Input(shape)` object as the first layer in the model instead.\n",
      "  super().__init__(activity_regularizer=activity_regularizer, **kwargs)\n"
     ]
    },
    {
     "name": "stdout",
     "output_type": "stream",
     "text": [
      "\u001b[1m4492/4492\u001b[0m \u001b[32m━━━━━━━━━━━━━━━━━━━━\u001b[0m\u001b[37m\u001b[0m \u001b[1m7s\u001b[0m 1ms/step - loss: 1.6036 - mae: 0.6881 - r2_score_metric: -6.2864\n",
      "\u001b[1m63/63\u001b[0m \u001b[32m━━━━━━━━━━━━━━━━━━━━\u001b[0m\u001b[37m\u001b[0m \u001b[1m0s\u001b[0m 1ms/step\n"
     ]
    },
    {
     "name": "stderr",
     "output_type": "stream",
     "text": [
      "c:\\Users\\frm19\\AppData\\Local\\Programs\\Python\\Python310\\lib\\site-packages\\keras\\src\\layers\\core\\dense.py:87: UserWarning: Do not pass an `input_shape`/`input_dim` argument to a layer. When using Sequential models, prefer using an `Input(shape)` object as the first layer in the model instead.\n",
      "  super().__init__(activity_regularizer=activity_regularizer, **kwargs)\n"
     ]
    },
    {
     "name": "stdout",
     "output_type": "stream",
     "text": [
      "\u001b[1m4492/4492\u001b[0m \u001b[32m━━━━━━━━━━━━━━━━━━━━\u001b[0m\u001b[37m\u001b[0m \u001b[1m7s\u001b[0m 1ms/step - loss: 1.8146 - mae: 0.7091 - r2_score_metric: -5.3585\n",
      "\u001b[1m63/63\u001b[0m \u001b[32m━━━━━━━━━━━━━━━━━━━━\u001b[0m\u001b[37m\u001b[0m \u001b[1m0s\u001b[0m 1ms/step\n"
     ]
    },
    {
     "name": "stderr",
     "output_type": "stream",
     "text": [
      "c:\\Users\\frm19\\AppData\\Local\\Programs\\Python\\Python310\\lib\\site-packages\\keras\\src\\layers\\core\\dense.py:87: UserWarning: Do not pass an `input_shape`/`input_dim` argument to a layer. When using Sequential models, prefer using an `Input(shape)` object as the first layer in the model instead.\n",
      "  super().__init__(activity_regularizer=activity_regularizer, **kwargs)\n"
     ]
    },
    {
     "name": "stdout",
     "output_type": "stream",
     "text": [
      "\u001b[1m4492/4492\u001b[0m \u001b[32m━━━━━━━━━━━━━━━━━━━━\u001b[0m\u001b[37m\u001b[0m \u001b[1m7s\u001b[0m 1ms/step - loss: 1.7409 - mae: 0.7128 - r2_score_metric: -297.6247\n",
      "\u001b[1m63/63\u001b[0m \u001b[32m━━━━━━━━━━━━━━━━━━━━\u001b[0m\u001b[37m\u001b[0m \u001b[1m0s\u001b[0m 766us/step\n"
     ]
    },
    {
     "name": "stderr",
     "output_type": "stream",
     "text": [
      "c:\\Users\\frm19\\AppData\\Local\\Programs\\Python\\Python310\\lib\\site-packages\\keras\\src\\layers\\core\\dense.py:87: UserWarning: Do not pass an `input_shape`/`input_dim` argument to a layer. When using Sequential models, prefer using an `Input(shape)` object as the first layer in the model instead.\n",
      "  super().__init__(activity_regularizer=activity_regularizer, **kwargs)\n"
     ]
    },
    {
     "name": "stdout",
     "output_type": "stream",
     "text": [
      "\u001b[1m4492/4492\u001b[0m \u001b[32m━━━━━━━━━━━━━━━━━━━━\u001b[0m\u001b[37m\u001b[0m \u001b[1m6s\u001b[0m 1ms/step - loss: 1.5693 - mae: 0.6713 - r2_score_metric: -3.2315\n",
      "\u001b[1m63/63\u001b[0m \u001b[32m━━━━━━━━━━━━━━━━━━━━\u001b[0m\u001b[37m\u001b[0m \u001b[1m0s\u001b[0m 1ms/step\n",
      "Target variable :  global in\n",
      "10-Fold Cross-Validation Scores:\n",
      "Fold 1: RMSE = 0.8447, MAE = 0.3121, R2 = 0.8601\n",
      "Fold 2: RMSE = 0.6616, MAE = 0.3222, R2 = 0.9027\n",
      "Fold 3: RMSE = 0.7650, MAE = 0.3273, R2 = 0.8755\n",
      "Fold 4: RMSE = 0.7358, MAE = 0.3382, R2 = 0.8874\n",
      "Fold 5: RMSE = 0.7580, MAE = 0.3296, R2 = 0.8859\n",
      "Fold 6: RMSE = 0.8832, MAE = 0.3422, R2 = 0.8471\n",
      "Fold 7: RMSE = 0.6151, MAE = 0.2972, R2 = 0.9146\n",
      "Fold 8: RMSE = 0.6946, MAE = 0.3107, R2 = 0.8859\n",
      "Fold 9: RMSE = 0.8136, MAE = 0.3396, R2 = 0.8717\n",
      "Fold 10: RMSE = 0.8823, MAE = 0.4187, R2 = 0.8395\n",
      "\n",
      "Average RMSE: 0.7654\n",
      "Average MAE: 0.3338\n",
      "Average R2: 0.8770\n"
     ]
    },
    {
     "name": "stderr",
     "output_type": "stream",
     "text": [
      "c:\\Users\\frm19\\AppData\\Local\\Programs\\Python\\Python310\\lib\\site-packages\\keras\\src\\layers\\core\\dense.py:87: UserWarning: Do not pass an `input_shape`/`input_dim` argument to a layer. When using Sequential models, prefer using an `Input(shape)` object as the first layer in the model instead.\n",
      "  super().__init__(activity_regularizer=activity_regularizer, **kwargs)\n"
     ]
    },
    {
     "name": "stdout",
     "output_type": "stream",
     "text": [
      "\u001b[1m4492/4492\u001b[0m \u001b[32m━━━━━━━━━━━━━━━━━━━━\u001b[0m\u001b[37m\u001b[0m \u001b[1m6s\u001b[0m 1ms/step - loss: 50.1656 - mae: 4.8065 - r2_score_metric: -138.2294\n",
      "\u001b[1m63/63\u001b[0m \u001b[32m━━━━━━━━━━━━━━━━━━━━\u001b[0m\u001b[37m\u001b[0m \u001b[1m0s\u001b[0m 1ms/step\n"
     ]
    },
    {
     "name": "stderr",
     "output_type": "stream",
     "text": [
      "c:\\Users\\frm19\\AppData\\Local\\Programs\\Python\\Python310\\lib\\site-packages\\keras\\src\\layers\\core\\dense.py:87: UserWarning: Do not pass an `input_shape`/`input_dim` argument to a layer. When using Sequential models, prefer using an `Input(shape)` object as the first layer in the model instead.\n",
      "  super().__init__(activity_regularizer=activity_regularizer, **kwargs)\n"
     ]
    },
    {
     "name": "stdout",
     "output_type": "stream",
     "text": [
      "\u001b[1m4492/4492\u001b[0m \u001b[32m━━━━━━━━━━━━━━━━━━━━\u001b[0m\u001b[37m\u001b[0m \u001b[1m7s\u001b[0m 1ms/step - loss: 54.3623 - mae: 5.0032 - r2_score_metric: -116.0020\n",
      "\u001b[1m63/63\u001b[0m \u001b[32m━━━━━━━━━━━━━━━━━━━━\u001b[0m\u001b[37m\u001b[0m \u001b[1m0s\u001b[0m 1ms/step\n"
     ]
    },
    {
     "name": "stderr",
     "output_type": "stream",
     "text": [
      "c:\\Users\\frm19\\AppData\\Local\\Programs\\Python\\Python310\\lib\\site-packages\\keras\\src\\layers\\core\\dense.py:87: UserWarning: Do not pass an `input_shape`/`input_dim` argument to a layer. When using Sequential models, prefer using an `Input(shape)` object as the first layer in the model instead.\n",
      "  super().__init__(activity_regularizer=activity_regularizer, **kwargs)\n"
     ]
    },
    {
     "name": "stdout",
     "output_type": "stream",
     "text": [
      "\u001b[1m4492/4492\u001b[0m \u001b[32m━━━━━━━━━━━━━━━━━━━━\u001b[0m\u001b[37m\u001b[0m \u001b[1m7s\u001b[0m 1ms/step - loss: 48.8525 - mae: 4.6031 - r2_score_metric: -89.8735\n",
      "\u001b[1m63/63\u001b[0m \u001b[32m━━━━━━━━━━━━━━━━━━━━\u001b[0m\u001b[37m\u001b[0m \u001b[1m0s\u001b[0m 1ms/step\n"
     ]
    },
    {
     "name": "stderr",
     "output_type": "stream",
     "text": [
      "c:\\Users\\frm19\\AppData\\Local\\Programs\\Python\\Python310\\lib\\site-packages\\keras\\src\\layers\\core\\dense.py:87: UserWarning: Do not pass an `input_shape`/`input_dim` argument to a layer. When using Sequential models, prefer using an `Input(shape)` object as the first layer in the model instead.\n",
      "  super().__init__(activity_regularizer=activity_regularizer, **kwargs)\n"
     ]
    },
    {
     "name": "stdout",
     "output_type": "stream",
     "text": [
      "\u001b[1m4492/4492\u001b[0m \u001b[32m━━━━━━━━━━━━━━━━━━━━\u001b[0m\u001b[37m\u001b[0m \u001b[1m7s\u001b[0m 1ms/step - loss: 49.3541 - mae: 4.6868 - r2_score_metric: -91.4353\n",
      "\u001b[1m63/63\u001b[0m \u001b[32m━━━━━━━━━━━━━━━━━━━━\u001b[0m\u001b[37m\u001b[0m \u001b[1m0s\u001b[0m 1ms/step\n"
     ]
    },
    {
     "name": "stderr",
     "output_type": "stream",
     "text": [
      "c:\\Users\\frm19\\AppData\\Local\\Programs\\Python\\Python310\\lib\\site-packages\\keras\\src\\layers\\core\\dense.py:87: UserWarning: Do not pass an `input_shape`/`input_dim` argument to a layer. When using Sequential models, prefer using an `Input(shape)` object as the first layer in the model instead.\n",
      "  super().__init__(activity_regularizer=activity_regularizer, **kwargs)\n"
     ]
    },
    {
     "name": "stdout",
     "output_type": "stream",
     "text": [
      "\u001b[1m4492/4492\u001b[0m \u001b[32m━━━━━━━━━━━━━━━━━━━━\u001b[0m\u001b[37m\u001b[0m \u001b[1m7s\u001b[0m 1ms/step - loss: 47.2034 - mae: 4.5943 - r2_score_metric: -70.7406\n",
      "\u001b[1m63/63\u001b[0m \u001b[32m━━━━━━━━━━━━━━━━━━━━\u001b[0m\u001b[37m\u001b[0m \u001b[1m0s\u001b[0m 1ms/step  \n"
     ]
    },
    {
     "name": "stderr",
     "output_type": "stream",
     "text": [
      "c:\\Users\\frm19\\AppData\\Local\\Programs\\Python\\Python310\\lib\\site-packages\\keras\\src\\layers\\core\\dense.py:87: UserWarning: Do not pass an `input_shape`/`input_dim` argument to a layer. When using Sequential models, prefer using an `Input(shape)` object as the first layer in the model instead.\n",
      "  super().__init__(activity_regularizer=activity_regularizer, **kwargs)\n"
     ]
    },
    {
     "name": "stdout",
     "output_type": "stream",
     "text": [
      "\u001b[1m4492/4492\u001b[0m \u001b[32m━━━━━━━━━━━━━━━━━━━━\u001b[0m\u001b[37m\u001b[0m \u001b[1m7s\u001b[0m 1ms/step - loss: 50.7081 - mae: 4.8634 - r2_score_metric: -136.4632\n",
      "\u001b[1m63/63\u001b[0m \u001b[32m━━━━━━━━━━━━━━━━━━━━\u001b[0m\u001b[37m\u001b[0m \u001b[1m0s\u001b[0m 2ms/step\n"
     ]
    },
    {
     "name": "stderr",
     "output_type": "stream",
     "text": [
      "c:\\Users\\frm19\\AppData\\Local\\Programs\\Python\\Python310\\lib\\site-packages\\keras\\src\\layers\\core\\dense.py:87: UserWarning: Do not pass an `input_shape`/`input_dim` argument to a layer. When using Sequential models, prefer using an `Input(shape)` object as the first layer in the model instead.\n",
      "  super().__init__(activity_regularizer=activity_regularizer, **kwargs)\n"
     ]
    },
    {
     "name": "stdout",
     "output_type": "stream",
     "text": [
      "\u001b[1m4492/4492\u001b[0m \u001b[32m━━━━━━━━━━━━━━━━━━━━\u001b[0m\u001b[37m\u001b[0m \u001b[1m7s\u001b[0m 1ms/step - loss: 53.3379 - mae: 5.0370 - r2_score_metric: -101.6604\n",
      "\u001b[1m63/63\u001b[0m \u001b[32m━━━━━━━━━━━━━━━━━━━━\u001b[0m\u001b[37m\u001b[0m \u001b[1m0s\u001b[0m 2ms/step\n"
     ]
    },
    {
     "name": "stderr",
     "output_type": "stream",
     "text": [
      "c:\\Users\\frm19\\AppData\\Local\\Programs\\Python\\Python310\\lib\\site-packages\\keras\\src\\layers\\core\\dense.py:87: UserWarning: Do not pass an `input_shape`/`input_dim` argument to a layer. When using Sequential models, prefer using an `Input(shape)` object as the first layer in the model instead.\n",
      "  super().__init__(activity_regularizer=activity_regularizer, **kwargs)\n"
     ]
    },
    {
     "name": "stdout",
     "output_type": "stream",
     "text": [
      "\u001b[1m4492/4492\u001b[0m \u001b[32m━━━━━━━━━━━━━━━━━━━━\u001b[0m\u001b[37m\u001b[0m \u001b[1m7s\u001b[0m 1ms/step - loss: 47.7844 - mae: 4.6272 - r2_score_metric: -93.5226\n",
      "\u001b[1m63/63\u001b[0m \u001b[32m━━━━━━━━━━━━━━━━━━━━\u001b[0m\u001b[37m\u001b[0m \u001b[1m0s\u001b[0m 2ms/step\n"
     ]
    },
    {
     "name": "stderr",
     "output_type": "stream",
     "text": [
      "c:\\Users\\frm19\\AppData\\Local\\Programs\\Python\\Python310\\lib\\site-packages\\keras\\src\\layers\\core\\dense.py:87: UserWarning: Do not pass an `input_shape`/`input_dim` argument to a layer. When using Sequential models, prefer using an `Input(shape)` object as the first layer in the model instead.\n",
      "  super().__init__(activity_regularizer=activity_regularizer, **kwargs)\n"
     ]
    },
    {
     "name": "stdout",
     "output_type": "stream",
     "text": [
      "\u001b[1m4492/4492\u001b[0m \u001b[32m━━━━━━━━━━━━━━━━━━━━\u001b[0m\u001b[37m\u001b[0m \u001b[1m7s\u001b[0m 1ms/step - loss: 54.0992 - mae: 4.8984 - r2_score_metric: -84.2882\n",
      "\u001b[1m63/63\u001b[0m \u001b[32m━━━━━━━━━━━━━━━━━━━━\u001b[0m\u001b[37m\u001b[0m \u001b[1m0s\u001b[0m 1ms/step\n"
     ]
    },
    {
     "name": "stderr",
     "output_type": "stream",
     "text": [
      "c:\\Users\\frm19\\AppData\\Local\\Programs\\Python\\Python310\\lib\\site-packages\\keras\\src\\layers\\core\\dense.py:87: UserWarning: Do not pass an `input_shape`/`input_dim` argument to a layer. When using Sequential models, prefer using an `Input(shape)` object as the first layer in the model instead.\n",
      "  super().__init__(activity_regularizer=activity_regularizer, **kwargs)\n"
     ]
    },
    {
     "name": "stdout",
     "output_type": "stream",
     "text": [
      "\u001b[1m4492/4492\u001b[0m \u001b[32m━━━━━━━━━━━━━━━━━━━━\u001b[0m\u001b[37m\u001b[0m \u001b[1m7s\u001b[0m 1ms/step - loss: 51.5053 - mae: 4.8277 - r2_score_metric: -118.5740\n",
      "\u001b[1m63/63\u001b[0m \u001b[32m━━━━━━━━━━━━━━━━━━━━\u001b[0m\u001b[37m\u001b[0m \u001b[1m0s\u001b[0m 2ms/step\n",
      "Target variable :  temp in\n",
      "10-Fold Cross-Validation Scores:\n",
      "Fold 1: RMSE = 0.9631, MAE = 0.7542, R2 = 0.6295\n",
      "Fold 2: RMSE = 0.6045, MAE = 0.4522, R2 = 0.8389\n",
      "Fold 3: RMSE = 0.7588, MAE = 0.5932, R2 = 0.7599\n",
      "Fold 4: RMSE = 0.8019, MAE = 0.6397, R2 = 0.7132\n",
      "Fold 5: RMSE = 1.0347, MAE = 0.8473, R2 = 0.4919\n",
      "Fold 6: RMSE = 1.0744, MAE = 0.9335, R2 = 0.5131\n",
      "Fold 7: RMSE = 1.7195, MAE = 1.5389, R2 = -0.3095\n",
      "Fold 8: RMSE = 0.7912, MAE = 0.6076, R2 = 0.7231\n",
      "Fold 9: RMSE = 0.9537, MAE = 0.7571, R2 = 0.6026\n",
      "Fold 10: RMSE = 0.7595, MAE = 0.5697, R2 = 0.7502\n",
      "\n",
      "Average RMSE: 0.9461\n",
      "Average MAE: 0.7693\n",
      "Average R2: 0.5713\n"
     ]
    },
    {
     "name": "stderr",
     "output_type": "stream",
     "text": [
      "c:\\Users\\frm19\\AppData\\Local\\Programs\\Python\\Python310\\lib\\site-packages\\keras\\src\\layers\\core\\dense.py:87: UserWarning: Do not pass an `input_shape`/`input_dim` argument to a layer. When using Sequential models, prefer using an `Input(shape)` object as the first layer in the model instead.\n",
      "  super().__init__(activity_regularizer=activity_regularizer, **kwargs)\n"
     ]
    },
    {
     "name": "stdout",
     "output_type": "stream",
     "text": [
      "\u001b[1m4492/4492\u001b[0m \u001b[32m━━━━━━━━━━━━━━━━━━━━\u001b[0m\u001b[37m\u001b[0m \u001b[1m7s\u001b[0m 1ms/step - loss: 305.8482 - mae: 11.6132 - r2_score_metric: -85.8855\n",
      "\u001b[1m63/63\u001b[0m \u001b[32m━━━━━━━━━━━━━━━━━━━━\u001b[0m\u001b[37m\u001b[0m \u001b[1m0s\u001b[0m 1ms/step  \n"
     ]
    },
    {
     "name": "stderr",
     "output_type": "stream",
     "text": [
      "c:\\Users\\frm19\\AppData\\Local\\Programs\\Python\\Python310\\lib\\site-packages\\keras\\src\\layers\\core\\dense.py:87: UserWarning: Do not pass an `input_shape`/`input_dim` argument to a layer. When using Sequential models, prefer using an `Input(shape)` object as the first layer in the model instead.\n",
      "  super().__init__(activity_regularizer=activity_regularizer, **kwargs)\n"
     ]
    },
    {
     "name": "stdout",
     "output_type": "stream",
     "text": [
      "\u001b[1m4492/4492\u001b[0m \u001b[32m━━━━━━━━━━━━━━━━━━━━\u001b[0m\u001b[37m\u001b[0m \u001b[1m6s\u001b[0m 1ms/step - loss: 322.1884 - mae: 11.8675 - r2_score_metric: -56.3546\n",
      "\u001b[1m63/63\u001b[0m \u001b[32m━━━━━━━━━━━━━━━━━━━━\u001b[0m\u001b[37m\u001b[0m \u001b[1m0s\u001b[0m 1ms/step  \n"
     ]
    },
    {
     "name": "stderr",
     "output_type": "stream",
     "text": [
      "c:\\Users\\frm19\\AppData\\Local\\Programs\\Python\\Python310\\lib\\site-packages\\keras\\src\\layers\\core\\dense.py:87: UserWarning: Do not pass an `input_shape`/`input_dim` argument to a layer. When using Sequential models, prefer using an `Input(shape)` object as the first layer in the model instead.\n",
      "  super().__init__(activity_regularizer=activity_regularizer, **kwargs)\n"
     ]
    },
    {
     "name": "stdout",
     "output_type": "stream",
     "text": [
      "\u001b[1m4492/4492\u001b[0m \u001b[32m━━━━━━━━━━━━━━━━━━━━\u001b[0m\u001b[37m\u001b[0m \u001b[1m7s\u001b[0m 1ms/step - loss: 319.1031 - mae: 11.7790 - r2_score_metric: -29.5692\n",
      "\u001b[1m63/63\u001b[0m \u001b[32m━━━━━━━━━━━━━━━━━━━━\u001b[0m\u001b[37m\u001b[0m \u001b[1m0s\u001b[0m 1ms/step\n"
     ]
    },
    {
     "name": "stderr",
     "output_type": "stream",
     "text": [
      "c:\\Users\\frm19\\AppData\\Local\\Programs\\Python\\Python310\\lib\\site-packages\\keras\\src\\layers\\core\\dense.py:87: UserWarning: Do not pass an `input_shape`/`input_dim` argument to a layer. When using Sequential models, prefer using an `Input(shape)` object as the first layer in the model instead.\n",
      "  super().__init__(activity_regularizer=activity_regularizer, **kwargs)\n"
     ]
    },
    {
     "name": "stdout",
     "output_type": "stream",
     "text": [
      "\u001b[1m4492/4492\u001b[0m \u001b[32m━━━━━━━━━━━━━━━━━━━━\u001b[0m\u001b[37m\u001b[0m \u001b[1m7s\u001b[0m 1ms/step - loss: 337.1952 - mae: 12.3742 - r2_score_metric: -59.3632\n",
      "\u001b[1m63/63\u001b[0m \u001b[32m━━━━━━━━━━━━━━━━━━━━\u001b[0m\u001b[37m\u001b[0m \u001b[1m0s\u001b[0m 1ms/step  \n"
     ]
    },
    {
     "name": "stderr",
     "output_type": "stream",
     "text": [
      "c:\\Users\\frm19\\AppData\\Local\\Programs\\Python\\Python310\\lib\\site-packages\\keras\\src\\layers\\core\\dense.py:87: UserWarning: Do not pass an `input_shape`/`input_dim` argument to a layer. When using Sequential models, prefer using an `Input(shape)` object as the first layer in the model instead.\n",
      "  super().__init__(activity_regularizer=activity_regularizer, **kwargs)\n"
     ]
    },
    {
     "name": "stdout",
     "output_type": "stream",
     "text": [
      "\u001b[1m4492/4492\u001b[0m \u001b[32m━━━━━━━━━━━━━━━━━━━━\u001b[0m\u001b[37m\u001b[0m \u001b[1m7s\u001b[0m 1ms/step - loss: 341.9972 - mae: 12.5347 - r2_score_metric: -39.0025\n",
      "\u001b[1m63/63\u001b[0m \u001b[32m━━━━━━━━━━━━━━━━━━━━\u001b[0m\u001b[37m\u001b[0m \u001b[1m0s\u001b[0m 1ms/step\n"
     ]
    },
    {
     "name": "stderr",
     "output_type": "stream",
     "text": [
      "c:\\Users\\frm19\\AppData\\Local\\Programs\\Python\\Python310\\lib\\site-packages\\keras\\src\\layers\\core\\dense.py:87: UserWarning: Do not pass an `input_shape`/`input_dim` argument to a layer. When using Sequential models, prefer using an `Input(shape)` object as the first layer in the model instead.\n",
      "  super().__init__(activity_regularizer=activity_regularizer, **kwargs)\n"
     ]
    },
    {
     "name": "stdout",
     "output_type": "stream",
     "text": [
      "\u001b[1m4492/4492\u001b[0m \u001b[32m━━━━━━━━━━━━━━━━━━━━\u001b[0m\u001b[37m\u001b[0m \u001b[1m8s\u001b[0m 1ms/step - loss: 340.5781 - mae: 12.2531 - r2_score_metric: -30.7695\n",
      "\u001b[1m63/63\u001b[0m \u001b[32m━━━━━━━━━━━━━━━━━━━━\u001b[0m\u001b[37m\u001b[0m \u001b[1m0s\u001b[0m 1ms/step\n"
     ]
    },
    {
     "name": "stderr",
     "output_type": "stream",
     "text": [
      "c:\\Users\\frm19\\AppData\\Local\\Programs\\Python\\Python310\\lib\\site-packages\\keras\\src\\layers\\core\\dense.py:87: UserWarning: Do not pass an `input_shape`/`input_dim` argument to a layer. When using Sequential models, prefer using an `Input(shape)` object as the first layer in the model instead.\n",
      "  super().__init__(activity_regularizer=activity_regularizer, **kwargs)\n"
     ]
    },
    {
     "name": "stdout",
     "output_type": "stream",
     "text": [
      "\u001b[1m4492/4492\u001b[0m \u001b[32m━━━━━━━━━━━━━━━━━━━━\u001b[0m\u001b[37m\u001b[0m \u001b[1m7s\u001b[0m 1ms/step - loss: 307.9003 - mae: 11.5726 - r2_score_metric: -41.3287\n",
      "\u001b[1m63/63\u001b[0m \u001b[32m━━━━━━━━━━━━━━━━━━━━\u001b[0m\u001b[37m\u001b[0m \u001b[1m0s\u001b[0m 3ms/step\n"
     ]
    },
    {
     "name": "stderr",
     "output_type": "stream",
     "text": [
      "c:\\Users\\frm19\\AppData\\Local\\Programs\\Python\\Python310\\lib\\site-packages\\keras\\src\\layers\\core\\dense.py:87: UserWarning: Do not pass an `input_shape`/`input_dim` argument to a layer. When using Sequential models, prefer using an `Input(shape)` object as the first layer in the model instead.\n",
      "  super().__init__(activity_regularizer=activity_regularizer, **kwargs)\n"
     ]
    },
    {
     "name": "stdout",
     "output_type": "stream",
     "text": [
      "\u001b[1m4492/4492\u001b[0m \u001b[32m━━━━━━━━━━━━━━━━━━━━\u001b[0m\u001b[37m\u001b[0m \u001b[1m9s\u001b[0m 2ms/step - loss: 317.2287 - mae: 11.5241 - r2_score_metric: -32.1827\n",
      "\u001b[1m63/63\u001b[0m \u001b[32m━━━━━━━━━━━━━━━━━━━━\u001b[0m\u001b[37m\u001b[0m \u001b[1m0s\u001b[0m 1ms/step\n"
     ]
    },
    {
     "name": "stderr",
     "output_type": "stream",
     "text": [
      "c:\\Users\\frm19\\AppData\\Local\\Programs\\Python\\Python310\\lib\\site-packages\\keras\\src\\layers\\core\\dense.py:87: UserWarning: Do not pass an `input_shape`/`input_dim` argument to a layer. When using Sequential models, prefer using an `Input(shape)` object as the first layer in the model instead.\n",
      "  super().__init__(activity_regularizer=activity_regularizer, **kwargs)\n"
     ]
    },
    {
     "name": "stdout",
     "output_type": "stream",
     "text": [
      "\u001b[1m4492/4492\u001b[0m \u001b[32m━━━━━━━━━━━━━━━━━━━━\u001b[0m\u001b[37m\u001b[0m \u001b[1m7s\u001b[0m 1ms/step - loss: 361.7993 - mae: 12.5212 - r2_score_metric: -67.3622\n",
      "\u001b[1m63/63\u001b[0m \u001b[32m━━━━━━━━━━━━━━━━━━━━\u001b[0m\u001b[37m\u001b[0m \u001b[1m0s\u001b[0m 1ms/step  \n"
     ]
    },
    {
     "name": "stderr",
     "output_type": "stream",
     "text": [
      "c:\\Users\\frm19\\AppData\\Local\\Programs\\Python\\Python310\\lib\\site-packages\\keras\\src\\layers\\core\\dense.py:87: UserWarning: Do not pass an `input_shape`/`input_dim` argument to a layer. When using Sequential models, prefer using an `Input(shape)` object as the first layer in the model instead.\n",
      "  super().__init__(activity_regularizer=activity_regularizer, **kwargs)\n"
     ]
    },
    {
     "name": "stdout",
     "output_type": "stream",
     "text": [
      "\u001b[1m4492/4492\u001b[0m \u001b[32m━━━━━━━━━━━━━━━━━━━━\u001b[0m\u001b[37m\u001b[0m \u001b[1m6s\u001b[0m 1ms/step - loss: 325.2972 - mae: 11.8923 - r2_score_metric: -292.0840\n",
      "\u001b[1m63/63\u001b[0m \u001b[32m━━━━━━━━━━━━━━━━━━━━\u001b[0m\u001b[37m\u001b[0m \u001b[1m0s\u001b[0m 1ms/step\n",
      "Target variable :  rh in\n",
      "10-Fold Cross-Validation Scores:\n",
      "Fold 1: RMSE = 2.7764, MAE = 2.2432, R2 = 0.7470\n",
      "Fold 2: RMSE = 2.0924, MAE = 1.6531, R2 = 0.8506\n",
      "Fold 3: RMSE = 3.0217, MAE = 2.6163, R2 = 0.6926\n",
      "Fold 4: RMSE = 2.0265, MAE = 1.4864, R2 = 0.8765\n",
      "Fold 5: RMSE = 2.0895, MAE = 1.4979, R2 = 0.8513\n",
      "Fold 6: RMSE = 2.4179, MAE = 1.9409, R2 = 0.8037\n",
      "Fold 7: RMSE = 2.6192, MAE = 2.1834, R2 = 0.7804\n",
      "Fold 8: RMSE = 2.6875, MAE = 2.1639, R2 = 0.7551\n",
      "Fold 9: RMSE = 2.8710, MAE = 2.4958, R2 = 0.7282\n",
      "Fold 10: RMSE = 2.0758, MAE = 1.5238, R2 = 0.8596\n",
      "\n",
      "Average RMSE: 2.4678\n",
      "Average MAE: 1.9805\n",
      "Average R2: 0.7945\n"
     ]
    },
    {
     "name": "stderr",
     "output_type": "stream",
     "text": [
      "c:\\Users\\frm19\\AppData\\Local\\Programs\\Python\\Python310\\lib\\site-packages\\keras\\src\\layers\\core\\dense.py:87: UserWarning: Do not pass an `input_shape`/`input_dim` argument to a layer. When using Sequential models, prefer using an `Input(shape)` object as the first layer in the model instead.\n",
      "  super().__init__(activity_regularizer=activity_regularizer, **kwargs)\n"
     ]
    },
    {
     "name": "stdout",
     "output_type": "stream",
     "text": [
      "\u001b[1m4492/4492\u001b[0m \u001b[32m━━━━━━━━━━━━━━━━━━━━\u001b[0m\u001b[37m\u001b[0m \u001b[1m7s\u001b[0m 1ms/step - loss: 21663.4258 - mae: 94.7987 - r2_score_metric: -354379956224.0000\n",
      "\u001b[1m63/63\u001b[0m \u001b[32m━━━━━━━━━━━━━━━━━━━━\u001b[0m\u001b[37m\u001b[0m \u001b[1m0s\u001b[0m 2ms/step\n"
     ]
    },
    {
     "name": "stderr",
     "output_type": "stream",
     "text": [
      "c:\\Users\\frm19\\AppData\\Local\\Programs\\Python\\Python310\\lib\\site-packages\\keras\\src\\layers\\core\\dense.py:87: UserWarning: Do not pass an `input_shape`/`input_dim` argument to a layer. When using Sequential models, prefer using an `Input(shape)` object as the first layer in the model instead.\n",
      "  super().__init__(activity_regularizer=activity_regularizer, **kwargs)\n"
     ]
    },
    {
     "name": "stdout",
     "output_type": "stream",
     "text": [
      "\u001b[1m4492/4492\u001b[0m \u001b[32m━━━━━━━━━━━━━━━━━━━━\u001b[0m\u001b[37m\u001b[0m \u001b[1m6s\u001b[0m 1ms/step - loss: 22905.8965 - mae: 99.6119 - r2_score_metric: -370104500224.0000\n",
      "\u001b[1m63/63\u001b[0m \u001b[32m━━━━━━━━━━━━━━━━━━━━\u001b[0m\u001b[37m\u001b[0m \u001b[1m0s\u001b[0m 1ms/step\n"
     ]
    },
    {
     "name": "stderr",
     "output_type": "stream",
     "text": [
      "c:\\Users\\frm19\\AppData\\Local\\Programs\\Python\\Python310\\lib\\site-packages\\keras\\src\\layers\\core\\dense.py:87: UserWarning: Do not pass an `input_shape`/`input_dim` argument to a layer. When using Sequential models, prefer using an `Input(shape)` object as the first layer in the model instead.\n",
      "  super().__init__(activity_regularizer=activity_regularizer, **kwargs)\n"
     ]
    },
    {
     "name": "stdout",
     "output_type": "stream",
     "text": [
      "\u001b[1m4492/4492\u001b[0m \u001b[32m━━━━━━━━━━━━━━━━━━━━\u001b[0m\u001b[37m\u001b[0m \u001b[1m9s\u001b[0m 2ms/step - loss: 23804.1113 - mae: 101.0798 - r2_score_metric: -340662484992.0000\n",
      "\u001b[1m63/63\u001b[0m \u001b[32m━━━━━━━━━━━━━━━━━━━━\u001b[0m\u001b[37m\u001b[0m \u001b[1m0s\u001b[0m 2ms/step\n"
     ]
    },
    {
     "name": "stderr",
     "output_type": "stream",
     "text": [
      "c:\\Users\\frm19\\AppData\\Local\\Programs\\Python\\Python310\\lib\\site-packages\\keras\\src\\layers\\core\\dense.py:87: UserWarning: Do not pass an `input_shape`/`input_dim` argument to a layer. When using Sequential models, prefer using an `Input(shape)` object as the first layer in the model instead.\n",
      "  super().__init__(activity_regularizer=activity_regularizer, **kwargs)\n"
     ]
    },
    {
     "name": "stdout",
     "output_type": "stream",
     "text": [
      "\u001b[1m4492/4492\u001b[0m \u001b[32m━━━━━━━━━━━━━━━━━━━━\u001b[0m\u001b[37m\u001b[0m \u001b[1m11s\u001b[0m 2ms/step - loss: 20542.4238 - mae: 92.2490 - r2_score_metric: -313996509184.0000\n",
      "\u001b[1m63/63\u001b[0m \u001b[32m━━━━━━━━━━━━━━━━━━━━\u001b[0m\u001b[37m\u001b[0m \u001b[1m0s\u001b[0m 1ms/step  \n"
     ]
    },
    {
     "name": "stderr",
     "output_type": "stream",
     "text": [
      "c:\\Users\\frm19\\AppData\\Local\\Programs\\Python\\Python310\\lib\\site-packages\\keras\\src\\layers\\core\\dense.py:87: UserWarning: Do not pass an `input_shape`/`input_dim` argument to a layer. When using Sequential models, prefer using an `Input(shape)` object as the first layer in the model instead.\n",
      "  super().__init__(activity_regularizer=activity_regularizer, **kwargs)\n"
     ]
    },
    {
     "name": "stdout",
     "output_type": "stream",
     "text": [
      "\u001b[1m4492/4492\u001b[0m \u001b[32m━━━━━━━━━━━━━━━━━━━━\u001b[0m\u001b[37m\u001b[0m \u001b[1m7s\u001b[0m 1ms/step - loss: 21084.9453 - mae: 93.5523 - r2_score_metric: -287991070720.0000\n",
      "\u001b[1m63/63\u001b[0m \u001b[32m━━━━━━━━━━━━━━━━━━━━\u001b[0m\u001b[37m\u001b[0m \u001b[1m0s\u001b[0m 1ms/step\n"
     ]
    },
    {
     "name": "stderr",
     "output_type": "stream",
     "text": [
      "c:\\Users\\frm19\\AppData\\Local\\Programs\\Python\\Python310\\lib\\site-packages\\keras\\src\\layers\\core\\dense.py:87: UserWarning: Do not pass an `input_shape`/`input_dim` argument to a layer. When using Sequential models, prefer using an `Input(shape)` object as the first layer in the model instead.\n",
      "  super().__init__(activity_regularizer=activity_regularizer, **kwargs)\n"
     ]
    },
    {
     "name": "stdout",
     "output_type": "stream",
     "text": [
      "\u001b[1m4492/4492\u001b[0m \u001b[32m━━━━━━━━━━━━━━━━━━━━\u001b[0m\u001b[37m\u001b[0m \u001b[1m8s\u001b[0m 1ms/step - loss: 22062.0996 - mae: 95.9541 - r2_score_metric: -362904354816.0000\n",
      "\u001b[1m63/63\u001b[0m \u001b[32m━━━━━━━━━━━━━━━━━━━━\u001b[0m\u001b[37m\u001b[0m \u001b[1m0s\u001b[0m 2ms/step\n"
     ]
    },
    {
     "name": "stderr",
     "output_type": "stream",
     "text": [
      "c:\\Users\\frm19\\AppData\\Local\\Programs\\Python\\Python310\\lib\\site-packages\\keras\\src\\layers\\core\\dense.py:87: UserWarning: Do not pass an `input_shape`/`input_dim` argument to a layer. When using Sequential models, prefer using an `Input(shape)` object as the first layer in the model instead.\n",
      "  super().__init__(activity_regularizer=activity_regularizer, **kwargs)\n"
     ]
    },
    {
     "name": "stdout",
     "output_type": "stream",
     "text": [
      "\u001b[1m4492/4492\u001b[0m \u001b[32m━━━━━━━━━━━━━━━━━━━━\u001b[0m\u001b[37m\u001b[0m \u001b[1m8s\u001b[0m 1ms/step - loss: 21808.2520 - mae: 93.8256 - r2_score_metric: -310007267328.0000\n",
      "\u001b[1m63/63\u001b[0m \u001b[32m━━━━━━━━━━━━━━━━━━━━\u001b[0m\u001b[37m\u001b[0m \u001b[1m0s\u001b[0m 2ms/step\n"
     ]
    },
    {
     "name": "stderr",
     "output_type": "stream",
     "text": [
      "c:\\Users\\frm19\\AppData\\Local\\Programs\\Python\\Python310\\lib\\site-packages\\keras\\src\\layers\\core\\dense.py:87: UserWarning: Do not pass an `input_shape`/`input_dim` argument to a layer. When using Sequential models, prefer using an `Input(shape)` object as the first layer in the model instead.\n",
      "  super().__init__(activity_regularizer=activity_regularizer, **kwargs)\n"
     ]
    },
    {
     "name": "stdout",
     "output_type": "stream",
     "text": [
      "\u001b[1m4492/4492\u001b[0m \u001b[32m━━━━━━━━━━━━━━━━━━━━\u001b[0m\u001b[37m\u001b[0m \u001b[1m7s\u001b[0m 1ms/step - loss: 23002.5117 - mae: 96.3631 - r2_score_metric: -354597797888.0000\n",
      "\u001b[1m63/63\u001b[0m \u001b[32m━━━━━━━━━━━━━━━━━━━━\u001b[0m\u001b[37m\u001b[0m \u001b[1m0s\u001b[0m 2ms/step  \n"
     ]
    },
    {
     "name": "stderr",
     "output_type": "stream",
     "text": [
      "c:\\Users\\frm19\\AppData\\Local\\Programs\\Python\\Python310\\lib\\site-packages\\keras\\src\\layers\\core\\dense.py:87: UserWarning: Do not pass an `input_shape`/`input_dim` argument to a layer. When using Sequential models, prefer using an `Input(shape)` object as the first layer in the model instead.\n",
      "  super().__init__(activity_regularizer=activity_regularizer, **kwargs)\n"
     ]
    },
    {
     "name": "stdout",
     "output_type": "stream",
     "text": [
      "\u001b[1m4492/4492\u001b[0m \u001b[32m━━━━━━━━━━━━━━━━━━━━\u001b[0m\u001b[37m\u001b[0m \u001b[1m7s\u001b[0m 1ms/step - loss: 22459.4922 - mae: 97.3438 - r2_score_metric: -334416510976.0000\n",
      "\u001b[1m63/63\u001b[0m \u001b[32m━━━━━━━━━━━━━━━━━━━━\u001b[0m\u001b[37m\u001b[0m \u001b[1m0s\u001b[0m 2ms/step  \n"
     ]
    },
    {
     "name": "stderr",
     "output_type": "stream",
     "text": [
      "c:\\Users\\frm19\\AppData\\Local\\Programs\\Python\\Python310\\lib\\site-packages\\keras\\src\\layers\\core\\dense.py:87: UserWarning: Do not pass an `input_shape`/`input_dim` argument to a layer. When using Sequential models, prefer using an `Input(shape)` object as the first layer in the model instead.\n",
      "  super().__init__(activity_regularizer=activity_regularizer, **kwargs)\n"
     ]
    },
    {
     "name": "stdout",
     "output_type": "stream",
     "text": [
      "\u001b[1m4492/4492\u001b[0m \u001b[32m━━━━━━━━━━━━━━━━━━━━\u001b[0m\u001b[37m\u001b[0m \u001b[1m11s\u001b[0m 2ms/step - loss: 21204.9629 - mae: 92.6652 - r2_score_metric: -309537046528.0000\n",
      "\u001b[1m63/63\u001b[0m \u001b[32m━━━━━━━━━━━━━━━━━━━━\u001b[0m\u001b[37m\u001b[0m \u001b[1m0s\u001b[0m 2ms/step\n",
      "Target variable :  co2 in\n",
      "10-Fold Cross-Validation Scores:\n",
      "Fold 1: RMSE = 16.0665, MAE = 13.0839, R2 = -13.2184\n",
      "Fold 2: RMSE = 19.0506, MAE = 16.3898, R2 = -32.5898\n",
      "Fold 3: RMSE = 19.9459, MAE = 17.3650, R2 = -7.9663\n",
      "Fold 4: RMSE = 11.7996, MAE = 8.9238, R2 = -4.0823\n",
      "Fold 5: RMSE = 37.7491, MAE = 11.7911, R2 = -0.1685\n",
      "Fold 6: RMSE = 20.4085, MAE = 9.2712, R2 = -0.3846\n",
      "Fold 7: RMSE = 15.3925, MAE = 12.1158, R2 = -3.6638\n",
      "Fold 8: RMSE = 14.1804, MAE = 11.7388, R2 = -8.6866\n",
      "Fold 9: RMSE = 17.7360, MAE = 14.2948, R2 = -5.2192\n",
      "Fold 10: RMSE = 16.4375, MAE = 13.2307, R2 = -15.2386\n",
      "\n",
      "Average RMSE: 18.8767\n",
      "Average MAE: 12.8205\n",
      "Average R2: -9.1218\n"
     ]
    }
   ],
   "source": [
    "# List of target variables\n",
    "target_variables = ['global in', 'temp in', 'rh in', 'co2 in']\n",
    "\n",
    "# Iterate through each target variable and call the function\n",
    "for target in target_variables:\n",
    "    cross_validate_model(target, _epochs = 1, _batch_size= 4)"
   ]
  },
  {
   "cell_type": "markdown",
   "metadata": {},
   "source": [
    "# BEST RESULTS\n",
    "with _epochs = 10, and bath_size = 10"
   ]
  },
  {
   "cell_type": "code",
   "execution_count": 20,
   "metadata": {},
   "outputs": [
    {
     "name": "stdout",
     "output_type": "stream",
     "text": [
      "Epoch 1/10\n"
     ]
    },
    {
     "name": "stderr",
     "output_type": "stream",
     "text": [
      "c:\\Users\\frm19\\AppData\\Local\\Programs\\Python\\Python310\\lib\\site-packages\\keras\\src\\layers\\core\\dense.py:87: UserWarning: Do not pass an `input_shape`/`input_dim` argument to a layer. When using Sequential models, prefer using an `Input(shape)` object as the first layer in the model instead.\n",
      "  super().__init__(activity_regularizer=activity_regularizer, **kwargs)\n"
     ]
    },
    {
     "name": "stdout",
     "output_type": "stream",
     "text": [
      "\u001b[1m3593/3593\u001b[0m \u001b[32m━━━━━━━━━━━━━━━━━━━━\u001b[0m\u001b[37m\u001b[0m \u001b[1m6s\u001b[0m 1ms/step - loss: 1.7422 - mae: 0.6967 - r2_score_metric: 0.0744\n",
      "Epoch 2/10\n",
      "\u001b[1m3593/3593\u001b[0m \u001b[32m━━━━━━━━━━━━━━━━━━━━\u001b[0m\u001b[37m\u001b[0m \u001b[1m4s\u001b[0m 1ms/step - loss: 0.7395 - mae: 0.4324 - r2_score_metric: 0.6349\n",
      "Epoch 3/10\n",
      "\u001b[1m3593/3593\u001b[0m \u001b[32m━━━━━━━━━━━━━━━━━━━━\u001b[0m\u001b[37m\u001b[0m \u001b[1m4s\u001b[0m 1ms/step - loss: 0.7450 - mae: 0.4253 - r2_score_metric: 0.6822\n",
      "Epoch 4/10\n",
      "\u001b[1m3593/3593\u001b[0m \u001b[32m━━━━━━━━━━━━━━━━━━━━\u001b[0m\u001b[37m\u001b[0m \u001b[1m5s\u001b[0m 1ms/step - loss: 0.6530 - mae: 0.3930 - r2_score_metric: 0.6518\n",
      "Epoch 5/10\n",
      "\u001b[1m3593/3593\u001b[0m \u001b[32m━━━━━━━━━━━━━━━━━━━━\u001b[0m\u001b[37m\u001b[0m \u001b[1m4s\u001b[0m 1ms/step - loss: 0.5587 - mae: 0.3769 - r2_score_metric: 0.7065\n",
      "Epoch 6/10\n",
      "\u001b[1m3593/3593\u001b[0m \u001b[32m━━━━━━━━━━━━━━━━━━━━\u001b[0m\u001b[37m\u001b[0m \u001b[1m4s\u001b[0m 1ms/step - loss: 0.5672 - mae: 0.3663 - r2_score_metric: 0.7334\n",
      "Epoch 7/10\n",
      "\u001b[1m3593/3593\u001b[0m \u001b[32m━━━━━━━━━━━━━━━━━━━━\u001b[0m\u001b[37m\u001b[0m \u001b[1m4s\u001b[0m 986us/step - loss: 0.5747 - mae: 0.3690 - r2_score_metric: 0.7627\n",
      "Epoch 8/10\n",
      "\u001b[1m3593/3593\u001b[0m \u001b[32m━━━━━━━━━━━━━━━━━━━━\u001b[0m\u001b[37m\u001b[0m \u001b[1m4s\u001b[0m 996us/step - loss: 0.4987 - mae: 0.3573 - r2_score_metric: 0.7510\n",
      "Epoch 9/10\n",
      "\u001b[1m3593/3593\u001b[0m \u001b[32m━━━━━━━━━━━━━━━━━━━━\u001b[0m\u001b[37m\u001b[0m \u001b[1m4s\u001b[0m 1ms/step - loss: 0.5514 - mae: 0.3650 - r2_score_metric: 0.7534\n",
      "Epoch 10/10\n",
      "\u001b[1m3593/3593\u001b[0m \u001b[32m━━━━━━━━━━━━━━━━━━━━\u001b[0m\u001b[37m\u001b[0m \u001b[1m4s\u001b[0m 1ms/step - loss: 0.5041 - mae: 0.3574 - r2_score_metric: 0.7767\n",
      "\u001b[1m63/63\u001b[0m \u001b[32m━━━━━━━━━━━━━━━━━━━━\u001b[0m\u001b[37m\u001b[0m \u001b[1m0s\u001b[0m 3ms/step\n",
      "Epoch 1/10\n"
     ]
    },
    {
     "name": "stderr",
     "output_type": "stream",
     "text": [
      "c:\\Users\\frm19\\AppData\\Local\\Programs\\Python\\Python310\\lib\\site-packages\\keras\\src\\layers\\core\\dense.py:87: UserWarning: Do not pass an `input_shape`/`input_dim` argument to a layer. When using Sequential models, prefer using an `Input(shape)` object as the first layer in the model instead.\n",
      "  super().__init__(activity_regularizer=activity_regularizer, **kwargs)\n"
     ]
    },
    {
     "name": "stdout",
     "output_type": "stream",
     "text": [
      "\u001b[1m3593/3593\u001b[0m \u001b[32m━━━━━━━━━━━━━━━━━━━━\u001b[0m\u001b[37m\u001b[0m \u001b[1m12s\u001b[0m 1ms/step - loss: 1.4874 - mae: 0.6578 - r2_score_metric: 0.0901\n",
      "Epoch 2/10\n",
      "\u001b[1m3593/3593\u001b[0m \u001b[32m━━━━━━━━━━━━━━━━━━━━\u001b[0m\u001b[37m\u001b[0m \u001b[1m4s\u001b[0m 1ms/step - loss: 0.8191 - mae: 0.4404 - r2_score_metric: 0.5960\n",
      "Epoch 3/10\n",
      "\u001b[1m3593/3593\u001b[0m \u001b[32m━━━━━━━━━━━━━━━━━━━━\u001b[0m\u001b[37m\u001b[0m \u001b[1m3s\u001b[0m 960us/step - loss: 0.7192 - mae: 0.4099 - r2_score_metric: 0.6173\n",
      "Epoch 4/10\n",
      "\u001b[1m3593/3593\u001b[0m \u001b[32m━━━━━━━━━━━━━━━━━━━━\u001b[0m\u001b[37m\u001b[0m \u001b[1m4s\u001b[0m 974us/step - loss: 0.6804 - mae: 0.3922 - r2_score_metric: 0.6720\n",
      "Epoch 5/10\n",
      "\u001b[1m3593/3593\u001b[0m \u001b[32m━━━━━━━━━━━━━━━━━━━━\u001b[0m\u001b[37m\u001b[0m \u001b[1m3s\u001b[0m 940us/step - loss: 0.6224 - mae: 0.3824 - r2_score_metric: -3.0846\n",
      "Epoch 6/10\n",
      "\u001b[1m3593/3593\u001b[0m \u001b[32m━━━━━━━━━━━━━━━━━━━━\u001b[0m\u001b[37m\u001b[0m \u001b[1m4s\u001b[0m 971us/step - loss: 0.5791 - mae: 0.3590 - r2_score_metric: 0.5873\n",
      "Epoch 7/10\n",
      "\u001b[1m3593/3593\u001b[0m \u001b[32m━━━━━━━━━━━━━━━━━━━━\u001b[0m\u001b[37m\u001b[0m \u001b[1m3s\u001b[0m 950us/step - loss: 0.6004 - mae: 0.3668 - r2_score_metric: 0.7105\n",
      "Epoch 8/10\n",
      "\u001b[1m3593/3593\u001b[0m \u001b[32m━━━━━━━━━━━━━━━━━━━━\u001b[0m\u001b[37m\u001b[0m \u001b[1m3s\u001b[0m 954us/step - loss: 0.5866 - mae: 0.3678 - r2_score_metric: 0.7460\n",
      "Epoch 9/10\n",
      "\u001b[1m3593/3593\u001b[0m \u001b[32m━━━━━━━━━━━━━━━━━━━━\u001b[0m\u001b[37m\u001b[0m \u001b[1m4s\u001b[0m 973us/step - loss: 0.6597 - mae: 0.3712 - r2_score_metric: 0.6219\n",
      "Epoch 10/10\n",
      "\u001b[1m3593/3593\u001b[0m \u001b[32m━━━━━━━━━━━━━━━━━━━━\u001b[0m\u001b[37m\u001b[0m \u001b[1m3s\u001b[0m 958us/step - loss: 0.5405 - mae: 0.3544 - r2_score_metric: 0.6716\n",
      "\u001b[1m63/63\u001b[0m \u001b[32m━━━━━━━━━━━━━━━━━━━━\u001b[0m\u001b[37m\u001b[0m \u001b[1m0s\u001b[0m 2ms/step  \n",
      "Epoch 1/10\n"
     ]
    },
    {
     "name": "stderr",
     "output_type": "stream",
     "text": [
      "c:\\Users\\frm19\\AppData\\Local\\Programs\\Python\\Python310\\lib\\site-packages\\keras\\src\\layers\\core\\dense.py:87: UserWarning: Do not pass an `input_shape`/`input_dim` argument to a layer. When using Sequential models, prefer using an `Input(shape)` object as the first layer in the model instead.\n",
      "  super().__init__(activity_regularizer=activity_regularizer, **kwargs)\n"
     ]
    },
    {
     "name": "stdout",
     "output_type": "stream",
     "text": [
      "\u001b[1m3594/3594\u001b[0m \u001b[32m━━━━━━━━━━━━━━━━━━━━\u001b[0m\u001b[37m\u001b[0m \u001b[1m5s\u001b[0m 1ms/step - loss: 1.5230 - mae: 0.6785 - r2_score_metric: -0.9257\n",
      "Epoch 2/10\n",
      "\u001b[1m3594/3594\u001b[0m \u001b[32m━━━━━━━━━━━━━━━━━━━━\u001b[0m\u001b[37m\u001b[0m \u001b[1m4s\u001b[0m 1ms/step - loss: 0.7941 - mae: 0.4408 - r2_score_metric: 0.2846\n",
      "Epoch 3/10\n",
      "\u001b[1m3594/3594\u001b[0m \u001b[32m━━━━━━━━━━━━━━━━━━━━\u001b[0m\u001b[37m\u001b[0m \u001b[1m4s\u001b[0m 1ms/step - loss: 0.6993 - mae: 0.4069 - r2_score_metric: -0.2456\n",
      "Epoch 4/10\n",
      "\u001b[1m3594/3594\u001b[0m \u001b[32m━━━━━━━━━━━━━━━━━━━━\u001b[0m\u001b[37m\u001b[0m \u001b[1m4s\u001b[0m 1ms/step - loss: 0.6016 - mae: 0.3875 - r2_score_metric: 0.3356\n",
      "Epoch 5/10\n",
      "\u001b[1m3594/3594\u001b[0m \u001b[32m━━━━━━━━━━━━━━━━━━━━\u001b[0m\u001b[37m\u001b[0m \u001b[1m4s\u001b[0m 1ms/step - loss: 0.6143 - mae: 0.3826 - r2_score_metric: 0.4456\n",
      "Epoch 6/10\n",
      "\u001b[1m3594/3594\u001b[0m \u001b[32m━━━━━━━━━━━━━━━━━━━━\u001b[0m\u001b[37m\u001b[0m \u001b[1m4s\u001b[0m 1ms/step - loss: 0.6081 - mae: 0.3733 - r2_score_metric: -15253.9170\n",
      "Epoch 7/10\n",
      "\u001b[1m3594/3594\u001b[0m \u001b[32m━━━━━━━━━━━━━━━━━━━━\u001b[0m\u001b[37m\u001b[0m \u001b[1m4s\u001b[0m 1ms/step - loss: 0.5538 - mae: 0.3643 - r2_score_metric: 0.6839\n",
      "Epoch 8/10\n",
      "\u001b[1m3594/3594\u001b[0m \u001b[32m━━━━━━━━━━━━━━━━━━━━\u001b[0m\u001b[37m\u001b[0m \u001b[1m5s\u001b[0m 1ms/step - loss: 0.5309 - mae: 0.3657 - r2_score_metric: 0.5870\n",
      "Epoch 9/10\n",
      "\u001b[1m3594/3594\u001b[0m \u001b[32m━━━━━━━━━━━━━━━━━━━━\u001b[0m\u001b[37m\u001b[0m \u001b[1m4s\u001b[0m 1ms/step - loss: 0.5684 - mae: 0.3641 - r2_score_metric: 0.1263\n",
      "Epoch 10/10\n",
      "\u001b[1m3594/3594\u001b[0m \u001b[32m━━━━━━━━━━━━━━━━━━━━\u001b[0m\u001b[37m\u001b[0m \u001b[1m5s\u001b[0m 1ms/step - loss: 0.5398 - mae: 0.3585 - r2_score_metric: 0.7131\n",
      "\u001b[1m63/63\u001b[0m \u001b[32m━━━━━━━━━━━━━━━━━━━━\u001b[0m\u001b[37m\u001b[0m \u001b[1m0s\u001b[0m 1ms/step  \n",
      "Epoch 1/10\n"
     ]
    },
    {
     "name": "stderr",
     "output_type": "stream",
     "text": [
      "c:\\Users\\frm19\\AppData\\Local\\Programs\\Python\\Python310\\lib\\site-packages\\keras\\src\\layers\\core\\dense.py:87: UserWarning: Do not pass an `input_shape`/`input_dim` argument to a layer. When using Sequential models, prefer using an `Input(shape)` object as the first layer in the model instead.\n",
      "  super().__init__(activity_regularizer=activity_regularizer, **kwargs)\n"
     ]
    },
    {
     "name": "stdout",
     "output_type": "stream",
     "text": [
      "\u001b[1m3594/3594\u001b[0m \u001b[32m━━━━━━━━━━━━━━━━━━━━\u001b[0m\u001b[37m\u001b[0m \u001b[1m6s\u001b[0m 1ms/step - loss: 1.4465 - mae: 0.6581 - r2_score_metric: -8.5572\n",
      "Epoch 2/10\n",
      "\u001b[1m3594/3594\u001b[0m \u001b[32m━━━━━━━━━━━━━━━━━━━━\u001b[0m\u001b[37m\u001b[0m \u001b[1m4s\u001b[0m 1ms/step - loss: 0.8084 - mae: 0.4424 - r2_score_metric: -66.6454\n",
      "Epoch 3/10\n",
      "\u001b[1m3594/3594\u001b[0m \u001b[32m━━━━━━━━━━━━━━━━━━━━\u001b[0m\u001b[37m\u001b[0m \u001b[1m4s\u001b[0m 1ms/step - loss: 0.7286 - mae: 0.4105 - r2_score_metric: 0.5572\n",
      "Epoch 4/10\n",
      "\u001b[1m3594/3594\u001b[0m \u001b[32m━━━━━━━━━━━━━━━━━━━━\u001b[0m\u001b[37m\u001b[0m \u001b[1m4s\u001b[0m 1ms/step - loss: 0.6229 - mae: 0.3909 - r2_score_metric: 0.5771\n",
      "Epoch 5/10\n",
      "\u001b[1m3594/3594\u001b[0m \u001b[32m━━━━━━━━━━━━━━━━━━━━\u001b[0m\u001b[37m\u001b[0m \u001b[1m4s\u001b[0m 1ms/step - loss: 0.5693 - mae: 0.3788 - r2_score_metric: 0.5955\n",
      "Epoch 6/10\n",
      "\u001b[1m3594/3594\u001b[0m \u001b[32m━━━━━━━━━━━━━━━━━━━━\u001b[0m\u001b[37m\u001b[0m \u001b[1m4s\u001b[0m 1ms/step - loss: 0.5684 - mae: 0.3702 - r2_score_metric: 0.5913\n",
      "Epoch 7/10\n",
      "\u001b[1m3594/3594\u001b[0m \u001b[32m━━━━━━━━━━━━━━━━━━━━\u001b[0m\u001b[37m\u001b[0m \u001b[1m4s\u001b[0m 1ms/step - loss: 0.5735 - mae: 0.3589 - r2_score_metric: 0.7789\n",
      "Epoch 8/10\n",
      "\u001b[1m3594/3594\u001b[0m \u001b[32m━━━━━━━━━━━━━━━━━━━━\u001b[0m\u001b[37m\u001b[0m \u001b[1m4s\u001b[0m 1ms/step - loss: 0.5522 - mae: 0.3676 - r2_score_metric: 0.7406\n",
      "Epoch 9/10\n",
      "\u001b[1m3594/3594\u001b[0m \u001b[32m━━━━━━━━━━━━━━━━━━━━\u001b[0m\u001b[37m\u001b[0m \u001b[1m5s\u001b[0m 1ms/step - loss: 0.5860 - mae: 0.3615 - r2_score_metric: 0.6088\n",
      "Epoch 10/10\n",
      "\u001b[1m3594/3594\u001b[0m \u001b[32m━━━━━━━━━━━━━━━━━━━━\u001b[0m\u001b[37m\u001b[0m \u001b[1m5s\u001b[0m 1ms/step - loss: 0.5145 - mae: 0.3524 - r2_score_metric: 0.3382\n",
      "\u001b[1m63/63\u001b[0m \u001b[32m━━━━━━━━━━━━━━━━━━━━\u001b[0m\u001b[37m\u001b[0m \u001b[1m0s\u001b[0m 2ms/step\n",
      "Epoch 1/10\n"
     ]
    },
    {
     "name": "stderr",
     "output_type": "stream",
     "text": [
      "c:\\Users\\frm19\\AppData\\Local\\Programs\\Python\\Python310\\lib\\site-packages\\keras\\src\\layers\\core\\dense.py:87: UserWarning: Do not pass an `input_shape`/`input_dim` argument to a layer. When using Sequential models, prefer using an `Input(shape)` object as the first layer in the model instead.\n",
      "  super().__init__(activity_regularizer=activity_regularizer, **kwargs)\n"
     ]
    },
    {
     "name": "stdout",
     "output_type": "stream",
     "text": [
      "\u001b[1m3594/3594\u001b[0m \u001b[32m━━━━━━━━━━━━━━━━━━━━\u001b[0m\u001b[37m\u001b[0m \u001b[1m6s\u001b[0m 1ms/step - loss: 1.6768 - mae: 0.6799 - r2_score_metric: -0.5621\n",
      "Epoch 2/10\n",
      "\u001b[1m3594/3594\u001b[0m \u001b[32m━━━━━━━━━━━━━━━━━━━━\u001b[0m\u001b[37m\u001b[0m \u001b[1m4s\u001b[0m 1ms/step - loss: 0.7736 - mae: 0.4203 - r2_score_metric: 0.5594\n",
      "Epoch 3/10\n",
      "\u001b[1m3594/3594\u001b[0m \u001b[32m━━━━━━━━━━━━━━━━━━━━\u001b[0m\u001b[37m\u001b[0m \u001b[1m4s\u001b[0m 1ms/step - loss: 0.6716 - mae: 0.4093 - r2_score_metric: 0.6437\n",
      "Epoch 4/10\n",
      "\u001b[1m3594/3594\u001b[0m \u001b[32m━━━━━━━━━━━━━━━━━━━━\u001b[0m\u001b[37m\u001b[0m \u001b[1m4s\u001b[0m 1ms/step - loss: 0.5832 - mae: 0.3838 - r2_score_metric: -0.0976\n",
      "Epoch 5/10\n",
      "\u001b[1m3594/3594\u001b[0m \u001b[32m━━━━━━━━━━━━━━━━━━━━\u001b[0m\u001b[37m\u001b[0m \u001b[1m5s\u001b[0m 1ms/step - loss: 0.5695 - mae: 0.3675 - r2_score_metric: 0.4821\n",
      "Epoch 6/10\n",
      "\u001b[1m3594/3594\u001b[0m \u001b[32m━━━━━━━━━━━━━━━━━━━━\u001b[0m\u001b[37m\u001b[0m \u001b[1m4s\u001b[0m 1ms/step - loss: 0.5175 - mae: 0.3626 - r2_score_metric: 0.3334\n",
      "Epoch 7/10\n",
      "\u001b[1m3594/3594\u001b[0m \u001b[32m━━━━━━━━━━━━━━━━━━━━\u001b[0m\u001b[37m\u001b[0m \u001b[1m4s\u001b[0m 1ms/step - loss: 0.5405 - mae: 0.3617 - r2_score_metric: 0.7233\n",
      "Epoch 8/10\n",
      "\u001b[1m3594/3594\u001b[0m \u001b[32m━━━━━━━━━━━━━━━━━━━━\u001b[0m\u001b[37m\u001b[0m \u001b[1m4s\u001b[0m 1ms/step - loss: 0.5215 - mae: 0.3474 - r2_score_metric: 0.7190\n",
      "Epoch 9/10\n",
      "\u001b[1m3594/3594\u001b[0m \u001b[32m━━━━━━━━━━━━━━━━━━━━\u001b[0m\u001b[37m\u001b[0m \u001b[1m4s\u001b[0m 1ms/step - loss: 0.5556 - mae: 0.3609 - r2_score_metric: 0.5871\n",
      "Epoch 10/10\n",
      "\u001b[1m3594/3594\u001b[0m \u001b[32m━━━━━━━━━━━━━━━━━━━━\u001b[0m\u001b[37m\u001b[0m \u001b[1m4s\u001b[0m 1ms/step - loss: 0.5367 - mae: 0.3491 - r2_score_metric: 0.7660\n",
      "\u001b[1m63/63\u001b[0m \u001b[32m━━━━━━━━━━━━━━━━━━━━\u001b[0m\u001b[37m\u001b[0m \u001b[1m0s\u001b[0m 2ms/step\n",
      "Epoch 1/10\n"
     ]
    },
    {
     "name": "stderr",
     "output_type": "stream",
     "text": [
      "c:\\Users\\frm19\\AppData\\Local\\Programs\\Python\\Python310\\lib\\site-packages\\keras\\src\\layers\\core\\dense.py:87: UserWarning: Do not pass an `input_shape`/`input_dim` argument to a layer. When using Sequential models, prefer using an `Input(shape)` object as the first layer in the model instead.\n",
      "  super().__init__(activity_regularizer=activity_regularizer, **kwargs)\n"
     ]
    },
    {
     "name": "stdout",
     "output_type": "stream",
     "text": [
      "\u001b[1m3594/3594\u001b[0m \u001b[32m━━━━━━━━━━━━━━━━━━━━\u001b[0m\u001b[37m\u001b[0m \u001b[1m6s\u001b[0m 1ms/step - loss: 1.8314 - mae: 0.7296 - r2_score_metric: -0.0985\n",
      "Epoch 2/10\n",
      "\u001b[1m3594/3594\u001b[0m \u001b[32m━━━━━━━━━━━━━━━━━━━━\u001b[0m\u001b[37m\u001b[0m \u001b[1m4s\u001b[0m 1ms/step - loss: 0.8237 - mae: 0.4565 - r2_score_metric: -25301.9707\n",
      "Epoch 3/10\n",
      "\u001b[1m3594/3594\u001b[0m \u001b[32m━━━━━━━━━━━━━━━━━━━━\u001b[0m\u001b[37m\u001b[0m \u001b[1m4s\u001b[0m 1ms/step - loss: 0.7383 - mae: 0.4058 - r2_score_metric: 0.5733\n",
      "Epoch 4/10\n",
      "\u001b[1m3594/3594\u001b[0m \u001b[32m━━━━━━━━━━━━━━━━━━━━\u001b[0m\u001b[37m\u001b[0m \u001b[1m4s\u001b[0m 1ms/step - loss: 0.6316 - mae: 0.3887 - r2_score_metric: 0.7333\n",
      "Epoch 5/10\n",
      "\u001b[1m3594/3594\u001b[0m \u001b[32m━━━━━━━━━━━━━━━━━━━━\u001b[0m\u001b[37m\u001b[0m \u001b[1m4s\u001b[0m 1ms/step - loss: 0.5792 - mae: 0.3676 - r2_score_metric: -19506.7266\n",
      "Epoch 6/10\n",
      "\u001b[1m3594/3594\u001b[0m \u001b[32m━━━━━━━━━━━━━━━━━━━━\u001b[0m\u001b[37m\u001b[0m \u001b[1m4s\u001b[0m 1ms/step - loss: 0.5644 - mae: 0.3609 - r2_score_metric: 0.6509\n",
      "Epoch 7/10\n",
      "\u001b[1m3594/3594\u001b[0m \u001b[32m━━━━━━━━━━━━━━━━━━━━\u001b[0m\u001b[37m\u001b[0m \u001b[1m4s\u001b[0m 1ms/step - loss: 0.5274 - mae: 0.3639 - r2_score_metric: 0.7656\n",
      "Epoch 8/10\n",
      "\u001b[1m3594/3594\u001b[0m \u001b[32m━━━━━━━━━━━━━━━━━━━━\u001b[0m\u001b[37m\u001b[0m \u001b[1m7s\u001b[0m 2ms/step - loss: 0.5670 - mae: 0.3635 - r2_score_metric: 0.7068\n",
      "Epoch 9/10\n",
      "\u001b[1m3594/3594\u001b[0m \u001b[32m━━━━━━━━━━━━━━━━━━━━\u001b[0m\u001b[37m\u001b[0m \u001b[1m6s\u001b[0m 2ms/step - loss: 0.5363 - mae: 0.3627 - r2_score_metric: 0.7589\n",
      "Epoch 10/10\n",
      "\u001b[1m3594/3594\u001b[0m \u001b[32m━━━━━━━━━━━━━━━━━━━━\u001b[0m\u001b[37m\u001b[0m \u001b[1m6s\u001b[0m 2ms/step - loss: 0.4856 - mae: 0.3531 - r2_score_metric: 0.6164\n",
      "\u001b[1m63/63\u001b[0m \u001b[32m━━━━━━━━━━━━━━━━━━━━\u001b[0m\u001b[37m\u001b[0m \u001b[1m0s\u001b[0m 3ms/step\n",
      "Epoch 1/10\n"
     ]
    },
    {
     "name": "stderr",
     "output_type": "stream",
     "text": [
      "c:\\Users\\frm19\\AppData\\Local\\Programs\\Python\\Python310\\lib\\site-packages\\keras\\src\\layers\\core\\dense.py:87: UserWarning: Do not pass an `input_shape`/`input_dim` argument to a layer. When using Sequential models, prefer using an `Input(shape)` object as the first layer in the model instead.\n",
      "  super().__init__(activity_regularizer=activity_regularizer, **kwargs)\n"
     ]
    },
    {
     "name": "stdout",
     "output_type": "stream",
     "text": [
      "\u001b[1m3594/3594\u001b[0m \u001b[32m━━━━━━━━━━━━━━━━━━━━\u001b[0m\u001b[37m\u001b[0m \u001b[1m8s\u001b[0m 2ms/step - loss: 2.0979 - mae: 0.7539 - r2_score_metric: -0.1122\n",
      "Epoch 2/10\n",
      "\u001b[1m3594/3594\u001b[0m \u001b[32m━━━━━━━━━━━━━━━━━━━━\u001b[0m\u001b[37m\u001b[0m \u001b[1m6s\u001b[0m 2ms/step - loss: 0.7967 - mae: 0.4474 - r2_score_metric: 0.6684\n",
      "Epoch 3/10\n",
      "\u001b[1m3594/3594\u001b[0m \u001b[32m━━━━━━━━━━━━━━━━━━━━\u001b[0m\u001b[37m\u001b[0m \u001b[1m9s\u001b[0m 2ms/step - loss: 0.6890 - mae: 0.4120 - r2_score_metric: 0.6297\n",
      "Epoch 4/10\n",
      "\u001b[1m3594/3594\u001b[0m \u001b[32m━━━━━━━━━━━━━━━━━━━━\u001b[0m\u001b[37m\u001b[0m \u001b[1m9s\u001b[0m 2ms/step - loss: 0.6144 - mae: 0.3857 - r2_score_metric: 0.6786\n",
      "Epoch 5/10\n",
      "\u001b[1m3594/3594\u001b[0m \u001b[32m━━━━━━━━━━━━━━━━━━━━\u001b[0m\u001b[37m\u001b[0m \u001b[1m5s\u001b[0m 1ms/step - loss: 0.6323 - mae: 0.3841 - r2_score_metric: 0.7262\n",
      "Epoch 6/10\n",
      "\u001b[1m3594/3594\u001b[0m \u001b[32m━━━━━━━━━━━━━━━━━━━━\u001b[0m\u001b[37m\u001b[0m \u001b[1m6s\u001b[0m 2ms/step - loss: 0.6298 - mae: 0.3755 - r2_score_metric: 0.6461\n",
      "Epoch 7/10\n",
      "\u001b[1m3594/3594\u001b[0m \u001b[32m━━━━━━━━━━━━━━━━━━━━\u001b[0m\u001b[37m\u001b[0m \u001b[1m6s\u001b[0m 2ms/step - loss: 0.5472 - mae: 0.3679 - r2_score_metric: -0.5287\n",
      "Epoch 8/10\n",
      "\u001b[1m3594/3594\u001b[0m \u001b[32m━━━━━━━━━━━━━━━━━━━━\u001b[0m\u001b[37m\u001b[0m \u001b[1m7s\u001b[0m 2ms/step - loss: 0.5943 - mae: 0.3701 - r2_score_metric: 0.5704\n",
      "Epoch 9/10\n",
      "\u001b[1m3594/3594\u001b[0m \u001b[32m━━━━━━━━━━━━━━━━━━━━\u001b[0m\u001b[37m\u001b[0m \u001b[1m5s\u001b[0m 2ms/step - loss: 0.5257 - mae: 0.3644 - r2_score_metric: 0.2088\n",
      "Epoch 10/10\n",
      "\u001b[1m3594/3594\u001b[0m \u001b[32m━━━━━━━━━━━━━━━━━━━━\u001b[0m\u001b[37m\u001b[0m \u001b[1m6s\u001b[0m 2ms/step - loss: 0.6020 - mae: 0.3716 - r2_score_metric: 0.5351\n",
      "\u001b[1m63/63\u001b[0m \u001b[32m━━━━━━━━━━━━━━━━━━━━\u001b[0m\u001b[37m\u001b[0m \u001b[1m0s\u001b[0m 2ms/step\n",
      "Epoch 1/10\n"
     ]
    },
    {
     "name": "stderr",
     "output_type": "stream",
     "text": [
      "c:\\Users\\frm19\\AppData\\Local\\Programs\\Python\\Python310\\lib\\site-packages\\keras\\src\\layers\\core\\dense.py:87: UserWarning: Do not pass an `input_shape`/`input_dim` argument to a layer. When using Sequential models, prefer using an `Input(shape)` object as the first layer in the model instead.\n",
      "  super().__init__(activity_regularizer=activity_regularizer, **kwargs)\n"
     ]
    },
    {
     "name": "stdout",
     "output_type": "stream",
     "text": [
      "\u001b[1m3594/3594\u001b[0m \u001b[32m━━━━━━━━━━━━━━━━━━━━\u001b[0m\u001b[37m\u001b[0m \u001b[1m8s\u001b[0m 2ms/step - loss: 1.5883 - mae: 0.6754 - r2_score_metric: -2.3183\n",
      "Epoch 2/10\n",
      "\u001b[1m3594/3594\u001b[0m \u001b[32m━━━━━━━━━━━━━━━━━━━━\u001b[0m\u001b[37m\u001b[0m \u001b[1m6s\u001b[0m 2ms/step - loss: 0.7652 - mae: 0.4390 - r2_score_metric: 0.5293\n",
      "Epoch 3/10\n",
      "\u001b[1m3594/3594\u001b[0m \u001b[32m━━━━━━━━━━━━━━━━━━━━\u001b[0m\u001b[37m\u001b[0m \u001b[1m7s\u001b[0m 2ms/step - loss: 0.7548 - mae: 0.4120 - r2_score_metric: 0.7194\n",
      "Epoch 4/10\n",
      "\u001b[1m3594/3594\u001b[0m \u001b[32m━━━━━━━━━━━━━━━━━━━━\u001b[0m\u001b[37m\u001b[0m \u001b[1m7s\u001b[0m 2ms/step - loss: 0.6682 - mae: 0.3953 - r2_score_metric: 0.6416\n",
      "Epoch 5/10\n",
      "\u001b[1m3594/3594\u001b[0m \u001b[32m━━━━━━━━━━━━━━━━━━━━\u001b[0m\u001b[37m\u001b[0m \u001b[1m6s\u001b[0m 2ms/step - loss: 0.5750 - mae: 0.3758 - r2_score_metric: -3.2271\n",
      "Epoch 6/10\n",
      "\u001b[1m3594/3594\u001b[0m \u001b[32m━━━━━━━━━━━━━━━━━━━━\u001b[0m\u001b[37m\u001b[0m \u001b[1m5s\u001b[0m 2ms/step - loss: 0.5914 - mae: 0.3756 - r2_score_metric: 0.6672\n",
      "Epoch 7/10\n",
      "\u001b[1m3594/3594\u001b[0m \u001b[32m━━━━━━━━━━━━━━━━━━━━\u001b[0m\u001b[37m\u001b[0m \u001b[1m5s\u001b[0m 1ms/step - loss: 0.5188 - mae: 0.3597 - r2_score_metric: 0.7385\n",
      "Epoch 8/10\n",
      "\u001b[1m3594/3594\u001b[0m \u001b[32m━━━━━━━━━━━━━━━━━━━━\u001b[0m\u001b[37m\u001b[0m \u001b[1m4s\u001b[0m 1ms/step - loss: 0.5269 - mae: 0.3626 - r2_score_metric: 0.7327\n",
      "Epoch 9/10\n",
      "\u001b[1m3594/3594\u001b[0m \u001b[32m━━━━━━━━━━━━━━━━━━━━\u001b[0m\u001b[37m\u001b[0m \u001b[1m5s\u001b[0m 1ms/step - loss: 0.5162 - mae: 0.3576 - r2_score_metric: -1.5829\n",
      "Epoch 10/10\n",
      "\u001b[1m3594/3594\u001b[0m \u001b[32m━━━━━━━━━━━━━━━━━━━━\u001b[0m\u001b[37m\u001b[0m \u001b[1m4s\u001b[0m 1ms/step - loss: 0.4886 - mae: 0.3550 - r2_score_metric: 0.7055\n",
      "\u001b[1m63/63\u001b[0m \u001b[32m━━━━━━━━━━━━━━━━━━━━\u001b[0m\u001b[37m\u001b[0m \u001b[1m0s\u001b[0m 2ms/step\n",
      "Epoch 1/10\n"
     ]
    },
    {
     "name": "stderr",
     "output_type": "stream",
     "text": [
      "c:\\Users\\frm19\\AppData\\Local\\Programs\\Python\\Python310\\lib\\site-packages\\keras\\src\\layers\\core\\dense.py:87: UserWarning: Do not pass an `input_shape`/`input_dim` argument to a layer. When using Sequential models, prefer using an `Input(shape)` object as the first layer in the model instead.\n",
      "  super().__init__(activity_regularizer=activity_regularizer, **kwargs)\n"
     ]
    },
    {
     "name": "stdout",
     "output_type": "stream",
     "text": [
      "\u001b[1m3594/3594\u001b[0m \u001b[32m━━━━━━━━━━━━━━━━━━━━\u001b[0m\u001b[37m\u001b[0m \u001b[1m6s\u001b[0m 1ms/step - loss: 1.6094 - mae: 0.6810 - r2_score_metric: -0.9282\n",
      "Epoch 2/10\n",
      "\u001b[1m3594/3594\u001b[0m \u001b[32m━━━━━━━━━━━━━━━━━━━━\u001b[0m\u001b[37m\u001b[0m \u001b[1m4s\u001b[0m 1ms/step - loss: 0.7436 - mae: 0.4315 - r2_score_metric: 0.3999\n",
      "Epoch 3/10\n",
      "\u001b[1m3594/3594\u001b[0m \u001b[32m━━━━━━━━━━━━━━━━━━━━\u001b[0m\u001b[37m\u001b[0m \u001b[1m4s\u001b[0m 1ms/step - loss: 0.7093 - mae: 0.4080 - r2_score_metric: 0.6406\n",
      "Epoch 4/10\n",
      "\u001b[1m3594/3594\u001b[0m \u001b[32m━━━━━━━━━━━━━━━━━━━━\u001b[0m\u001b[37m\u001b[0m \u001b[1m4s\u001b[0m 1ms/step - loss: 0.6499 - mae: 0.3923 - r2_score_metric: 0.2632\n",
      "Epoch 5/10\n",
      "\u001b[1m3594/3594\u001b[0m \u001b[32m━━━━━━━━━━━━━━━━━━━━\u001b[0m\u001b[37m\u001b[0m \u001b[1m4s\u001b[0m 1ms/step - loss: 0.6183 - mae: 0.3766 - r2_score_metric: 0.4285\n",
      "Epoch 6/10\n",
      "\u001b[1m3594/3594\u001b[0m \u001b[32m━━━━━━━━━━━━━━━━━━━━\u001b[0m\u001b[37m\u001b[0m \u001b[1m5s\u001b[0m 1ms/step - loss: 0.5771 - mae: 0.3638 - r2_score_metric: 0.6993\n",
      "Epoch 7/10\n",
      "\u001b[1m3594/3594\u001b[0m \u001b[32m━━━━━━━━━━━━━━━━━━━━\u001b[0m\u001b[37m\u001b[0m \u001b[1m7s\u001b[0m 2ms/step - loss: 0.5369 - mae: 0.3609 - r2_score_metric: 0.7101\n",
      "Epoch 8/10\n",
      "\u001b[1m3594/3594\u001b[0m \u001b[32m━━━━━━━━━━━━━━━━━━━━\u001b[0m\u001b[37m\u001b[0m \u001b[1m7s\u001b[0m 2ms/step - loss: 0.5643 - mae: 0.3626 - r2_score_metric: -3.0407\n",
      "Epoch 9/10\n",
      "\u001b[1m3594/3594\u001b[0m \u001b[32m━━━━━━━━━━━━━━━━━━━━\u001b[0m\u001b[37m\u001b[0m \u001b[1m5s\u001b[0m 1ms/step - loss: 0.5005 - mae: 0.3554 - r2_score_metric: 0.6556\n",
      "Epoch 10/10\n",
      "\u001b[1m3594/3594\u001b[0m \u001b[32m━━━━━━━━━━━━━━━━━━━━\u001b[0m\u001b[37m\u001b[0m \u001b[1m6s\u001b[0m 2ms/step - loss: 0.5483 - mae: 0.3665 - r2_score_metric: 0.7718\n",
      "\u001b[1m63/63\u001b[0m \u001b[32m━━━━━━━━━━━━━━━━━━━━\u001b[0m\u001b[37m\u001b[0m \u001b[1m0s\u001b[0m 2ms/step\n",
      "Epoch 1/10\n"
     ]
    },
    {
     "name": "stderr",
     "output_type": "stream",
     "text": [
      "c:\\Users\\frm19\\AppData\\Local\\Programs\\Python\\Python310\\lib\\site-packages\\keras\\src\\layers\\core\\dense.py:87: UserWarning: Do not pass an `input_shape`/`input_dim` argument to a layer. When using Sequential models, prefer using an `Input(shape)` object as the first layer in the model instead.\n",
      "  super().__init__(activity_regularizer=activity_regularizer, **kwargs)\n"
     ]
    },
    {
     "name": "stdout",
     "output_type": "stream",
     "text": [
      "\u001b[1m3594/3594\u001b[0m \u001b[32m━━━━━━━━━━━━━━━━━━━━\u001b[0m\u001b[37m\u001b[0m \u001b[1m7s\u001b[0m 1ms/step - loss: 1.6759 - mae: 0.6939 - r2_score_metric: -0.1684\n",
      "Epoch 2/10\n",
      "\u001b[1m3594/3594\u001b[0m \u001b[32m━━━━━━━━━━━━━━━━━━━━\u001b[0m\u001b[37m\u001b[0m \u001b[1m5s\u001b[0m 1ms/step - loss: 0.8481 - mae: 0.4472 - r2_score_metric: 0.5486\n",
      "Epoch 3/10\n",
      "\u001b[1m3594/3594\u001b[0m \u001b[32m━━━━━━━━━━━━━━━━━━━━\u001b[0m\u001b[37m\u001b[0m \u001b[1m7s\u001b[0m 2ms/step - loss: 0.6214 - mae: 0.3912 - r2_score_metric: 0.7183\n",
      "Epoch 4/10\n",
      "\u001b[1m3594/3594\u001b[0m \u001b[32m━━━━━━━━━━━━━━━━━━━━\u001b[0m\u001b[37m\u001b[0m \u001b[1m5s\u001b[0m 1ms/step - loss: 0.6592 - mae: 0.3905 - r2_score_metric: -1.7131\n",
      "Epoch 5/10\n",
      "\u001b[1m3594/3594\u001b[0m \u001b[32m━━━━━━━━━━━━━━━━━━━━\u001b[0m\u001b[37m\u001b[0m \u001b[1m5s\u001b[0m 1ms/step - loss: 0.6188 - mae: 0.3709 - r2_score_metric: -0.2083\n",
      "Epoch 6/10\n",
      "\u001b[1m3594/3594\u001b[0m \u001b[32m━━━━━━━━━━━━━━━━━━━━\u001b[0m\u001b[37m\u001b[0m \u001b[1m5s\u001b[0m 2ms/step - loss: 0.5650 - mae: 0.3632 - r2_score_metric: 0.7516\n",
      "Epoch 7/10\n",
      "\u001b[1m3594/3594\u001b[0m \u001b[32m━━━━━━━━━━━━━━━━━━━━\u001b[0m\u001b[37m\u001b[0m \u001b[1m6s\u001b[0m 2ms/step - loss: 0.5954 - mae: 0.3641 - r2_score_metric: 0.7550\n",
      "Epoch 8/10\n",
      "\u001b[1m3594/3594\u001b[0m \u001b[32m━━━━━━━━━━━━━━━━━━━━\u001b[0m\u001b[37m\u001b[0m \u001b[1m6s\u001b[0m 2ms/step - loss: 0.5535 - mae: 0.3544 - r2_score_metric: 0.6237\n",
      "Epoch 9/10\n",
      "\u001b[1m3594/3594\u001b[0m \u001b[32m━━━━━━━━━━━━━━━━━━━━\u001b[0m\u001b[37m\u001b[0m \u001b[1m6s\u001b[0m 2ms/step - loss: 0.5394 - mae: 0.3542 - r2_score_metric: -86.4722\n",
      "Epoch 10/10\n",
      "\u001b[1m3594/3594\u001b[0m \u001b[32m━━━━━━━━━━━━━━━━━━━━\u001b[0m\u001b[37m\u001b[0m \u001b[1m6s\u001b[0m 2ms/step - loss: 0.6046 - mae: 0.3624 - r2_score_metric: 0.7367\n",
      "\u001b[1m63/63\u001b[0m \u001b[32m━━━━━━━━━━━━━━━━━━━━\u001b[0m\u001b[37m\u001b[0m \u001b[1m0s\u001b[0m 2ms/step\n",
      "Target variable :  global in\n",
      "10-Fold Cross-Validation Scores:\n",
      "Fold 1: RMSE = 0.7295, MAE = 0.3115, R2 = 0.8957\n",
      "Fold 2: RMSE = 0.5966, MAE = 0.3011, R2 = 0.9208\n",
      "Fold 3: RMSE = 0.7241, MAE = 0.3418, R2 = 0.8884\n",
      "Fold 4: RMSE = 0.6220, MAE = 0.2835, R2 = 0.9195\n",
      "Fold 5: RMSE = 0.6544, MAE = 0.2838, R2 = 0.9150\n",
      "Fold 6: RMSE = 0.6670, MAE = 0.2976, R2 = 0.9128\n",
      "Fold 7: RMSE = 0.5617, MAE = 0.3021, R2 = 0.9288\n",
      "Fold 8: RMSE = 0.6534, MAE = 0.3547, R2 = 0.8990\n",
      "Fold 9: RMSE = 0.7398, MAE = 0.3546, R2 = 0.8939\n",
      "Fold 10: RMSE = 0.6328, MAE = 0.3003, R2 = 0.9174\n",
      "\n",
      "Average RMSE: 0.6581\n",
      "Average MAE: 0.3131\n",
      "Average R2: 0.9091\n",
      "Epoch 1/10\n"
     ]
    },
    {
     "name": "stderr",
     "output_type": "stream",
     "text": [
      "c:\\Users\\frm19\\AppData\\Local\\Programs\\Python\\Python310\\lib\\site-packages\\keras\\src\\layers\\core\\dense.py:87: UserWarning: Do not pass an `input_shape`/`input_dim` argument to a layer. When using Sequential models, prefer using an `Input(shape)` object as the first layer in the model instead.\n",
      "  super().__init__(activity_regularizer=activity_regularizer, **kwargs)\n"
     ]
    },
    {
     "name": "stdout",
     "output_type": "stream",
     "text": [
      "\u001b[1m3593/3593\u001b[0m \u001b[32m━━━━━━━━━━━━━━━━━━━━\u001b[0m\u001b[37m\u001b[0m \u001b[1m7s\u001b[0m 1ms/step - loss: 51.2745 - mae: 4.7733 - r2_score_metric: -78.3421\n",
      "Epoch 2/10\n",
      "\u001b[1m3593/3593\u001b[0m \u001b[32m━━━━━━━━━━━━━━━━━━━━\u001b[0m\u001b[37m\u001b[0m \u001b[1m5s\u001b[0m 1ms/step - loss: 10.0770 - mae: 2.5229 - r2_score_metric: -11.3965\n",
      "Epoch 3/10\n",
      "\u001b[1m3593/3593\u001b[0m \u001b[32m━━━━━━━━━━━━━━━━━━━━\u001b[0m\u001b[37m\u001b[0m \u001b[1m5s\u001b[0m 1ms/step - loss: 8.0060 - mae: 2.2500 - r2_score_metric: -8.3568\n",
      "Epoch 4/10\n",
      "\u001b[1m3593/3593\u001b[0m \u001b[32m━━━━━━━━━━━━━━━━━━━━\u001b[0m\u001b[37m\u001b[0m \u001b[1m4s\u001b[0m 1ms/step - loss: 6.6465 - mae: 2.0414 - r2_score_metric: -7.2201\n",
      "Epoch 5/10\n",
      "\u001b[1m3593/3593\u001b[0m \u001b[32m━━━━━━━━━━━━━━━━━━━━\u001b[0m\u001b[37m\u001b[0m \u001b[1m5s\u001b[0m 1ms/step - loss: 5.6708 - mae: 1.8909 - r2_score_metric: -6.0898\n",
      "Epoch 6/10\n",
      "\u001b[1m3593/3593\u001b[0m \u001b[32m━━━━━━━━━━━━━━━━━━━━\u001b[0m\u001b[37m\u001b[0m \u001b[1m5s\u001b[0m 2ms/step - loss: 4.8288 - mae: 1.7384 - r2_score_metric: -4.6730\n",
      "Epoch 7/10\n",
      "\u001b[1m3593/3593\u001b[0m \u001b[32m━━━━━━━━━━━━━━━━━━━━\u001b[0m\u001b[37m\u001b[0m \u001b[1m4s\u001b[0m 1ms/step - loss: 4.2850 - mae: 1.6402 - r2_score_metric: -4.0707\n",
      "Epoch 8/10\n",
      "\u001b[1m3593/3593\u001b[0m \u001b[32m━━━━━━━━━━━━━━━━━━━━\u001b[0m\u001b[37m\u001b[0m \u001b[1m5s\u001b[0m 1ms/step - loss: 3.7811 - mae: 1.5302 - r2_score_metric: -3.2680\n",
      "Epoch 9/10\n",
      "\u001b[1m3593/3593\u001b[0m \u001b[32m━━━━━━━━━━━━━━━━━━━━\u001b[0m\u001b[37m\u001b[0m \u001b[1m5s\u001b[0m 1ms/step - loss: 3.2751 - mae: 1.4374 - r2_score_metric: -2.7442\n",
      "Epoch 10/10\n",
      "\u001b[1m3593/3593\u001b[0m \u001b[32m━━━━━━━━━━━━━━━━━━━━\u001b[0m\u001b[37m\u001b[0m \u001b[1m5s\u001b[0m 1ms/step - loss: 2.9093 - mae: 1.3517 - r2_score_metric: -2.2783\n",
      "\u001b[1m63/63\u001b[0m \u001b[32m━━━━━━━━━━━━━━━━━━━━\u001b[0m\u001b[37m\u001b[0m \u001b[1m0s\u001b[0m 2ms/step\n",
      "Epoch 1/10\n"
     ]
    },
    {
     "name": "stderr",
     "output_type": "stream",
     "text": [
      "c:\\Users\\frm19\\AppData\\Local\\Programs\\Python\\Python310\\lib\\site-packages\\keras\\src\\layers\\core\\dense.py:87: UserWarning: Do not pass an `input_shape`/`input_dim` argument to a layer. When using Sequential models, prefer using an `Input(shape)` object as the first layer in the model instead.\n",
      "  super().__init__(activity_regularizer=activity_regularizer, **kwargs)\n"
     ]
    },
    {
     "name": "stdout",
     "output_type": "stream",
     "text": [
      "\u001b[1m3593/3593\u001b[0m \u001b[32m━━━━━━━━━━━━━━━━━━━━\u001b[0m\u001b[37m\u001b[0m \u001b[1m10s\u001b[0m 2ms/step - loss: 55.8717 - mae: 4.9741 - r2_score_metric: -74.6655\n",
      "Epoch 2/10\n",
      "\u001b[1m3593/3593\u001b[0m \u001b[32m━━━━━━━━━━━━━━━━━━━━\u001b[0m\u001b[37m\u001b[0m \u001b[1m5s\u001b[0m 1ms/step - loss: 10.1660 - mae: 2.5332 - r2_score_metric: -10.2250\n",
      "Epoch 3/10\n",
      "\u001b[1m3593/3593\u001b[0m \u001b[32m━━━━━━━━━━━━━━━━━━━━\u001b[0m\u001b[37m\u001b[0m \u001b[1m5s\u001b[0m 1ms/step - loss: 7.6843 - mae: 2.2143 - r2_score_metric: -8.0202\n",
      "Epoch 4/10\n",
      "\u001b[1m3593/3593\u001b[0m \u001b[32m━━━━━━━━━━━━━━━━━━━━\u001b[0m\u001b[37m\u001b[0m \u001b[1m5s\u001b[0m 1ms/step - loss: 6.4156 - mae: 2.0075 - r2_score_metric: -6.3804\n",
      "Epoch 5/10\n",
      "\u001b[1m3593/3593\u001b[0m \u001b[32m━━━━━━━━━━━━━━━━━━━━\u001b[0m\u001b[37m\u001b[0m \u001b[1m4s\u001b[0m 1ms/step - loss: 5.3818 - mae: 1.8363 - r2_score_metric: -5.2823\n",
      "Epoch 6/10\n",
      "\u001b[1m3593/3593\u001b[0m \u001b[32m━━━━━━━━━━━━━━━━━━━━\u001b[0m\u001b[37m\u001b[0m \u001b[1m4s\u001b[0m 1ms/step - loss: 4.8522 - mae: 1.7388 - r2_score_metric: -4.7052\n",
      "Epoch 7/10\n",
      "\u001b[1m3593/3593\u001b[0m \u001b[32m━━━━━━━━━━━━━━━━━━━━\u001b[0m\u001b[37m\u001b[0m \u001b[1m4s\u001b[0m 1ms/step - loss: 4.1696 - mae: 1.6161 - r2_score_metric: -4.8439\n",
      "Epoch 8/10\n",
      "\u001b[1m3593/3593\u001b[0m \u001b[32m━━━━━━━━━━━━━━━━━━━━\u001b[0m\u001b[37m\u001b[0m \u001b[1m4s\u001b[0m 1ms/step - loss: 3.7810 - mae: 1.5435 - r2_score_metric: -3.7567\n",
      "Epoch 9/10\n",
      "\u001b[1m3593/3593\u001b[0m \u001b[32m━━━━━━━━━━━━━━━━━━━━\u001b[0m\u001b[37m\u001b[0m \u001b[1m4s\u001b[0m 1ms/step - loss: 3.2497 - mae: 1.4252 - r2_score_metric: -3.2013\n",
      "Epoch 10/10\n",
      "\u001b[1m3593/3593\u001b[0m \u001b[32m━━━━━━━━━━━━━━━━━━━━\u001b[0m\u001b[37m\u001b[0m \u001b[1m4s\u001b[0m 1ms/step - loss: 2.9395 - mae: 1.3526 - r2_score_metric: -2.4673\n",
      "\u001b[1m63/63\u001b[0m \u001b[32m━━━━━━━━━━━━━━━━━━━━\u001b[0m\u001b[37m\u001b[0m \u001b[1m0s\u001b[0m 2ms/step\n",
      "Epoch 1/10\n"
     ]
    },
    {
     "name": "stderr",
     "output_type": "stream",
     "text": [
      "c:\\Users\\frm19\\AppData\\Local\\Programs\\Python\\Python310\\lib\\site-packages\\keras\\src\\layers\\core\\dense.py:87: UserWarning: Do not pass an `input_shape`/`input_dim` argument to a layer. When using Sequential models, prefer using an `Input(shape)` object as the first layer in the model instead.\n",
      "  super().__init__(activity_regularizer=activity_regularizer, **kwargs)\n"
     ]
    },
    {
     "name": "stdout",
     "output_type": "stream",
     "text": [
      "\u001b[1m3594/3594\u001b[0m \u001b[32m━━━━━━━━━━━━━━━━━━━━\u001b[0m\u001b[37m\u001b[0m \u001b[1m5s\u001b[0m 1ms/step - loss: 56.7563 - mae: 5.1308 - r2_score_metric: -153.1881\n",
      "Epoch 2/10\n",
      "\u001b[1m3594/3594\u001b[0m \u001b[32m━━━━━━━━━━━━━━━━━━━━\u001b[0m\u001b[37m\u001b[0m \u001b[1m6s\u001b[0m 2ms/step - loss: 13.9485 - mae: 2.9740 - r2_score_metric: -16.9607\n",
      "Epoch 3/10\n",
      "\u001b[1m3594/3594\u001b[0m \u001b[32m━━━━━━━━━━━━━━━━━━━━\u001b[0m\u001b[37m\u001b[0m \u001b[1m7s\u001b[0m 2ms/step - loss: 11.5311 - mae: 2.6995 - r2_score_metric: -15.7021\n",
      "Epoch 4/10\n",
      "\u001b[1m3594/3594\u001b[0m \u001b[32m━━━━━━━━━━━━━━━━━━━━\u001b[0m\u001b[37m\u001b[0m \u001b[1m6s\u001b[0m 2ms/step - loss: 9.5591 - mae: 2.4485 - r2_score_metric: -29.0553\n",
      "Epoch 5/10\n",
      "\u001b[1m3594/3594\u001b[0m \u001b[32m━━━━━━━━━━━━━━━━━━━━\u001b[0m\u001b[37m\u001b[0m \u001b[1m9s\u001b[0m 2ms/step - loss: 8.1480 - mae: 2.2637 - r2_score_metric: -13.9648\n",
      "Epoch 6/10\n",
      "\u001b[1m3594/3594\u001b[0m \u001b[32m━━━━━━━━━━━━━━━━━━━━\u001b[0m\u001b[37m\u001b[0m \u001b[1m5s\u001b[0m 1ms/step - loss: 6.9050 - mae: 2.0685 - r2_score_metric: -16.3786\n",
      "Epoch 7/10\n",
      "\u001b[1m3594/3594\u001b[0m \u001b[32m━━━━━━━━━━━━━━━━━━━━\u001b[0m\u001b[37m\u001b[0m \u001b[1m4s\u001b[0m 1ms/step - loss: 5.5488 - mae: 1.8621 - r2_score_metric: -6.9280\n",
      "Epoch 8/10\n",
      "\u001b[1m3594/3594\u001b[0m \u001b[32m━━━━━━━━━━━━━━━━━━━━\u001b[0m\u001b[37m\u001b[0m \u001b[1m4s\u001b[0m 1ms/step - loss: 4.5944 - mae: 1.6922 - r2_score_metric: -45.9856\n",
      "Epoch 9/10\n",
      "\u001b[1m3594/3594\u001b[0m \u001b[32m━━━━━━━━━━━━━━━━━━━━\u001b[0m\u001b[37m\u001b[0m \u001b[1m5s\u001b[0m 1ms/step - loss: 4.0690 - mae: 1.5932 - r2_score_metric: -4.4701\n",
      "Epoch 10/10\n",
      "\u001b[1m3594/3594\u001b[0m \u001b[32m━━━━━━━━━━━━━━━━━━━━\u001b[0m\u001b[37m\u001b[0m \u001b[1m4s\u001b[0m 1ms/step - loss: 3.4575 - mae: 1.4654 - r2_score_metric: -17.5318\n",
      "\u001b[1m63/63\u001b[0m \u001b[32m━━━━━━━━━━━━━━━━━━━━\u001b[0m\u001b[37m\u001b[0m \u001b[1m0s\u001b[0m 2ms/step\n",
      "Epoch 1/10\n"
     ]
    },
    {
     "name": "stderr",
     "output_type": "stream",
     "text": [
      "c:\\Users\\frm19\\AppData\\Local\\Programs\\Python\\Python310\\lib\\site-packages\\keras\\src\\layers\\core\\dense.py:87: UserWarning: Do not pass an `input_shape`/`input_dim` argument to a layer. When using Sequential models, prefer using an `Input(shape)` object as the first layer in the model instead.\n",
      "  super().__init__(activity_regularizer=activity_regularizer, **kwargs)\n"
     ]
    },
    {
     "name": "stdout",
     "output_type": "stream",
     "text": [
      "\u001b[1m3594/3594\u001b[0m \u001b[32m━━━━━━━━━━━━━━━━━━━━\u001b[0m\u001b[37m\u001b[0m \u001b[1m6s\u001b[0m 1ms/step - loss: 48.8714 - mae: 4.6906 - r2_score_metric: -69.7611\n",
      "Epoch 2/10\n",
      "\u001b[1m3594/3594\u001b[0m \u001b[32m━━━━━━━━━━━━━━━━━━━━\u001b[0m\u001b[37m\u001b[0m \u001b[1m4s\u001b[0m 1ms/step - loss: 9.8372 - mae: 2.4931 - r2_score_metric: -10.6308\n",
      "Epoch 3/10\n",
      "\u001b[1m3594/3594\u001b[0m \u001b[32m━━━━━━━━━━━━━━━━━━━━\u001b[0m\u001b[37m\u001b[0m \u001b[1m6s\u001b[0m 2ms/step - loss: 7.5958 - mae: 2.2025 - r2_score_metric: -8.1361\n",
      "Epoch 4/10\n",
      "\u001b[1m3594/3594\u001b[0m \u001b[32m━━━━━━━━━━━━━━━━━━━━\u001b[0m\u001b[37m\u001b[0m \u001b[1m4s\u001b[0m 1ms/step - loss: 6.3509 - mae: 1.9831 - r2_score_metric: -10.0020\n",
      "Epoch 5/10\n",
      "\u001b[1m3594/3594\u001b[0m \u001b[32m━━━━━━━━━━━━━━━━━━━━\u001b[0m\u001b[37m\u001b[0m \u001b[1m4s\u001b[0m 1ms/step - loss: 5.2825 - mae: 1.8233 - r2_score_metric: -5.8638\n",
      "Epoch 6/10\n",
      "\u001b[1m3594/3594\u001b[0m \u001b[32m━━━━━━━━━━━━━━━━━━━━\u001b[0m\u001b[37m\u001b[0m \u001b[1m4s\u001b[0m 1ms/step - loss: 4.6822 - mae: 1.7081 - r2_score_metric: -5.0679\n",
      "Epoch 7/10\n",
      "\u001b[1m3594/3594\u001b[0m \u001b[32m━━━━━━━━━━━━━━━━━━━━\u001b[0m\u001b[37m\u001b[0m \u001b[1m4s\u001b[0m 1ms/step - loss: 3.9980 - mae: 1.5836 - r2_score_metric: -4.2044\n",
      "Epoch 8/10\n",
      "\u001b[1m3594/3594\u001b[0m \u001b[32m━━━━━━━━━━━━━━━━━━━━\u001b[0m\u001b[37m\u001b[0m \u001b[1m4s\u001b[0m 1ms/step - loss: 3.3357 - mae: 1.4344 - r2_score_metric: -3.1578\n",
      "Epoch 9/10\n",
      "\u001b[1m3594/3594\u001b[0m \u001b[32m━━━━━━━━━━━━━━━━━━━━\u001b[0m\u001b[37m\u001b[0m \u001b[1m4s\u001b[0m 1ms/step - loss: 3.1235 - mae: 1.3990 - r2_score_metric: -2.9766\n",
      "Epoch 10/10\n",
      "\u001b[1m3594/3594\u001b[0m \u001b[32m━━━━━━━━━━━━━━━━━━━━\u001b[0m\u001b[37m\u001b[0m \u001b[1m4s\u001b[0m 1ms/step - loss: 2.8020 - mae: 1.3192 - r2_score_metric: -4.8839\n",
      "\u001b[1m63/63\u001b[0m \u001b[32m━━━━━━━━━━━━━━━━━━━━\u001b[0m\u001b[37m\u001b[0m \u001b[1m0s\u001b[0m 2ms/step  \n",
      "Epoch 1/10\n"
     ]
    },
    {
     "name": "stderr",
     "output_type": "stream",
     "text": [
      "c:\\Users\\frm19\\AppData\\Local\\Programs\\Python\\Python310\\lib\\site-packages\\keras\\src\\layers\\core\\dense.py:87: UserWarning: Do not pass an `input_shape`/`input_dim` argument to a layer. When using Sequential models, prefer using an `Input(shape)` object as the first layer in the model instead.\n",
      "  super().__init__(activity_regularizer=activity_regularizer, **kwargs)\n"
     ]
    },
    {
     "name": "stdout",
     "output_type": "stream",
     "text": [
      "\u001b[1m3594/3594\u001b[0m \u001b[32m━━━━━━━━━━━━━━━━━━━━\u001b[0m\u001b[37m\u001b[0m \u001b[1m6s\u001b[0m 1ms/step - loss: 49.9082 - mae: 4.7411 - r2_score_metric: -54.4294\n",
      "Epoch 2/10\n",
      "\u001b[1m3594/3594\u001b[0m \u001b[32m━━━━━━━━━━━━━━━━━━━━\u001b[0m\u001b[37m\u001b[0m \u001b[1m5s\u001b[0m 1ms/step - loss: 10.8717 - mae: 2.6204 - r2_score_metric: -39.6614\n",
      "Epoch 3/10\n",
      "\u001b[1m3594/3594\u001b[0m \u001b[32m━━━━━━━━━━━━━━━━━━━━\u001b[0m\u001b[37m\u001b[0m \u001b[1m4s\u001b[0m 1ms/step - loss: 8.6415 - mae: 2.3314 - r2_score_metric: -18.7606\n",
      "Epoch 4/10\n",
      "\u001b[1m3594/3594\u001b[0m \u001b[32m━━━━━━━━━━━━━━━━━━━━\u001b[0m\u001b[37m\u001b[0m \u001b[1m4s\u001b[0m 1ms/step - loss: 7.3123 - mae: 2.1325 - r2_score_metric: -12.5040\n",
      "Epoch 5/10\n",
      "\u001b[1m3594/3594\u001b[0m \u001b[32m━━━━━━━━━━━━━━━━━━━━\u001b[0m\u001b[37m\u001b[0m \u001b[1m4s\u001b[0m 1ms/step - loss: 5.8446 - mae: 1.9145 - r2_score_metric: -11.6222\n",
      "Epoch 6/10\n",
      "\u001b[1m3594/3594\u001b[0m \u001b[32m━━━━━━━━━━━━━━━━━━━━\u001b[0m\u001b[37m\u001b[0m \u001b[1m4s\u001b[0m 1ms/step - loss: 5.1247 - mae: 1.7930 - r2_score_metric: -6.6137\n",
      "Epoch 7/10\n",
      "\u001b[1m3594/3594\u001b[0m \u001b[32m━━━━━━━━━━━━━━━━━━━━\u001b[0m\u001b[37m\u001b[0m \u001b[1m4s\u001b[0m 1ms/step - loss: 4.1623 - mae: 1.6260 - r2_score_metric: -5.3537\n",
      "Epoch 8/10\n",
      "\u001b[1m3594/3594\u001b[0m \u001b[32m━━━━━━━━━━━━━━━━━━━━\u001b[0m\u001b[37m\u001b[0m \u001b[1m4s\u001b[0m 1ms/step - loss: 3.8343 - mae: 1.5506 - r2_score_metric: -6.5133\n",
      "Epoch 9/10\n",
      "\u001b[1m3594/3594\u001b[0m \u001b[32m━━━━━━━━━━━━━━━━━━━━\u001b[0m\u001b[37m\u001b[0m \u001b[1m4s\u001b[0m 1ms/step - loss: 3.5153 - mae: 1.4736 - r2_score_metric: -4.6253\n",
      "Epoch 10/10\n",
      "\u001b[1m3594/3594\u001b[0m \u001b[32m━━━━━━━━━━━━━━━━━━━━\u001b[0m\u001b[37m\u001b[0m \u001b[1m6s\u001b[0m 2ms/step - loss: 2.9960 - mae: 1.3722 - r2_score_metric: -2.7277\n",
      "\u001b[1m63/63\u001b[0m \u001b[32m━━━━━━━━━━━━━━━━━━━━\u001b[0m\u001b[37m\u001b[0m \u001b[1m0s\u001b[0m 3ms/step\n",
      "Epoch 1/10\n"
     ]
    },
    {
     "name": "stderr",
     "output_type": "stream",
     "text": [
      "c:\\Users\\frm19\\AppData\\Local\\Programs\\Python\\Python310\\lib\\site-packages\\keras\\src\\layers\\core\\dense.py:87: UserWarning: Do not pass an `input_shape`/`input_dim` argument to a layer. When using Sequential models, prefer using an `Input(shape)` object as the first layer in the model instead.\n",
      "  super().__init__(activity_regularizer=activity_regularizer, **kwargs)\n"
     ]
    },
    {
     "name": "stdout",
     "output_type": "stream",
     "text": [
      "\u001b[1m3594/3594\u001b[0m \u001b[32m━━━━━━━━━━━━━━━━━━━━\u001b[0m\u001b[37m\u001b[0m \u001b[1m8s\u001b[0m 1ms/step - loss: 54.0617 - mae: 5.0506 - r2_score_metric: -74.9693\n",
      "Epoch 2/10\n",
      "\u001b[1m3594/3594\u001b[0m \u001b[32m━━━━━━━━━━━━━━━━━━━━\u001b[0m\u001b[37m\u001b[0m \u001b[1m6s\u001b[0m 2ms/step - loss: 12.1184 - mae: 2.7803 - r2_score_metric: -74.0366\n",
      "Epoch 3/10\n",
      "\u001b[1m3594/3594\u001b[0m \u001b[32m━━━━━━━━━━━━━━━━━━━━\u001b[0m\u001b[37m\u001b[0m \u001b[1m4s\u001b[0m 1ms/step - loss: 9.5705 - mae: 2.4675 - r2_score_metric: -23.9202\n",
      "Epoch 4/10\n",
      "\u001b[1m3594/3594\u001b[0m \u001b[32m━━━━━━━━━━━━━━━━━━━━\u001b[0m\u001b[37m\u001b[0m \u001b[1m5s\u001b[0m 1ms/step - loss: 8.0505 - mae: 2.2566 - r2_score_metric: -15.4269\n",
      "Epoch 5/10\n",
      "\u001b[1m3594/3594\u001b[0m \u001b[32m━━━━━━━━━━━━━━━━━━━━\u001b[0m\u001b[37m\u001b[0m \u001b[1m6s\u001b[0m 2ms/step - loss: 6.8749 - mae: 2.0745 - r2_score_metric: -14.9910\n",
      "Epoch 6/10\n",
      "\u001b[1m3594/3594\u001b[0m \u001b[32m━━━━━━━━━━━━━━━━━━━━\u001b[0m\u001b[37m\u001b[0m \u001b[1m5s\u001b[0m 1ms/step - loss: 5.8712 - mae: 1.9223 - r2_score_metric: -6.3249\n",
      "Epoch 7/10\n",
      "\u001b[1m3594/3594\u001b[0m \u001b[32m━━━━━━━━━━━━━━━━━━━━\u001b[0m\u001b[37m\u001b[0m \u001b[1m5s\u001b[0m 2ms/step - loss: 4.9595 - mae: 1.7647 - r2_score_metric: -5.0998\n",
      "Epoch 8/10\n",
      "\u001b[1m3594/3594\u001b[0m \u001b[32m━━━━━━━━━━━━━━━━━━━━\u001b[0m\u001b[37m\u001b[0m \u001b[1m6s\u001b[0m 2ms/step - loss: 4.2716 - mae: 1.6370 - r2_score_metric: -12.1983\n",
      "Epoch 9/10\n",
      "\u001b[1m3594/3594\u001b[0m \u001b[32m━━━━━━━━━━━━━━━━━━━━\u001b[0m\u001b[37m\u001b[0m \u001b[1m6s\u001b[0m 2ms/step - loss: 3.9439 - mae: 1.5669 - r2_score_metric: -4.4801\n",
      "Epoch 10/10\n",
      "\u001b[1m3594/3594\u001b[0m \u001b[32m━━━━━━━━━━━━━━━━━━━━\u001b[0m\u001b[37m\u001b[0m \u001b[1m8s\u001b[0m 2ms/step - loss: 3.3826 - mae: 1.4542 - r2_score_metric: -2.9082\n",
      "\u001b[1m63/63\u001b[0m \u001b[32m━━━━━━━━━━━━━━━━━━━━\u001b[0m\u001b[37m\u001b[0m \u001b[1m0s\u001b[0m 2ms/step\n",
      "Epoch 1/10\n"
     ]
    },
    {
     "name": "stderr",
     "output_type": "stream",
     "text": [
      "c:\\Users\\frm19\\AppData\\Local\\Programs\\Python\\Python310\\lib\\site-packages\\keras\\src\\layers\\core\\dense.py:87: UserWarning: Do not pass an `input_shape`/`input_dim` argument to a layer. When using Sequential models, prefer using an `Input(shape)` object as the first layer in the model instead.\n",
      "  super().__init__(activity_regularizer=activity_regularizer, **kwargs)\n"
     ]
    },
    {
     "name": "stdout",
     "output_type": "stream",
     "text": [
      "\u001b[1m3594/3594\u001b[0m \u001b[32m━━━━━━━━━━━━━━━━━━━━\u001b[0m\u001b[37m\u001b[0m \u001b[1m8s\u001b[0m 2ms/step - loss: 52.1539 - mae: 4.8439 - r2_score_metric: -107.1341\n",
      "Epoch 2/10\n",
      "\u001b[1m3594/3594\u001b[0m \u001b[32m━━━━━━━━━━━━━━━━━━━━\u001b[0m\u001b[37m\u001b[0m \u001b[1m6s\u001b[0m 2ms/step - loss: 9.9167 - mae: 2.5063 - r2_score_metric: -17.9268\n",
      "Epoch 3/10\n",
      "\u001b[1m3594/3594\u001b[0m \u001b[32m━━━━━━━━━━━━━━━━━━━━\u001b[0m\u001b[37m\u001b[0m \u001b[1m5s\u001b[0m 1ms/step - loss: 7.9489 - mae: 2.2332 - r2_score_metric: -16.2293\n",
      "Epoch 4/10\n",
      "\u001b[1m3594/3594\u001b[0m \u001b[32m━━━━━━━━━━━━━━━━━━━━\u001b[0m\u001b[37m\u001b[0m \u001b[1m6s\u001b[0m 2ms/step - loss: 6.3283 - mae: 2.0004 - r2_score_metric: -6.8178\n",
      "Epoch 5/10\n",
      "\u001b[1m3594/3594\u001b[0m \u001b[32m━━━━━━━━━━━━━━━━━━━━\u001b[0m\u001b[37m\u001b[0m \u001b[1m7s\u001b[0m 2ms/step - loss: 5.3769 - mae: 1.8284 - r2_score_metric: -7.3531\n",
      "Epoch 6/10\n",
      "\u001b[1m3594/3594\u001b[0m \u001b[32m━━━━━━━━━━━━━━━━━━━━\u001b[0m\u001b[37m\u001b[0m \u001b[1m5s\u001b[0m 1ms/step - loss: 4.6601 - mae: 1.6918 - r2_score_metric: -13.3683\n",
      "Epoch 7/10\n",
      "\u001b[1m3594/3594\u001b[0m \u001b[32m━━━━━━━━━━━━━━━━━━━━\u001b[0m\u001b[37m\u001b[0m \u001b[1m5s\u001b[0m 1ms/step - loss: 4.1136 - mae: 1.5986 - r2_score_metric: -4.6006\n",
      "Epoch 8/10\n",
      "\u001b[1m3594/3594\u001b[0m \u001b[32m━━━━━━━━━━━━━━━━━━━━\u001b[0m\u001b[37m\u001b[0m \u001b[1m4s\u001b[0m 1ms/step - loss: 3.6759 - mae: 1.5144 - r2_score_metric: -6.1981\n",
      "Epoch 9/10\n",
      "\u001b[1m3594/3594\u001b[0m \u001b[32m━━━━━━━━━━━━━━━━━━━━\u001b[0m\u001b[37m\u001b[0m \u001b[1m6s\u001b[0m 2ms/step - loss: 3.3223 - mae: 1.4356 - r2_score_metric: -6.5977\n",
      "Epoch 10/10\n",
      "\u001b[1m3594/3594\u001b[0m \u001b[32m━━━━━━━━━━━━━━━━━━━━\u001b[0m\u001b[37m\u001b[0m \u001b[1m7s\u001b[0m 2ms/step - loss: 3.0080 - mae: 1.3778 - r2_score_metric: -2.9822\n",
      "\u001b[1m63/63\u001b[0m \u001b[32m━━━━━━━━━━━━━━━━━━━━\u001b[0m\u001b[37m\u001b[0m \u001b[1m0s\u001b[0m 3ms/step\n",
      "Epoch 1/10\n"
     ]
    },
    {
     "name": "stderr",
     "output_type": "stream",
     "text": [
      "c:\\Users\\frm19\\AppData\\Local\\Programs\\Python\\Python310\\lib\\site-packages\\keras\\src\\layers\\core\\dense.py:87: UserWarning: Do not pass an `input_shape`/`input_dim` argument to a layer. When using Sequential models, prefer using an `Input(shape)` object as the first layer in the model instead.\n",
      "  super().__init__(activity_regularizer=activity_regularizer, **kwargs)\n"
     ]
    },
    {
     "name": "stdout",
     "output_type": "stream",
     "text": [
      "\u001b[1m3594/3594\u001b[0m \u001b[32m━━━━━━━━━━━━━━━━━━━━\u001b[0m\u001b[37m\u001b[0m \u001b[1m12s\u001b[0m 2ms/step - loss: 60.9118 - mae: 5.4173 - r2_score_metric: -158.1340\n",
      "Epoch 2/10\n",
      "\u001b[1m3594/3594\u001b[0m \u001b[32m━━━━━━━━━━━━━━━━━━━━\u001b[0m\u001b[37m\u001b[0m \u001b[1m8s\u001b[0m 2ms/step - loss: 15.2127 - mae: 3.0993 - r2_score_metric: -31.4000\n",
      "Epoch 3/10\n",
      "\u001b[1m3594/3594\u001b[0m \u001b[32m━━━━━━━━━━━━━━━━━━━━\u001b[0m\u001b[37m\u001b[0m \u001b[1m6s\u001b[0m 2ms/step - loss: 12.3032 - mae: 2.7811 - r2_score_metric: -32.6504\n",
      "Epoch 4/10\n",
      "\u001b[1m3594/3594\u001b[0m \u001b[32m━━━━━━━━━━━━━━━━━━━━\u001b[0m\u001b[37m\u001b[0m \u001b[1m8s\u001b[0m 2ms/step - loss: 10.0195 - mae: 2.5041 - r2_score_metric: -40.9537\n",
      "Epoch 5/10\n",
      "\u001b[1m3594/3594\u001b[0m \u001b[32m━━━━━━━━━━━━━━━━━━━━\u001b[0m\u001b[37m\u001b[0m \u001b[1m7s\u001b[0m 2ms/step - loss: 8.6633 - mae: 2.3237 - r2_score_metric: -35.4851\n",
      "Epoch 6/10\n",
      "\u001b[1m3594/3594\u001b[0m \u001b[32m━━━━━━━━━━━━━━━━━━━━\u001b[0m\u001b[37m\u001b[0m \u001b[1m5s\u001b[0m 1ms/step - loss: 7.2238 - mae: 2.1316 - r2_score_metric: -7.7668\n",
      "Epoch 7/10\n",
      "\u001b[1m3594/3594\u001b[0m \u001b[32m━━━━━━━━━━━━━━━━━━━━\u001b[0m\u001b[37m\u001b[0m \u001b[1m4s\u001b[0m 1ms/step - loss: 6.0367 - mae: 1.9306 - r2_score_metric: -12.8138\n",
      "Epoch 8/10\n",
      "\u001b[1m3594/3594\u001b[0m \u001b[32m━━━━━━━━━━━━━━━━━━━━\u001b[0m\u001b[37m\u001b[0m \u001b[1m4s\u001b[0m 1ms/step - loss: 5.1031 - mae: 1.7920 - r2_score_metric: -18.1101\n",
      "Epoch 9/10\n",
      "\u001b[1m3594/3594\u001b[0m \u001b[32m━━━━━━━━━━━━━━━━━━━━\u001b[0m\u001b[37m\u001b[0m \u001b[1m4s\u001b[0m 1ms/step - loss: 4.3509 - mae: 1.6362 - r2_score_metric: -5.4076\n",
      "Epoch 10/10\n",
      "\u001b[1m3594/3594\u001b[0m \u001b[32m━━━━━━━━━━━━━━━━━━━━\u001b[0m\u001b[37m\u001b[0m \u001b[1m4s\u001b[0m 1ms/step - loss: 3.7539 - mae: 1.5213 - r2_score_metric: -5.5629\n",
      "\u001b[1m63/63\u001b[0m \u001b[32m━━━━━━━━━━━━━━━━━━━━\u001b[0m\u001b[37m\u001b[0m \u001b[1m0s\u001b[0m 2ms/step\n",
      "Epoch 1/10\n"
     ]
    },
    {
     "name": "stderr",
     "output_type": "stream",
     "text": [
      "c:\\Users\\frm19\\AppData\\Local\\Programs\\Python\\Python310\\lib\\site-packages\\keras\\src\\layers\\core\\dense.py:87: UserWarning: Do not pass an `input_shape`/`input_dim` argument to a layer. When using Sequential models, prefer using an `Input(shape)` object as the first layer in the model instead.\n",
      "  super().__init__(activity_regularizer=activity_regularizer, **kwargs)\n"
     ]
    },
    {
     "name": "stdout",
     "output_type": "stream",
     "text": [
      "\u001b[1m3594/3594\u001b[0m \u001b[32m━━━━━━━━━━━━━━━━━━━━\u001b[0m\u001b[37m\u001b[0m \u001b[1m6s\u001b[0m 1ms/step - loss: 55.9250 - mae: 5.0319 - r2_score_metric: -240.1336\n",
      "Epoch 2/10\n",
      "\u001b[1m3594/3594\u001b[0m \u001b[32m━━━━━━━━━━━━━━━━━━━━\u001b[0m\u001b[37m\u001b[0m \u001b[1m4s\u001b[0m 1ms/step - loss: 11.7943 - mae: 2.7260 - r2_score_metric: -15.6791\n",
      "Epoch 3/10\n",
      "\u001b[1m3594/3594\u001b[0m \u001b[32m━━━━━━━━━━━━━━━━━━━━\u001b[0m\u001b[37m\u001b[0m \u001b[1m4s\u001b[0m 1ms/step - loss: 9.4241 - mae: 2.4320 - r2_score_metric: -86.4040\n",
      "Epoch 4/10\n",
      "\u001b[1m3594/3594\u001b[0m \u001b[32m━━━━━━━━━━━━━━━━━━━━\u001b[0m\u001b[37m\u001b[0m \u001b[1m4s\u001b[0m 1ms/step - loss: 7.6507 - mae: 2.1952 - r2_score_metric: -13.9700\n",
      "Epoch 5/10\n",
      "\u001b[1m3594/3594\u001b[0m \u001b[32m━━━━━━━━━━━━━━━━━━━━\u001b[0m\u001b[37m\u001b[0m \u001b[1m4s\u001b[0m 1ms/step - loss: 6.6074 - mae: 2.0316 - r2_score_metric: -7.2297\n",
      "Epoch 6/10\n",
      "\u001b[1m3594/3594\u001b[0m \u001b[32m━━━━━━━━━━━━━━━━━━━━\u001b[0m\u001b[37m\u001b[0m \u001b[1m4s\u001b[0m 1ms/step - loss: 5.4900 - mae: 1.8569 - r2_score_metric: -11.8845\n",
      "Epoch 7/10\n",
      "\u001b[1m3594/3594\u001b[0m \u001b[32m━━━━━━━━━━━━━━━━━━━━\u001b[0m\u001b[37m\u001b[0m \u001b[1m4s\u001b[0m 1ms/step - loss: 4.8351 - mae: 1.7371 - r2_score_metric: -6.7110\n",
      "Epoch 8/10\n",
      "\u001b[1m3594/3594\u001b[0m \u001b[32m━━━━━━━━━━━━━━━━━━━━\u001b[0m\u001b[37m\u001b[0m \u001b[1m4s\u001b[0m 1ms/step - loss: 4.0442 - mae: 1.5956 - r2_score_metric: -8.8246\n",
      "Epoch 9/10\n",
      "\u001b[1m3594/3594\u001b[0m \u001b[32m━━━━━━━━━━━━━━━━━━━━\u001b[0m\u001b[37m\u001b[0m \u001b[1m4s\u001b[0m 1ms/step - loss: 3.5218 - mae: 1.4841 - r2_score_metric: -5.7528\n",
      "Epoch 10/10\n",
      "\u001b[1m3594/3594\u001b[0m \u001b[32m━━━━━━━━━━━━━━━━━━━━\u001b[0m\u001b[37m\u001b[0m \u001b[1m5s\u001b[0m 1ms/step - loss: 3.1348 - mae: 1.4011 - r2_score_metric: -7.5517\n",
      "\u001b[1m63/63\u001b[0m \u001b[32m━━━━━━━━━━━━━━━━━━━━\u001b[0m\u001b[37m\u001b[0m \u001b[1m0s\u001b[0m 1ms/step\n",
      "Epoch 1/10\n"
     ]
    },
    {
     "name": "stderr",
     "output_type": "stream",
     "text": [
      "c:\\Users\\frm19\\AppData\\Local\\Programs\\Python\\Python310\\lib\\site-packages\\keras\\src\\layers\\core\\dense.py:87: UserWarning: Do not pass an `input_shape`/`input_dim` argument to a layer. When using Sequential models, prefer using an `Input(shape)` object as the first layer in the model instead.\n",
      "  super().__init__(activity_regularizer=activity_regularizer, **kwargs)\n"
     ]
    },
    {
     "name": "stdout",
     "output_type": "stream",
     "text": [
      "\u001b[1m3594/3594\u001b[0m \u001b[32m━━━━━━━━━━━━━━━━━━━━\u001b[0m\u001b[37m\u001b[0m \u001b[1m5s\u001b[0m 1ms/step - loss: 44.3758 - mae: 4.4236 - r2_score_metric: -74.8341\n",
      "Epoch 2/10\n",
      "\u001b[1m3594/3594\u001b[0m \u001b[32m━━━━━━━━━━━━━━━━━━━━\u001b[0m\u001b[37m\u001b[0m \u001b[1m4s\u001b[0m 1ms/step - loss: 9.0913 - mae: 2.3979 - r2_score_metric: -11.0336\n",
      "Epoch 3/10\n",
      "\u001b[1m3594/3594\u001b[0m \u001b[32m━━━━━━━━━━━━━━━━━━━━\u001b[0m\u001b[37m\u001b[0m \u001b[1m4s\u001b[0m 1ms/step - loss: 6.8168 - mae: 2.0637 - r2_score_metric: -7.5613\n",
      "Epoch 4/10\n",
      "\u001b[1m3594/3594\u001b[0m \u001b[32m━━━━━━━━━━━━━━━━━━━━\u001b[0m\u001b[37m\u001b[0m \u001b[1m4s\u001b[0m 1ms/step - loss: 5.8032 - mae: 1.9100 - r2_score_metric: -16.3478\n",
      "Epoch 5/10\n",
      "\u001b[1m3594/3594\u001b[0m \u001b[32m━━━━━━━━━━━━━━━━━━━━\u001b[0m\u001b[37m\u001b[0m \u001b[1m4s\u001b[0m 1ms/step - loss: 4.9974 - mae: 1.7619 - r2_score_metric: -36.5061\n",
      "Epoch 6/10\n",
      "\u001b[1m3594/3594\u001b[0m \u001b[32m━━━━━━━━━━━━━━━━━━━━\u001b[0m\u001b[37m\u001b[0m \u001b[1m5s\u001b[0m 1ms/step - loss: 4.3278 - mae: 1.6378 - r2_score_metric: -5.4459\n",
      "Epoch 7/10\n",
      "\u001b[1m3594/3594\u001b[0m \u001b[32m━━━━━━━━━━━━━━━━━━━━\u001b[0m\u001b[37m\u001b[0m \u001b[1m5s\u001b[0m 1ms/step - loss: 3.9130 - mae: 1.5581 - r2_score_metric: -4.2976\n",
      "Epoch 8/10\n",
      "\u001b[1m3594/3594\u001b[0m \u001b[32m━━━━━━━━━━━━━━━━━━━━\u001b[0m\u001b[37m\u001b[0m \u001b[1m5s\u001b[0m 1ms/step - loss: 3.4388 - mae: 1.4616 - r2_score_metric: -11.4612\n",
      "Epoch 9/10\n",
      "\u001b[1m3594/3594\u001b[0m \u001b[32m━━━━━━━━━━━━━━━━━━━━\u001b[0m\u001b[37m\u001b[0m \u001b[1m5s\u001b[0m 1ms/step - loss: 3.1345 - mae: 1.3982 - r2_score_metric: -7.3341\n",
      "Epoch 10/10\n",
      "\u001b[1m3594/3594\u001b[0m \u001b[32m━━━━━━━━━━━━━━━━━━━━\u001b[0m\u001b[37m\u001b[0m \u001b[1m4s\u001b[0m 1ms/step - loss: 2.7967 - mae: 1.3193 - r2_score_metric: -5.8182\n",
      "\u001b[1m63/63\u001b[0m \u001b[32m━━━━━━━━━━━━━━━━━━━━\u001b[0m\u001b[37m\u001b[0m \u001b[1m0s\u001b[0m 2ms/step\n",
      "Target variable :  temp in\n",
      "10-Fold Cross-Validation Scores:\n",
      "Fold 1: RMSE = 0.3870, MAE = 0.2784, R2 = 0.9402\n",
      "Fold 2: RMSE = 0.3572, MAE = 0.2710, R2 = 0.9437\n",
      "Fold 3: RMSE = 0.6545, MAE = 0.5132, R2 = 0.8214\n",
      "Fold 4: RMSE = 0.4133, MAE = 0.2986, R2 = 0.9238\n",
      "Fold 5: RMSE = 0.4011, MAE = 0.3017, R2 = 0.9236\n",
      "Fold 6: RMSE = 0.5187, MAE = 0.4062, R2 = 0.8865\n",
      "Fold 7: RMSE = 0.3413, MAE = 0.2303, R2 = 0.9484\n",
      "Fold 8: RMSE = 0.4154, MAE = 0.3092, R2 = 0.9237\n",
      "Fold 9: RMSE = 0.3597, MAE = 0.2550, R2 = 0.9435\n",
      "Fold 10: RMSE = 0.4117, MAE = 0.3161, R2 = 0.9266\n",
      "\n",
      "Average RMSE: 0.4260\n",
      "Average MAE: 0.3180\n",
      "Average R2: 0.9181\n",
      "Epoch 1/10\n"
     ]
    },
    {
     "name": "stderr",
     "output_type": "stream",
     "text": [
      "c:\\Users\\frm19\\AppData\\Local\\Programs\\Python\\Python310\\lib\\site-packages\\keras\\src\\layers\\core\\dense.py:87: UserWarning: Do not pass an `input_shape`/`input_dim` argument to a layer. When using Sequential models, prefer using an `Input(shape)` object as the first layer in the model instead.\n",
      "  super().__init__(activity_regularizer=activity_regularizer, **kwargs)\n"
     ]
    },
    {
     "name": "stdout",
     "output_type": "stream",
     "text": [
      "\u001b[1m3593/3593\u001b[0m \u001b[32m━━━━━━━━━━━━━━━━━━━━\u001b[0m\u001b[37m\u001b[0m \u001b[1m7s\u001b[0m 1ms/step - loss: 384.9977 - mae: 13.1253 - r2_score_metric: -40.4036\n",
      "Epoch 2/10\n",
      "\u001b[1m3593/3593\u001b[0m \u001b[32m━━━━━━━━━━━━━━━━━━━━\u001b[0m\u001b[37m\u001b[0m \u001b[1m4s\u001b[0m 1ms/step - loss: 77.8256 - mae: 6.9957 - r2_score_metric: -5.9417\n",
      "Epoch 3/10\n",
      "\u001b[1m3593/3593\u001b[0m \u001b[32m━━━━━━━━━━━━━━━━━━━━\u001b[0m\u001b[37m\u001b[0m \u001b[1m4s\u001b[0m 1ms/step - loss: 71.5123 - mae: 6.7196 - r2_score_metric: -5.6879\n",
      "Epoch 4/10\n",
      "\u001b[1m3593/3593\u001b[0m \u001b[32m━━━━━━━━━━━━━━━━━━━━\u001b[0m\u001b[37m\u001b[0m \u001b[1m4s\u001b[0m 1ms/step - loss: 67.1882 - mae: 6.4917 - r2_score_metric: -5.8553\n",
      "Epoch 5/10\n",
      "\u001b[1m3593/3593\u001b[0m \u001b[32m━━━━━━━━━━━━━━━━━━━━\u001b[0m\u001b[37m\u001b[0m \u001b[1m4s\u001b[0m 1ms/step - loss: 63.0874 - mae: 6.2878 - r2_score_metric: -4.3083\n",
      "Epoch 6/10\n",
      "\u001b[1m3593/3593\u001b[0m \u001b[32m━━━━━━━━━━━━━━━━━━━━\u001b[0m\u001b[37m\u001b[0m \u001b[1m4s\u001b[0m 1ms/step - loss: 56.1641 - mae: 5.9302 - r2_score_metric: -3.8817\n",
      "Epoch 7/10\n",
      "\u001b[1m3593/3593\u001b[0m \u001b[32m━━━━━━━━━━━━━━━━━━━━\u001b[0m\u001b[37m\u001b[0m \u001b[1m4s\u001b[0m 1ms/step - loss: 52.3650 - mae: 5.7428 - r2_score_metric: -3.1247\n",
      "Epoch 8/10\n",
      "\u001b[1m3593/3593\u001b[0m \u001b[32m━━━━━━━━━━━━━━━━━━━━\u001b[0m\u001b[37m\u001b[0m \u001b[1m4s\u001b[0m 1ms/step - loss: 46.3079 - mae: 5.4070 - r2_score_metric: -3.2945\n",
      "Epoch 9/10\n",
      "\u001b[1m3593/3593\u001b[0m \u001b[32m━━━━━━━━━━━━━━━━━━━━\u001b[0m\u001b[37m\u001b[0m \u001b[1m4s\u001b[0m 1ms/step - loss: 42.4599 - mae: 5.1519 - r2_score_metric: -2.9498\n",
      "Epoch 10/10\n",
      "\u001b[1m3593/3593\u001b[0m \u001b[32m━━━━━━━━━━━━━━━━━━━━\u001b[0m\u001b[37m\u001b[0m \u001b[1m5s\u001b[0m 1ms/step - loss: 40.6065 - mae: 5.0517 - r2_score_metric: -2.7518\n",
      "\u001b[1m63/63\u001b[0m \u001b[32m━━━━━━━━━━━━━━━━━━━━\u001b[0m\u001b[37m\u001b[0m \u001b[1m0s\u001b[0m 2ms/step\n",
      "Epoch 1/10\n"
     ]
    },
    {
     "name": "stderr",
     "output_type": "stream",
     "text": [
      "c:\\Users\\frm19\\AppData\\Local\\Programs\\Python\\Python310\\lib\\site-packages\\keras\\src\\layers\\core\\dense.py:87: UserWarning: Do not pass an `input_shape`/`input_dim` argument to a layer. When using Sequential models, prefer using an `Input(shape)` object as the first layer in the model instead.\n",
      "  super().__init__(activity_regularizer=activity_regularizer, **kwargs)\n"
     ]
    },
    {
     "name": "stdout",
     "output_type": "stream",
     "text": [
      "\u001b[1m3593/3593\u001b[0m \u001b[32m━━━━━━━━━━━━━━━━━━━━\u001b[0m\u001b[37m\u001b[0m \u001b[1m13s\u001b[0m 1ms/step - loss: 370.0848 - mae: 12.7583 - r2_score_metric: -34.3902\n",
      "Epoch 2/10\n",
      "\u001b[1m3593/3593\u001b[0m \u001b[32m━━━━━━━━━━━━━━━━━━━━\u001b[0m\u001b[37m\u001b[0m \u001b[1m5s\u001b[0m 1ms/step - loss: 71.4225 - mae: 6.7532 - r2_score_metric: -4.8778\n",
      "Epoch 3/10\n",
      "\u001b[1m3593/3593\u001b[0m \u001b[32m━━━━━━━━━━━━━━━━━━━━\u001b[0m\u001b[37m\u001b[0m \u001b[1m4s\u001b[0m 1ms/step - loss: 63.3516 - mae: 6.3394 - r2_score_metric: -4.5877\n",
      "Epoch 4/10\n",
      "\u001b[1m3593/3593\u001b[0m \u001b[32m━━━━━━━━━━━━━━━━━━━━\u001b[0m\u001b[37m\u001b[0m \u001b[1m4s\u001b[0m 1ms/step - loss: 58.9053 - mae: 6.0898 - r2_score_metric: -3.7447\n",
      "Epoch 5/10\n",
      "\u001b[1m3593/3593\u001b[0m \u001b[32m━━━━━━━━━━━━━━━━━━━━\u001b[0m\u001b[37m\u001b[0m \u001b[1m6s\u001b[0m 2ms/step - loss: 52.8036 - mae: 5.7733 - r2_score_metric: -3.3654\n",
      "Epoch 6/10\n",
      "\u001b[1m3593/3593\u001b[0m \u001b[32m━━━━━━━━━━━━━━━━━━━━\u001b[0m\u001b[37m\u001b[0m \u001b[1m5s\u001b[0m 1ms/step - loss: 47.8660 - mae: 5.4756 - r2_score_metric: -3.0285\n",
      "Epoch 7/10\n",
      "\u001b[1m3593/3593\u001b[0m \u001b[32m━━━━━━━━━━━━━━━━━━━━\u001b[0m\u001b[37m\u001b[0m \u001b[1m5s\u001b[0m 1ms/step - loss: 44.3907 - mae: 5.2804 - r2_score_metric: -2.9083\n",
      "Epoch 8/10\n",
      "\u001b[1m3593/3593\u001b[0m \u001b[32m━━━━━━━━━━━━━━━━━━━━\u001b[0m\u001b[37m\u001b[0m \u001b[1m4s\u001b[0m 1ms/step - loss: 42.1067 - mae: 5.1255 - r2_score_metric: -2.8450\n",
      "Epoch 9/10\n",
      "\u001b[1m3593/3593\u001b[0m \u001b[32m━━━━━━━━━━━━━━━━━━━━\u001b[0m\u001b[37m\u001b[0m \u001b[1m4s\u001b[0m 1ms/step - loss: 37.8905 - mae: 4.8834 - r2_score_metric: -2.1151\n",
      "Epoch 10/10\n",
      "\u001b[1m3593/3593\u001b[0m \u001b[32m━━━━━━━━━━━━━━━━━━━━\u001b[0m\u001b[37m\u001b[0m \u001b[1m4s\u001b[0m 1ms/step - loss: 35.8640 - mae: 4.7186 - r2_score_metric: -1.6883\n",
      "\u001b[1m63/63\u001b[0m \u001b[32m━━━━━━━━━━━━━━━━━━━━\u001b[0m\u001b[37m\u001b[0m \u001b[1m0s\u001b[0m 2ms/step\n",
      "Epoch 1/10\n"
     ]
    },
    {
     "name": "stderr",
     "output_type": "stream",
     "text": [
      "c:\\Users\\frm19\\AppData\\Local\\Programs\\Python\\Python310\\lib\\site-packages\\keras\\src\\layers\\core\\dense.py:87: UserWarning: Do not pass an `input_shape`/`input_dim` argument to a layer. When using Sequential models, prefer using an `Input(shape)` object as the first layer in the model instead.\n",
      "  super().__init__(activity_regularizer=activity_regularizer, **kwargs)\n"
     ]
    },
    {
     "name": "stdout",
     "output_type": "stream",
     "text": [
      "\u001b[1m3594/3594\u001b[0m \u001b[32m━━━━━━━━━━━━━━━━━━━━\u001b[0m\u001b[37m\u001b[0m \u001b[1m6s\u001b[0m 1ms/step - loss: 329.9642 - mae: 11.8654 - r2_score_metric: -43.4791\n",
      "Epoch 2/10\n",
      "\u001b[1m3594/3594\u001b[0m \u001b[32m━━━━━━━━━━━━━━━━━━━━\u001b[0m\u001b[37m\u001b[0m \u001b[1m4s\u001b[0m 1ms/step - loss: 57.2901 - mae: 6.0213 - r2_score_metric: -147.8030\n",
      "Epoch 3/10\n",
      "\u001b[1m3594/3594\u001b[0m \u001b[32m━━━━━━━━━━━━━━━━━━━━\u001b[0m\u001b[37m\u001b[0m \u001b[1m4s\u001b[0m 1ms/step - loss: 49.9422 - mae: 5.6326 - r2_score_metric: -262.6787\n",
      "Epoch 4/10\n",
      "\u001b[1m3594/3594\u001b[0m \u001b[32m━━━━━━━━━━━━━━━━━━━━\u001b[0m\u001b[37m\u001b[0m \u001b[1m4s\u001b[0m 1ms/step - loss: 41.2952 - mae: 5.0675 - r2_score_metric: -53.2289\n",
      "Epoch 5/10\n",
      "\u001b[1m3594/3594\u001b[0m \u001b[32m━━━━━━━━━━━━━━━━━━━━\u001b[0m\u001b[37m\u001b[0m \u001b[1m4s\u001b[0m 1ms/step - loss: 37.9247 - mae: 4.9063 - r2_score_metric: -272.8795\n",
      "Epoch 6/10\n",
      "\u001b[1m3594/3594\u001b[0m \u001b[32m━━━━━━━━━━━━━━━━━━━━\u001b[0m\u001b[37m\u001b[0m \u001b[1m4s\u001b[0m 1ms/step - loss: 34.4889 - mae: 4.6526 - r2_score_metric: -474.9030\n",
      "Epoch 7/10\n",
      "\u001b[1m3594/3594\u001b[0m \u001b[32m━━━━━━━━━━━━━━━━━━━━\u001b[0m\u001b[37m\u001b[0m \u001b[1m4s\u001b[0m 1ms/step - loss: 31.3605 - mae: 4.4242 - r2_score_metric: -8.5098\n",
      "Epoch 8/10\n",
      "\u001b[1m3594/3594\u001b[0m \u001b[32m━━━━━━━━━━━━━━━━━━━━\u001b[0m\u001b[37m\u001b[0m \u001b[1m4s\u001b[0m 1ms/step - loss: 29.3794 - mae: 4.2906 - r2_score_metric: -2.3703\n",
      "Epoch 9/10\n",
      "\u001b[1m3594/3594\u001b[0m \u001b[32m━━━━━━━━━━━━━━━━━━━━\u001b[0m\u001b[37m\u001b[0m \u001b[1m6s\u001b[0m 2ms/step - loss: 27.3416 - mae: 4.1409 - r2_score_metric: -28.9169\n",
      "Epoch 10/10\n",
      "\u001b[1m3594/3594\u001b[0m \u001b[32m━━━━━━━━━━━━━━━━━━━━\u001b[0m\u001b[37m\u001b[0m \u001b[1m5s\u001b[0m 1ms/step - loss: 25.6097 - mae: 4.0122 - r2_score_metric: -105.6377\n",
      "\u001b[1m63/63\u001b[0m \u001b[32m━━━━━━━━━━━━━━━━━━━━\u001b[0m\u001b[37m\u001b[0m \u001b[1m0s\u001b[0m 2ms/step\n",
      "Epoch 1/10\n"
     ]
    },
    {
     "name": "stderr",
     "output_type": "stream",
     "text": [
      "c:\\Users\\frm19\\AppData\\Local\\Programs\\Python\\Python310\\lib\\site-packages\\keras\\src\\layers\\core\\dense.py:87: UserWarning: Do not pass an `input_shape`/`input_dim` argument to a layer. When using Sequential models, prefer using an `Input(shape)` object as the first layer in the model instead.\n",
      "  super().__init__(activity_regularizer=activity_regularizer, **kwargs)\n"
     ]
    },
    {
     "name": "stdout",
     "output_type": "stream",
     "text": [
      "\u001b[1m3594/3594\u001b[0m \u001b[32m━━━━━━━━━━━━━━━━━━━━\u001b[0m\u001b[37m\u001b[0m \u001b[1m7s\u001b[0m 2ms/step - loss: 338.0901 - mae: 12.1001 - r2_score_metric: -502.6187\n",
      "Epoch 2/10\n",
      "\u001b[1m3594/3594\u001b[0m \u001b[32m━━━━━━━━━━━━━━━━━━━━\u001b[0m\u001b[37m\u001b[0m \u001b[1m7s\u001b[0m 2ms/step - loss: 65.9619 - mae: 6.4789 - r2_score_metric: -285.2559\n",
      "Epoch 3/10\n",
      "\u001b[1m3594/3594\u001b[0m \u001b[32m━━━━━━━━━━━━━━━━━━━━\u001b[0m\u001b[37m\u001b[0m \u001b[1m4s\u001b[0m 1ms/step - loss: 58.8575 - mae: 6.0957 - r2_score_metric: -42.3945\n",
      "Epoch 4/10\n",
      "\u001b[1m3594/3594\u001b[0m \u001b[32m━━━━━━━━━━━━━━━━━━━━\u001b[0m\u001b[37m\u001b[0m \u001b[1m4s\u001b[0m 1ms/step - loss: 54.5263 - mae: 5.8790 - r2_score_metric: -88.2811\n",
      "Epoch 5/10\n",
      "\u001b[1m3594/3594\u001b[0m \u001b[32m━━━━━━━━━━━━━━━━━━━━\u001b[0m\u001b[37m\u001b[0m \u001b[1m5s\u001b[0m 1ms/step - loss: 50.1873 - mae: 5.5622 - r2_score_metric: -116.5727\n",
      "Epoch 6/10\n",
      "\u001b[1m3594/3594\u001b[0m \u001b[32m━━━━━━━━━━━━━━━━━━━━\u001b[0m\u001b[37m\u001b[0m \u001b[1m5s\u001b[0m 1ms/step - loss: 46.3494 - mae: 5.4092 - r2_score_metric: -32.9392\n",
      "Epoch 7/10\n",
      "\u001b[1m3594/3594\u001b[0m \u001b[32m━━━━━━━━━━━━━━━━━━━━\u001b[0m\u001b[37m\u001b[0m \u001b[1m5s\u001b[0m 1ms/step - loss: 42.8062 - mae: 5.1947 - r2_score_metric: -5.5479\n",
      "Epoch 8/10\n",
      "\u001b[1m3594/3594\u001b[0m \u001b[32m━━━━━━━━━━━━━━━━━━━━\u001b[0m\u001b[37m\u001b[0m \u001b[1m4s\u001b[0m 1ms/step - loss: 40.2639 - mae: 5.0251 - r2_score_metric: -16.0953\n",
      "Epoch 9/10\n",
      "\u001b[1m3594/3594\u001b[0m \u001b[32m━━━━━━━━━━━━━━━━━━━━\u001b[0m\u001b[37m\u001b[0m \u001b[1m5s\u001b[0m 1ms/step - loss: 37.2294 - mae: 4.8195 - r2_score_metric: -19.9268\n",
      "Epoch 10/10\n",
      "\u001b[1m3594/3594\u001b[0m \u001b[32m━━━━━━━━━━━━━━━━━━━━\u001b[0m\u001b[37m\u001b[0m \u001b[1m4s\u001b[0m 1ms/step - loss: 34.5436 - mae: 4.6445 - r2_score_metric: -2.3231\n",
      "\u001b[1m63/63\u001b[0m \u001b[32m━━━━━━━━━━━━━━━━━━━━\u001b[0m\u001b[37m\u001b[0m \u001b[1m0s\u001b[0m 2ms/step\n",
      "Epoch 1/10\n"
     ]
    },
    {
     "name": "stderr",
     "output_type": "stream",
     "text": [
      "c:\\Users\\frm19\\AppData\\Local\\Programs\\Python\\Python310\\lib\\site-packages\\keras\\src\\layers\\core\\dense.py:87: UserWarning: Do not pass an `input_shape`/`input_dim` argument to a layer. When using Sequential models, prefer using an `Input(shape)` object as the first layer in the model instead.\n",
      "  super().__init__(activity_regularizer=activity_regularizer, **kwargs)\n"
     ]
    },
    {
     "name": "stdout",
     "output_type": "stream",
     "text": [
      "\u001b[1m3594/3594\u001b[0m \u001b[32m━━━━━━━━━━━━━━━━━━━━\u001b[0m\u001b[37m\u001b[0m \u001b[1m5s\u001b[0m 1ms/step - loss: 333.4063 - mae: 11.9457 - r2_score_metric: -308.6043\n",
      "Epoch 2/10\n",
      "\u001b[1m3594/3594\u001b[0m \u001b[32m━━━━━━━━━━━━━━━━━━━━\u001b[0m\u001b[37m\u001b[0m \u001b[1m5s\u001b[0m 1ms/step - loss: 63.2534 - mae: 6.3605 - r2_score_metric: -16.6045\n",
      "Epoch 3/10\n",
      "\u001b[1m3594/3594\u001b[0m \u001b[32m━━━━━━━━━━━━━━━━━━━━\u001b[0m\u001b[37m\u001b[0m \u001b[1m5s\u001b[0m 1ms/step - loss: 56.7224 - mae: 5.9692 - r2_score_metric: -3.6476\n",
      "Epoch 4/10\n",
      "\u001b[1m3594/3594\u001b[0m \u001b[32m━━━━━━━━━━━━━━━━━━━━\u001b[0m\u001b[37m\u001b[0m \u001b[1m5s\u001b[0m 1ms/step - loss: 52.8681 - mae: 5.7752 - r2_score_metric: -21.1395\n",
      "Epoch 5/10\n",
      "\u001b[1m3594/3594\u001b[0m \u001b[32m━━━━━━━━━━━━━━━━━━━━\u001b[0m\u001b[37m\u001b[0m \u001b[1m5s\u001b[0m 2ms/step - loss: 46.7011 - mae: 5.4229 - r2_score_metric: -136.5019\n",
      "Epoch 6/10\n",
      "\u001b[1m3594/3594\u001b[0m \u001b[32m━━━━━━━━━━━━━━━━━━━━\u001b[0m\u001b[37m\u001b[0m \u001b[1m6s\u001b[0m 2ms/step - loss: 43.6409 - mae: 5.2347 - r2_score_metric: -136.2133\n",
      "Epoch 7/10\n",
      "\u001b[1m3594/3594\u001b[0m \u001b[32m━━━━━━━━━━━━━━━━━━━━\u001b[0m\u001b[37m\u001b[0m \u001b[1m5s\u001b[0m 1ms/step - loss: 39.0046 - mae: 4.9541 - r2_score_metric: -7.7466\n",
      "Epoch 8/10\n",
      "\u001b[1m3594/3594\u001b[0m \u001b[32m━━━━━━━━━━━━━━━━━━━━\u001b[0m\u001b[37m\u001b[0m \u001b[1m5s\u001b[0m 1ms/step - loss: 37.4363 - mae: 4.8460 - r2_score_metric: -8.0322\n",
      "Epoch 9/10\n",
      "\u001b[1m3594/3594\u001b[0m \u001b[32m━━━━━━━━━━━━━━━━━━━━\u001b[0m\u001b[37m\u001b[0m \u001b[1m4s\u001b[0m 1ms/step - loss: 35.0813 - mae: 4.6745 - r2_score_metric: -64.6725\n",
      "Epoch 10/10\n",
      "\u001b[1m3594/3594\u001b[0m \u001b[32m━━━━━━━━━━━━━━━━━━━━\u001b[0m\u001b[37m\u001b[0m \u001b[1m4s\u001b[0m 1ms/step - loss: 33.1398 - mae: 4.5472 - r2_score_metric: -1.8380\n",
      "\u001b[1m63/63\u001b[0m \u001b[32m━━━━━━━━━━━━━━━━━━━━\u001b[0m\u001b[37m\u001b[0m \u001b[1m0s\u001b[0m 2ms/step\n",
      "Epoch 1/10\n"
     ]
    },
    {
     "name": "stderr",
     "output_type": "stream",
     "text": [
      "c:\\Users\\frm19\\AppData\\Local\\Programs\\Python\\Python310\\lib\\site-packages\\keras\\src\\layers\\core\\dense.py:87: UserWarning: Do not pass an `input_shape`/`input_dim` argument to a layer. When using Sequential models, prefer using an `Input(shape)` object as the first layer in the model instead.\n",
      "  super().__init__(activity_regularizer=activity_regularizer, **kwargs)\n"
     ]
    },
    {
     "name": "stdout",
     "output_type": "stream",
     "text": [
      "\u001b[1m3594/3594\u001b[0m \u001b[32m━━━━━━━━━━━━━━━━━━━━\u001b[0m\u001b[37m\u001b[0m \u001b[1m7s\u001b[0m 1ms/step - loss: 320.7453 - mae: 11.6406 - r2_score_metric: -117.1346\n",
      "Epoch 2/10\n",
      "\u001b[1m3594/3594\u001b[0m \u001b[32m━━━━━━━━━━━━━━━━━━━━\u001b[0m\u001b[37m\u001b[0m \u001b[1m8s\u001b[0m 2ms/step - loss: 57.0881 - mae: 6.0014 - r2_score_metric: -7.7273\n",
      "Epoch 3/10\n",
      "\u001b[1m3594/3594\u001b[0m \u001b[32m━━━━━━━━━━━━━━━━━━━━\u001b[0m\u001b[37m\u001b[0m \u001b[1m7s\u001b[0m 2ms/step - loss: 50.2021 - mae: 5.6266 - r2_score_metric: -133.2776\n",
      "Epoch 4/10\n",
      "\u001b[1m3594/3594\u001b[0m \u001b[32m━━━━━━━━━━━━━━━━━━━━\u001b[0m\u001b[37m\u001b[0m \u001b[1m4s\u001b[0m 1ms/step - loss: 44.7274 - mae: 5.2666 - r2_score_metric: -115.8921\n",
      "Epoch 5/10\n",
      "\u001b[1m3594/3594\u001b[0m \u001b[32m━━━━━━━━━━━━━━━━━━━━\u001b[0m\u001b[37m\u001b[0m \u001b[1m5s\u001b[0m 1ms/step - loss: 39.3332 - mae: 4.9893 - r2_score_metric: -3.3504\n",
      "Epoch 6/10\n",
      "\u001b[1m3594/3594\u001b[0m \u001b[32m━━━━━━━━━━━━━━━━━━━━\u001b[0m\u001b[37m\u001b[0m \u001b[1m5s\u001b[0m 1ms/step - loss: 36.1721 - mae: 4.7794 - r2_score_metric: -19.8411\n",
      "Epoch 7/10\n",
      "\u001b[1m3594/3594\u001b[0m \u001b[32m━━━━━━━━━━━━━━━━━━━━\u001b[0m\u001b[37m\u001b[0m \u001b[1m5s\u001b[0m 1ms/step - loss: 33.7600 - mae: 4.6008 - r2_score_metric: -62.9832\n",
      "Epoch 8/10\n",
      "\u001b[1m3594/3594\u001b[0m \u001b[32m━━━━━━━━━━━━━━━━━━━━\u001b[0m\u001b[37m\u001b[0m \u001b[1m5s\u001b[0m 1ms/step - loss: 30.4522 - mae: 4.3687 - r2_score_metric: -59.2555\n",
      "Epoch 9/10\n",
      "\u001b[1m3594/3594\u001b[0m \u001b[32m━━━━━━━━━━━━━━━━━━━━\u001b[0m\u001b[37m\u001b[0m \u001b[1m5s\u001b[0m 1ms/step - loss: 29.7855 - mae: 4.3292 - r2_score_metric: -48.0826\n",
      "Epoch 10/10\n",
      "\u001b[1m3594/3594\u001b[0m \u001b[32m━━━━━━━━━━━━━━━━━━━━\u001b[0m\u001b[37m\u001b[0m \u001b[1m5s\u001b[0m 1ms/step - loss: 28.6769 - mae: 4.2246 - r2_score_metric: -44.1426\n",
      "\u001b[1m63/63\u001b[0m \u001b[32m━━━━━━━━━━━━━━━━━━━━\u001b[0m\u001b[37m\u001b[0m \u001b[1m0s\u001b[0m 2ms/step\n",
      "Epoch 1/10\n"
     ]
    },
    {
     "name": "stderr",
     "output_type": "stream",
     "text": [
      "c:\\Users\\frm19\\AppData\\Local\\Programs\\Python\\Python310\\lib\\site-packages\\keras\\src\\layers\\core\\dense.py:87: UserWarning: Do not pass an `input_shape`/`input_dim` argument to a layer. When using Sequential models, prefer using an `Input(shape)` object as the first layer in the model instead.\n",
      "  super().__init__(activity_regularizer=activity_regularizer, **kwargs)\n"
     ]
    },
    {
     "name": "stdout",
     "output_type": "stream",
     "text": [
      "\u001b[1m3594/3594\u001b[0m \u001b[32m━━━━━━━━━━━━━━━━━━━━\u001b[0m\u001b[37m\u001b[0m \u001b[1m7s\u001b[0m 1ms/step - loss: 336.5419 - mae: 11.9937 - r2_score_metric: -102.4992\n",
      "Epoch 2/10\n",
      "\u001b[1m3594/3594\u001b[0m \u001b[32m━━━━━━━━━━━━━━━━━━━━\u001b[0m\u001b[37m\u001b[0m \u001b[1m5s\u001b[0m 1ms/step - loss: 57.6154 - mae: 6.0068 - r2_score_metric: -325.4142\n",
      "Epoch 3/10\n",
      "\u001b[1m3594/3594\u001b[0m \u001b[32m━━━━━━━━━━━━━━━━━━━━\u001b[0m\u001b[37m\u001b[0m \u001b[1m4s\u001b[0m 1ms/step - loss: 50.7807 - mae: 5.6728 - r2_score_metric: -26.2009\n",
      "Epoch 4/10\n",
      "\u001b[1m3594/3594\u001b[0m \u001b[32m━━━━━━━━━━━━━━━━━━━━\u001b[0m\u001b[37m\u001b[0m \u001b[1m4s\u001b[0m 1ms/step - loss: 45.4974 - mae: 5.3321 - r2_score_metric: -2.7568\n",
      "Epoch 5/10\n",
      "\u001b[1m3594/3594\u001b[0m \u001b[32m━━━━━━━━━━━━━━━━━━━━\u001b[0m\u001b[37m\u001b[0m \u001b[1m5s\u001b[0m 1ms/step - loss: 39.6772 - mae: 5.0041 - r2_score_metric: -106.8428\n",
      "Epoch 6/10\n",
      "\u001b[1m3594/3594\u001b[0m \u001b[32m━━━━━━━━━━━━━━━━━━━━\u001b[0m\u001b[37m\u001b[0m \u001b[1m5s\u001b[0m 1ms/step - loss: 35.2290 - mae: 4.7111 - r2_score_metric: -2.0923\n",
      "Epoch 7/10\n",
      "\u001b[1m3594/3594\u001b[0m \u001b[32m━━━━━━━━━━━━━━━━━━━━\u001b[0m\u001b[37m\u001b[0m \u001b[1m4s\u001b[0m 1ms/step - loss: 33.4683 - mae: 4.5918 - r2_score_metric: -19.8785\n",
      "Epoch 8/10\n",
      "\u001b[1m3594/3594\u001b[0m \u001b[32m━━━━━━━━━━━━━━━━━━━━\u001b[0m\u001b[37m\u001b[0m \u001b[1m4s\u001b[0m 1ms/step - loss: 29.9974 - mae: 4.3581 - r2_score_metric: -100.7230\n",
      "Epoch 9/10\n",
      "\u001b[1m3594/3594\u001b[0m \u001b[32m━━━━━━━━━━━━━━━━━━━━\u001b[0m\u001b[37m\u001b[0m \u001b[1m4s\u001b[0m 1ms/step - loss: 29.0770 - mae: 4.2551 - r2_score_metric: -2.3542\n",
      "Epoch 10/10\n",
      "\u001b[1m3594/3594\u001b[0m \u001b[32m━━━━━━━━━━━━━━━━━━━━\u001b[0m\u001b[37m\u001b[0m \u001b[1m5s\u001b[0m 1ms/step - loss: 27.4355 - mae: 4.1638 - r2_score_metric: -37.9745\n",
      "\u001b[1m63/63\u001b[0m \u001b[32m━━━━━━━━━━━━━━━━━━━━\u001b[0m\u001b[37m\u001b[0m \u001b[1m0s\u001b[0m 2ms/step\n",
      "Epoch 1/10\n"
     ]
    },
    {
     "name": "stderr",
     "output_type": "stream",
     "text": [
      "c:\\Users\\frm19\\AppData\\Local\\Programs\\Python\\Python310\\lib\\site-packages\\keras\\src\\layers\\core\\dense.py:87: UserWarning: Do not pass an `input_shape`/`input_dim` argument to a layer. When using Sequential models, prefer using an `Input(shape)` object as the first layer in the model instead.\n",
      "  super().__init__(activity_regularizer=activity_regularizer, **kwargs)\n"
     ]
    },
    {
     "name": "stdout",
     "output_type": "stream",
     "text": [
      "\u001b[1m3594/3594\u001b[0m \u001b[32m━━━━━━━━━━━━━━━━━━━━\u001b[0m\u001b[37m\u001b[0m \u001b[1m8s\u001b[0m 2ms/step - loss: 331.8675 - mae: 12.0102 - r2_score_metric: -205.4434\n",
      "Epoch 2/10\n",
      "\u001b[1m3594/3594\u001b[0m \u001b[32m━━━━━━━━━━━━━━━━━━━━\u001b[0m\u001b[37m\u001b[0m \u001b[1m6s\u001b[0m 2ms/step - loss: 69.7471 - mae: 6.6443 - r2_score_metric: -189.1143\n",
      "Epoch 3/10\n",
      "\u001b[1m3594/3594\u001b[0m \u001b[32m━━━━━━━━━━━━━━━━━━━━\u001b[0m\u001b[37m\u001b[0m \u001b[1m5s\u001b[0m 1ms/step - loss: 59.6001 - mae: 6.1117 - r2_score_metric: -84.6436\n",
      "Epoch 4/10\n",
      "\u001b[1m3594/3594\u001b[0m \u001b[32m━━━━━━━━━━━━━━━━━━━━\u001b[0m\u001b[37m\u001b[0m \u001b[1m5s\u001b[0m 1ms/step - loss: 56.4522 - mae: 5.9451 - r2_score_metric: -4.2354\n",
      "Epoch 5/10\n",
      "\u001b[1m3594/3594\u001b[0m \u001b[32m━━━━━━━━━━━━━━━━━━━━\u001b[0m\u001b[37m\u001b[0m \u001b[1m6s\u001b[0m 2ms/step - loss: 50.1619 - mae: 5.6244 - r2_score_metric: -3.8537\n",
      "Epoch 6/10\n",
      "\u001b[1m3594/3594\u001b[0m \u001b[32m━━━━━━━━━━━━━━━━━━━━\u001b[0m\u001b[37m\u001b[0m \u001b[1m5s\u001b[0m 1ms/step - loss: 44.9345 - mae: 5.2954 - r2_score_metric: -46.8487\n",
      "Epoch 7/10\n",
      "\u001b[1m3594/3594\u001b[0m \u001b[32m━━━━━━━━━━━━━━━━━━━━\u001b[0m\u001b[37m\u001b[0m \u001b[1m5s\u001b[0m 1ms/step - loss: 42.3790 - mae: 5.1470 - r2_score_metric: -148.8319\n",
      "Epoch 8/10\n",
      "\u001b[1m3594/3594\u001b[0m \u001b[32m━━━━━━━━━━━━━━━━━━━━\u001b[0m\u001b[37m\u001b[0m \u001b[1m6s\u001b[0m 2ms/step - loss: 41.3643 - mae: 5.0773 - r2_score_metric: -456.5899\n",
      "Epoch 9/10\n",
      "\u001b[1m3594/3594\u001b[0m \u001b[32m━━━━━━━━━━━━━━━━━━━━\u001b[0m\u001b[37m\u001b[0m \u001b[1m5s\u001b[0m 1ms/step - loss: 37.8548 - mae: 4.8791 - r2_score_metric: -16.8558\n",
      "Epoch 10/10\n",
      "\u001b[1m3594/3594\u001b[0m \u001b[32m━━━━━━━━━━━━━━━━━━━━\u001b[0m\u001b[37m\u001b[0m \u001b[1m5s\u001b[0m 1ms/step - loss: 35.2927 - mae: 4.6988 - r2_score_metric: -16.2588\n",
      "\u001b[1m63/63\u001b[0m \u001b[32m━━━━━━━━━━━━━━━━━━━━\u001b[0m\u001b[37m\u001b[0m \u001b[1m0s\u001b[0m 2ms/step\n",
      "Epoch 1/10\n"
     ]
    },
    {
     "name": "stderr",
     "output_type": "stream",
     "text": [
      "c:\\Users\\frm19\\AppData\\Local\\Programs\\Python\\Python310\\lib\\site-packages\\keras\\src\\layers\\core\\dense.py:87: UserWarning: Do not pass an `input_shape`/`input_dim` argument to a layer. When using Sequential models, prefer using an `Input(shape)` object as the first layer in the model instead.\n",
      "  super().__init__(activity_regularizer=activity_regularizer, **kwargs)\n"
     ]
    },
    {
     "name": "stdout",
     "output_type": "stream",
     "text": [
      "\u001b[1m3594/3594\u001b[0m \u001b[32m━━━━━━━━━━━━━━━━━━━━\u001b[0m\u001b[37m\u001b[0m \u001b[1m7s\u001b[0m 1ms/step - loss: 324.7181 - mae: 11.7302 - r2_score_metric: -59.4023\n",
      "Epoch 2/10\n",
      "\u001b[1m3594/3594\u001b[0m \u001b[32m━━━━━━━━━━━━━━━━━━━━\u001b[0m\u001b[37m\u001b[0m \u001b[1m5s\u001b[0m 2ms/step - loss: 56.3108 - mae: 5.9925 - r2_score_metric: -32.0464\n",
      "Epoch 3/10\n",
      "\u001b[1m3594/3594\u001b[0m \u001b[32m━━━━━━━━━━━━━━━━━━━━\u001b[0m\u001b[37m\u001b[0m \u001b[1m8s\u001b[0m 2ms/step - loss: 49.8901 - mae: 5.6240 - r2_score_metric: -3.1885\n",
      "Epoch 4/10\n",
      "\u001b[1m3594/3594\u001b[0m \u001b[32m━━━━━━━━━━━━━━━━━━━━\u001b[0m\u001b[37m\u001b[0m \u001b[1m7s\u001b[0m 2ms/step - loss: 44.4568 - mae: 5.2954 - r2_score_metric: -75.5825\n",
      "Epoch 5/10\n",
      "\u001b[1m3594/3594\u001b[0m \u001b[32m━━━━━━━━━━━━━━━━━━━━\u001b[0m\u001b[37m\u001b[0m \u001b[1m5s\u001b[0m 1ms/step - loss: 37.8927 - mae: 4.8564 - r2_score_metric: -2.1654\n",
      "Epoch 6/10\n",
      "\u001b[1m3594/3594\u001b[0m \u001b[32m━━━━━━━━━━━━━━━━━━━━\u001b[0m\u001b[37m\u001b[0m \u001b[1m6s\u001b[0m 2ms/step - loss: 35.4192 - mae: 4.7313 - r2_score_metric: -43.6034\n",
      "Epoch 7/10\n",
      "\u001b[1m3594/3594\u001b[0m \u001b[32m━━━━━━━━━━━━━━━━━━━━\u001b[0m\u001b[37m\u001b[0m \u001b[1m8s\u001b[0m 2ms/step - loss: 33.6820 - mae: 4.5944 - r2_score_metric: -4.5522\n",
      "Epoch 8/10\n",
      "\u001b[1m3594/3594\u001b[0m \u001b[32m━━━━━━━━━━━━━━━━━━━━\u001b[0m\u001b[37m\u001b[0m \u001b[1m6s\u001b[0m 2ms/step - loss: 30.1643 - mae: 4.3469 - r2_score_metric: -105.2425\n",
      "Epoch 9/10\n",
      "\u001b[1m3594/3594\u001b[0m \u001b[32m━━━━━━━━━━━━━━━━━━━━\u001b[0m\u001b[37m\u001b[0m \u001b[1m5s\u001b[0m 1ms/step - loss: 28.2149 - mae: 4.2099 - r2_score_metric: -8.8007\n",
      "Epoch 10/10\n",
      "\u001b[1m3594/3594\u001b[0m \u001b[32m━━━━━━━━━━━━━━━━━━━━\u001b[0m\u001b[37m\u001b[0m \u001b[1m7s\u001b[0m 2ms/step - loss: 27.0185 - mae: 4.1053 - r2_score_metric: -4.4780\n",
      "\u001b[1m63/63\u001b[0m \u001b[32m━━━━━━━━━━━━━━━━━━━━\u001b[0m\u001b[37m\u001b[0m \u001b[1m1s\u001b[0m 5ms/step\n"
     ]
    },
    {
     "name": "stderr",
     "output_type": "stream",
     "text": [
      "c:\\Users\\frm19\\AppData\\Local\\Programs\\Python\\Python310\\lib\\site-packages\\keras\\src\\layers\\core\\dense.py:87: UserWarning: Do not pass an `input_shape`/`input_dim` argument to a layer. When using Sequential models, prefer using an `Input(shape)` object as the first layer in the model instead.\n",
      "  super().__init__(activity_regularizer=activity_regularizer, **kwargs)\n"
     ]
    },
    {
     "name": "stdout",
     "output_type": "stream",
     "text": [
      "Epoch 1/10\n",
      "\u001b[1m3594/3594\u001b[0m \u001b[32m━━━━━━━━━━━━━━━━━━━━\u001b[0m\u001b[37m\u001b[0m \u001b[1m11s\u001b[0m 2ms/step - loss: 362.1904 - mae: 12.6605 - r2_score_metric: -41.0459\n",
      "Epoch 2/10\n",
      "\u001b[1m3594/3594\u001b[0m \u001b[32m━━━━━━━━━━━━━━━━━━━━\u001b[0m\u001b[37m\u001b[0m \u001b[1m5s\u001b[0m 1ms/step - loss: 75.4620 - mae: 6.9120 - r2_score_metric: -11.7813\n",
      "Epoch 3/10\n",
      "\u001b[1m3594/3594\u001b[0m \u001b[32m━━━━━━━━━━━━━━━━━━━━\u001b[0m\u001b[37m\u001b[0m \u001b[1m4s\u001b[0m 1ms/step - loss: 65.1095 - mae: 6.4445 - r2_score_metric: -7.7465\n",
      "Epoch 4/10\n",
      "\u001b[1m3594/3594\u001b[0m \u001b[32m━━━━━━━━━━━━━━━━━━━━\u001b[0m\u001b[37m\u001b[0m \u001b[1m5s\u001b[0m 1ms/step - loss: 61.3182 - mae: 6.2081 - r2_score_metric: -4.7891\n",
      "Epoch 5/10\n",
      "\u001b[1m3594/3594\u001b[0m \u001b[32m━━━━━━━━━━━━━━━━━━━━\u001b[0m\u001b[37m\u001b[0m \u001b[1m5s\u001b[0m 1ms/step - loss: 54.3077 - mae: 5.8124 - r2_score_metric: -28.0493\n",
      "Epoch 6/10\n",
      "\u001b[1m3594/3594\u001b[0m \u001b[32m━━━━━━━━━━━━━━━━━━━━\u001b[0m\u001b[37m\u001b[0m \u001b[1m5s\u001b[0m 1ms/step - loss: 49.3686 - mae: 5.5686 - r2_score_metric: -6.3233\n",
      "Epoch 7/10\n",
      "\u001b[1m3594/3594\u001b[0m \u001b[32m━━━━━━━━━━━━━━━━━━━━\u001b[0m\u001b[37m\u001b[0m \u001b[1m6s\u001b[0m 2ms/step - loss: 45.6356 - mae: 5.3466 - r2_score_metric: -37.0547\n",
      "Epoch 8/10\n",
      "\u001b[1m3594/3594\u001b[0m \u001b[32m━━━━━━━━━━━━━━━━━━━━\u001b[0m\u001b[37m\u001b[0m \u001b[1m5s\u001b[0m 1ms/step - loss: 42.8121 - mae: 5.1835 - r2_score_metric: -213.9355\n",
      "Epoch 9/10\n",
      "\u001b[1m3594/3594\u001b[0m \u001b[32m━━━━━━━━━━━━━━━━━━━━\u001b[0m\u001b[37m\u001b[0m \u001b[1m4s\u001b[0m 1ms/step - loss: 40.5600 - mae: 5.0360 - r2_score_metric: -43.3860\n",
      "Epoch 10/10\n",
      "\u001b[1m3594/3594\u001b[0m \u001b[32m━━━━━━━━━━━━━━━━━━━━\u001b[0m\u001b[37m\u001b[0m \u001b[1m4s\u001b[0m 1ms/step - loss: 38.9491 - mae: 4.9561 - r2_score_metric: -63.4794\n",
      "\u001b[1m63/63\u001b[0m \u001b[32m━━━━━━━━━━━━━━━━━━━━\u001b[0m\u001b[37m\u001b[0m \u001b[1m0s\u001b[0m 2ms/step\n",
      "Target variable :  rh in\n",
      "10-Fold Cross-Validation Scores:\n",
      "Fold 1: RMSE = 2.1028, MAE = 1.7504, R2 = 0.8549\n",
      "Fold 2: RMSE = 1.5469, MAE = 1.2038, R2 = 0.9183\n",
      "Fold 3: RMSE = 1.6441, MAE = 1.2648, R2 = 0.9090\n",
      "Fold 4: RMSE = 1.3334, MAE = 0.9691, R2 = 0.9465\n",
      "Fold 5: RMSE = 2.0220, MAE = 1.6773, R2 = 0.8607\n",
      "Fold 6: RMSE = 1.2562, MAE = 0.9268, R2 = 0.9470\n",
      "Fold 7: RMSE = 1.3758, MAE = 1.0107, R2 = 0.9394\n",
      "Fold 8: RMSE = 1.7088, MAE = 1.3980, R2 = 0.9010\n",
      "Fold 9: RMSE = 1.7761, MAE = 1.4568, R2 = 0.8960\n",
      "Fold 10: RMSE = 2.1541, MAE = 1.7865, R2 = 0.8488\n",
      "\n",
      "Average RMSE: 1.6920\n",
      "Average MAE: 1.3444\n",
      "Average R2: 0.9022\n",
      "Epoch 1/10\n"
     ]
    },
    {
     "name": "stderr",
     "output_type": "stream",
     "text": [
      "c:\\Users\\frm19\\AppData\\Local\\Programs\\Python\\Python310\\lib\\site-packages\\keras\\src\\layers\\core\\dense.py:87: UserWarning: Do not pass an `input_shape`/`input_dim` argument to a layer. When using Sequential models, prefer using an `Input(shape)` object as the first layer in the model instead.\n",
      "  super().__init__(activity_regularizer=activity_regularizer, **kwargs)\n"
     ]
    },
    {
     "name": "stdout",
     "output_type": "stream",
     "text": [
      "\u001b[1m3593/3593\u001b[0m \u001b[32m━━━━━━━━━━━━━━━━━━━━\u001b[0m\u001b[37m\u001b[0m \u001b[1m6s\u001b[0m 1ms/step - loss: 26747.2539 - mae: 108.4945 - r2_score_metric: -374747430912.0000\n",
      "Epoch 2/10\n",
      "\u001b[1m3593/3593\u001b[0m \u001b[32m━━━━━━━━━━━━━━━━━━━━\u001b[0m\u001b[37m\u001b[0m \u001b[1m4s\u001b[0m 1ms/step - loss: 4433.4619 - mae: 52.2903 - r2_score_metric: -63089254400.0000\n",
      "Epoch 3/10\n",
      "\u001b[1m3593/3593\u001b[0m \u001b[32m━━━━━━━━━━━━━━━━━━━━\u001b[0m\u001b[37m\u001b[0m \u001b[1m4s\u001b[0m 1ms/step - loss: 4040.8428 - mae: 50.1795 - r2_score_metric: -57536995328.0000\n",
      "Epoch 4/10\n",
      "\u001b[1m3593/3593\u001b[0m \u001b[32m━━━━━━━━━━━━━━━━━━━━\u001b[0m\u001b[37m\u001b[0m \u001b[1m4s\u001b[0m 1ms/step - loss: 4189.7290 - mae: 50.9389 - r2_score_metric: -67088908288.0000\n",
      "Epoch 5/10\n",
      "\u001b[1m3593/3593\u001b[0m \u001b[32m━━━━━━━━━━━━━━━━━━━━\u001b[0m\u001b[37m\u001b[0m \u001b[1m5s\u001b[0m 1ms/step - loss: 4720.2842 - mae: 50.8121 - r2_score_metric: -58188500992.0000\n",
      "Epoch 6/10\n",
      "\u001b[1m3593/3593\u001b[0m \u001b[32m━━━━━━━━━━━━━━━━━━━━\u001b[0m\u001b[37m\u001b[0m \u001b[1m5s\u001b[0m 1ms/step - loss: 3932.0210 - mae: 49.8104 - r2_score_metric: -55158824960.0000\n",
      "Epoch 7/10\n",
      "\u001b[1m3593/3593\u001b[0m \u001b[32m━━━━━━━━━━━━━━━━━━━━\u001b[0m\u001b[37m\u001b[0m \u001b[1m4s\u001b[0m 1ms/step - loss: 3833.6968 - mae: 48.9823 - r2_score_metric: -56423395328.0000\n",
      "Epoch 8/10\n",
      "\u001b[1m3593/3593\u001b[0m \u001b[32m━━━━━━━━━━━━━━━━━━━━\u001b[0m\u001b[37m\u001b[0m \u001b[1m5s\u001b[0m 1ms/step - loss: 3786.6177 - mae: 49.2697 - r2_score_metric: -56598675456.0000\n",
      "Epoch 9/10\n",
      "\u001b[1m3593/3593\u001b[0m \u001b[32m━━━━━━━━━━━━━━━━━━━━\u001b[0m\u001b[37m\u001b[0m \u001b[1m5s\u001b[0m 1ms/step - loss: 3799.3967 - mae: 48.6904 - r2_score_metric: -54581202944.0000\n",
      "Epoch 10/10\n",
      "\u001b[1m3593/3593\u001b[0m \u001b[32m━━━━━━━━━━━━━━━━━━━━\u001b[0m\u001b[37m\u001b[0m \u001b[1m6s\u001b[0m 2ms/step - loss: 3801.1411 - mae: 48.3188 - r2_score_metric: -57554333696.0000\n",
      "\u001b[1m63/63\u001b[0m \u001b[32m━━━━━━━━━━━━━━━━━━━━\u001b[0m\u001b[37m\u001b[0m \u001b[1m0s\u001b[0m 2ms/step\n",
      "Epoch 1/10\n"
     ]
    },
    {
     "name": "stderr",
     "output_type": "stream",
     "text": [
      "c:\\Users\\frm19\\AppData\\Local\\Programs\\Python\\Python310\\lib\\site-packages\\keras\\src\\layers\\core\\dense.py:87: UserWarning: Do not pass an `input_shape`/`input_dim` argument to a layer. When using Sequential models, prefer using an `Input(shape)` object as the first layer in the model instead.\n",
      "  super().__init__(activity_regularizer=activity_regularizer, **kwargs)\n"
     ]
    },
    {
     "name": "stdout",
     "output_type": "stream",
     "text": [
      "\u001b[1m3593/3593\u001b[0m \u001b[32m━━━━━━━━━━━━━━━━━━━━\u001b[0m\u001b[37m\u001b[0m \u001b[1m7s\u001b[0m 1ms/step - loss: 27053.3750 - mae: 108.9261 - r2_score_metric: -394499162112.0000\n",
      "Epoch 2/10\n",
      "\u001b[1m3593/3593\u001b[0m \u001b[32m━━━━━━━━━━━━━━━━━━━━\u001b[0m\u001b[37m\u001b[0m \u001b[1m4s\u001b[0m 1ms/step - loss: 3712.2188 - mae: 47.6499 - r2_score_metric: -55051571200.0000\n",
      "Epoch 3/10\n",
      "\u001b[1m3593/3593\u001b[0m \u001b[32m━━━━━━━━━━━━━━━━━━━━\u001b[0m\u001b[37m\u001b[0m \u001b[1m4s\u001b[0m 1ms/step - loss: 3607.2473 - mae: 47.2665 - r2_score_metric: -53975396352.0000\n",
      "Epoch 4/10\n",
      "\u001b[1m3593/3593\u001b[0m \u001b[32m━━━━━━━━━━━━━━━━━━━━\u001b[0m\u001b[37m\u001b[0m \u001b[1m5s\u001b[0m 1ms/step - loss: 3620.3879 - mae: 47.1910 - r2_score_metric: -51941920768.0000\n",
      "Epoch 5/10\n",
      "\u001b[1m3593/3593\u001b[0m \u001b[32m━━━━━━━━━━━━━━━━━━━━\u001b[0m\u001b[37m\u001b[0m \u001b[1m4s\u001b[0m 993us/step - loss: 3479.4822 - mae: 46.9288 - r2_score_metric: -50791301120.0000\n",
      "Epoch 6/10\n",
      "\u001b[1m3593/3593\u001b[0m \u001b[32m━━━━━━━━━━━━━━━━━━━━\u001b[0m\u001b[37m\u001b[0m \u001b[1m5s\u001b[0m 1ms/step - loss: 3393.2910 - mae: 46.1028 - r2_score_metric: -49176485888.0000\n",
      "Epoch 7/10\n",
      "\u001b[1m3593/3593\u001b[0m \u001b[32m━━━━━━━━━━━━━━━━━━━━\u001b[0m\u001b[37m\u001b[0m \u001b[1m4s\u001b[0m 1ms/step - loss: 3470.0837 - mae: 45.6045 - r2_score_metric: -47753879552.0000\n",
      "Epoch 8/10\n",
      "\u001b[1m3593/3593\u001b[0m \u001b[32m━━━━━━━━━━━━━━━━━━━━\u001b[0m\u001b[37m\u001b[0m \u001b[1m5s\u001b[0m 1ms/step - loss: 3302.5754 - mae: 45.0054 - r2_score_metric: -45711998976.0000\n",
      "Epoch 9/10\n",
      "\u001b[1m3593/3593\u001b[0m \u001b[32m━━━━━━━━━━━━━━━━━━━━\u001b[0m\u001b[37m\u001b[0m \u001b[1m4s\u001b[0m 1ms/step - loss: 3269.5632 - mae: 44.9782 - r2_score_metric: -47653847040.0000\n",
      "Epoch 10/10\n",
      "\u001b[1m3593/3593\u001b[0m \u001b[32m━━━━━━━━━━━━━━━━━━━━\u001b[0m\u001b[37m\u001b[0m \u001b[1m4s\u001b[0m 1ms/step - loss: 3248.7871 - mae: 44.7718 - r2_score_metric: -47330222080.0000\n",
      "\u001b[1m63/63\u001b[0m \u001b[32m━━━━━━━━━━━━━━━━━━━━\u001b[0m\u001b[37m\u001b[0m \u001b[1m0s\u001b[0m 2ms/step\n",
      "Epoch 1/10\n"
     ]
    },
    {
     "name": "stderr",
     "output_type": "stream",
     "text": [
      "c:\\Users\\frm19\\AppData\\Local\\Programs\\Python\\Python310\\lib\\site-packages\\keras\\src\\layers\\core\\dense.py:87: UserWarning: Do not pass an `input_shape`/`input_dim` argument to a layer. When using Sequential models, prefer using an `Input(shape)` object as the first layer in the model instead.\n",
      "  super().__init__(activity_regularizer=activity_regularizer, **kwargs)\n"
     ]
    },
    {
     "name": "stdout",
     "output_type": "stream",
     "text": [
      "\u001b[1m3594/3594\u001b[0m \u001b[32m━━━━━━━━━━━━━━━━━━━━\u001b[0m\u001b[37m\u001b[0m \u001b[1m7s\u001b[0m 1ms/step - loss: 25526.5527 - mae: 105.4903 - r2_score_metric: -346135592960.0000\n",
      "Epoch 2/10\n",
      "\u001b[1m3594/3594\u001b[0m \u001b[32m━━━━━━━━━━━━━━━━━━━━\u001b[0m\u001b[37m\u001b[0m \u001b[1m4s\u001b[0m 1ms/step - loss: 4061.5276 - mae: 49.8062 - r2_score_metric: -57596526592.0000\n",
      "Epoch 3/10\n",
      "\u001b[1m3594/3594\u001b[0m \u001b[32m━━━━━━━━━━━━━━━━━━━━\u001b[0m\u001b[37m\u001b[0m \u001b[1m4s\u001b[0m 1ms/step - loss: 3776.8015 - mae: 49.0515 - r2_score_metric: -57686241280.0000\n",
      "Epoch 4/10\n",
      "\u001b[1m3594/3594\u001b[0m \u001b[32m━━━━━━━━━━━━━━━━━━━━\u001b[0m\u001b[37m\u001b[0m \u001b[1m4s\u001b[0m 1ms/step - loss: 3793.1658 - mae: 48.6138 - r2_score_metric: -57744470016.0000\n",
      "Epoch 5/10\n",
      "\u001b[1m3594/3594\u001b[0m \u001b[32m━━━━━━━━━━━━━━━━━━━━\u001b[0m\u001b[37m\u001b[0m \u001b[1m8s\u001b[0m 2ms/step - loss: 3670.3330 - mae: 47.5117 - r2_score_metric: -53001187328.0000\n",
      "Epoch 6/10\n",
      "\u001b[1m3594/3594\u001b[0m \u001b[32m━━━━━━━━━━━━━━━━━━━━\u001b[0m\u001b[37m\u001b[0m \u001b[1m7s\u001b[0m 2ms/step - loss: 3519.4346 - mae: 47.1683 - r2_score_metric: -54816149504.0000\n",
      "Epoch 7/10\n",
      "\u001b[1m3594/3594\u001b[0m \u001b[32m━━━━━━━━━━━━━━━━━━━━\u001b[0m\u001b[37m\u001b[0m \u001b[1m4s\u001b[0m 1ms/step - loss: 3592.2197 - mae: 47.0674 - r2_score_metric: -52516364288.0000\n",
      "Epoch 8/10\n",
      "\u001b[1m3594/3594\u001b[0m \u001b[32m━━━━━━━━━━━━━━━━━━━━\u001b[0m\u001b[37m\u001b[0m \u001b[1m5s\u001b[0m 1ms/step - loss: 3665.2754 - mae: 46.8656 - r2_score_metric: -50711216128.0000\n",
      "Epoch 9/10\n",
      "\u001b[1m3594/3594\u001b[0m \u001b[32m━━━━━━━━━━━━━━━━━━━━\u001b[0m\u001b[37m\u001b[0m \u001b[1m4s\u001b[0m 1ms/step - loss: 3486.6150 - mae: 46.6780 - r2_score_metric: -50607652864.0000\n",
      "Epoch 10/10\n",
      "\u001b[1m3594/3594\u001b[0m \u001b[32m━━━━━━━━━━━━━━━━━━━━\u001b[0m\u001b[37m\u001b[0m \u001b[1m5s\u001b[0m 1ms/step - loss: 3501.6580 - mae: 46.1669 - r2_score_metric: -50681647104.0000\n",
      "\u001b[1m63/63\u001b[0m \u001b[32m━━━━━━━━━━━━━━━━━━━━\u001b[0m\u001b[37m\u001b[0m \u001b[1m0s\u001b[0m 2ms/step\n",
      "Epoch 1/10\n"
     ]
    },
    {
     "name": "stderr",
     "output_type": "stream",
     "text": [
      "c:\\Users\\frm19\\AppData\\Local\\Programs\\Python\\Python310\\lib\\site-packages\\keras\\src\\layers\\core\\dense.py:87: UserWarning: Do not pass an `input_shape`/`input_dim` argument to a layer. When using Sequential models, prefer using an `Input(shape)` object as the first layer in the model instead.\n",
      "  super().__init__(activity_regularizer=activity_regularizer, **kwargs)\n"
     ]
    },
    {
     "name": "stdout",
     "output_type": "stream",
     "text": [
      "\u001b[1m3594/3594\u001b[0m \u001b[32m━━━━━━━━━━━━━━━━━━━━\u001b[0m\u001b[37m\u001b[0m \u001b[1m7s\u001b[0m 1ms/step - loss: 23338.0762 - mae: 98.7452 - r2_score_metric: -390979747840.0000\n",
      "Epoch 2/10\n",
      "\u001b[1m3594/3594\u001b[0m \u001b[32m━━━━━━━━━━━━━━━━━━━━\u001b[0m\u001b[37m\u001b[0m \u001b[1m7s\u001b[0m 2ms/step - loss: 3232.1548 - mae: 44.3673 - r2_score_metric: -46757785600.0000\n",
      "Epoch 3/10\n",
      "\u001b[1m3594/3594\u001b[0m \u001b[32m━━━━━━━━━━━━━━━━━━━━\u001b[0m\u001b[37m\u001b[0m \u001b[1m5s\u001b[0m 1ms/step - loss: 3343.1677 - mae: 44.3323 - r2_score_metric: -43502747648.0000\n",
      "Epoch 4/10\n",
      "\u001b[1m3594/3594\u001b[0m \u001b[32m━━━━━━━━━━━━━━━━━━━━\u001b[0m\u001b[37m\u001b[0m \u001b[1m5s\u001b[0m 1ms/step - loss: 2975.2429 - mae: 42.6442 - r2_score_metric: -42505404416.0000\n",
      "Epoch 5/10\n",
      "\u001b[1m3594/3594\u001b[0m \u001b[32m━━━━━━━━━━━━━━━━━━━━\u001b[0m\u001b[37m\u001b[0m \u001b[1m5s\u001b[0m 1ms/step - loss: 2827.7239 - mae: 41.9148 - r2_score_metric: -43887529984.0000\n",
      "Epoch 6/10\n",
      "\u001b[1m3594/3594\u001b[0m \u001b[32m━━━━━━━━━━━━━━━━━━━━\u001b[0m\u001b[37m\u001b[0m \u001b[1m5s\u001b[0m 1ms/step - loss: 2766.6770 - mae: 41.7705 - r2_score_metric: -38143676416.0000\n",
      "Epoch 7/10\n",
      "\u001b[1m3594/3594\u001b[0m \u001b[32m━━━━━━━━━━━━━━━━━━━━\u001b[0m\u001b[37m\u001b[0m \u001b[1m5s\u001b[0m 1ms/step - loss: 2884.5415 - mae: 41.3293 - r2_score_metric: -38842015744.0000\n",
      "Epoch 8/10\n",
      "\u001b[1m3594/3594\u001b[0m \u001b[32m━━━━━━━━━━━━━━━━━━━━\u001b[0m\u001b[37m\u001b[0m \u001b[1m5s\u001b[0m 1ms/step - loss: 2603.8699 - mae: 40.5164 - r2_score_metric: -36020920320.0000\n",
      "Epoch 9/10\n",
      "\u001b[1m3594/3594\u001b[0m \u001b[32m━━━━━━━━━━━━━━━━━━━━\u001b[0m\u001b[37m\u001b[0m \u001b[1m4s\u001b[0m 1ms/step - loss: 2518.4287 - mae: 39.5366 - r2_score_metric: -35866951680.0000\n",
      "Epoch 10/10\n",
      "\u001b[1m3594/3594\u001b[0m \u001b[32m━━━━━━━━━━━━━━━━━━━━\u001b[0m\u001b[37m\u001b[0m \u001b[1m5s\u001b[0m 1ms/step - loss: 2554.5144 - mae: 39.4259 - r2_score_metric: -38145478656.0000\n",
      "\u001b[1m63/63\u001b[0m \u001b[32m━━━━━━━━━━━━━━━━━━━━\u001b[0m\u001b[37m\u001b[0m \u001b[1m0s\u001b[0m 2ms/step\n",
      "Epoch 1/10\n"
     ]
    },
    {
     "name": "stderr",
     "output_type": "stream",
     "text": [
      "c:\\Users\\frm19\\AppData\\Local\\Programs\\Python\\Python310\\lib\\site-packages\\keras\\src\\layers\\core\\dense.py:87: UserWarning: Do not pass an `input_shape`/`input_dim` argument to a layer. When using Sequential models, prefer using an `Input(shape)` object as the first layer in the model instead.\n",
      "  super().__init__(activity_regularizer=activity_regularizer, **kwargs)\n"
     ]
    },
    {
     "name": "stdout",
     "output_type": "stream",
     "text": [
      "\u001b[1m3594/3594\u001b[0m \u001b[32m━━━━━━━━━━━━━━━━━━━━\u001b[0m\u001b[37m\u001b[0m \u001b[1m9s\u001b[0m 2ms/step - loss: 26439.9609 - mae: 107.2103 - r2_score_metric: -431150596096.0000\n",
      "Epoch 2/10\n",
      "\u001b[1m3594/3594\u001b[0m \u001b[32m━━━━━━━━━━━━━━━━━━━━\u001b[0m\u001b[37m\u001b[0m \u001b[1m5s\u001b[0m 1ms/step - loss: 3833.4312 - mae: 49.5497 - r2_score_metric: -53324779520.0000\n",
      "Epoch 3/10\n",
      "\u001b[1m3594/3594\u001b[0m \u001b[32m━━━━━━━━━━━━━━━━━━━━\u001b[0m\u001b[37m\u001b[0m \u001b[1m4s\u001b[0m 1ms/step - loss: 3606.1128 - mae: 47.9191 - r2_score_metric: -52056838144.0000\n",
      "Epoch 4/10\n",
      "\u001b[1m3594/3594\u001b[0m \u001b[32m━━━━━━━━━━━━━━━━━━━━\u001b[0m\u001b[37m\u001b[0m \u001b[1m4s\u001b[0m 1ms/step - loss: 3553.4158 - mae: 47.1947 - r2_score_metric: -52482764800.0000\n",
      "Epoch 5/10\n",
      "\u001b[1m3594/3594\u001b[0m \u001b[32m━━━━━━━━━━━━━━━━━━━━\u001b[0m\u001b[37m\u001b[0m \u001b[1m5s\u001b[0m 1ms/step - loss: 3571.0952 - mae: 47.3834 - r2_score_metric: -51234119680.0000\n",
      "Epoch 6/10\n",
      "\u001b[1m3594/3594\u001b[0m \u001b[32m━━━━━━━━━━━━━━━━━━━━\u001b[0m\u001b[37m\u001b[0m \u001b[1m5s\u001b[0m 1ms/step - loss: 3361.6536 - mae: 46.0588 - r2_score_metric: -50781073408.0000\n",
      "Epoch 7/10\n",
      "\u001b[1m3594/3594\u001b[0m \u001b[32m━━━━━━━━━━━━━━━━━━━━\u001b[0m\u001b[37m\u001b[0m \u001b[1m5s\u001b[0m 1ms/step - loss: 3370.7764 - mae: 46.3299 - r2_score_metric: -49252925440.0000\n",
      "Epoch 8/10\n",
      "\u001b[1m3594/3594\u001b[0m \u001b[32m━━━━━━━━━━━━━━━━━━━━\u001b[0m\u001b[37m\u001b[0m \u001b[1m5s\u001b[0m 1ms/step - loss: 3362.9551 - mae: 46.3411 - r2_score_metric: -49006718976.0000\n",
      "Epoch 9/10\n",
      "\u001b[1m3594/3594\u001b[0m \u001b[32m━━━━━━━━━━━━━━━━━━━━\u001b[0m\u001b[37m\u001b[0m \u001b[1m5s\u001b[0m 1ms/step - loss: 3217.1084 - mae: 45.3500 - r2_score_metric: -53625806848.0000\n",
      "Epoch 10/10\n",
      "\u001b[1m3594/3594\u001b[0m \u001b[32m━━━━━━━━━━━━━━━━━━━━\u001b[0m\u001b[37m\u001b[0m \u001b[1m4s\u001b[0m 1ms/step - loss: 3237.7180 - mae: 45.0246 - r2_score_metric: -48620482560.0000\n",
      "\u001b[1m63/63\u001b[0m \u001b[32m━━━━━━━━━━━━━━━━━━━━\u001b[0m\u001b[37m\u001b[0m \u001b[1m0s\u001b[0m 2ms/step  \n",
      "Epoch 1/10\n"
     ]
    },
    {
     "name": "stderr",
     "output_type": "stream",
     "text": [
      "c:\\Users\\frm19\\AppData\\Local\\Programs\\Python\\Python310\\lib\\site-packages\\keras\\src\\layers\\core\\dense.py:87: UserWarning: Do not pass an `input_shape`/`input_dim` argument to a layer. When using Sequential models, prefer using an `Input(shape)` object as the first layer in the model instead.\n",
      "  super().__init__(activity_regularizer=activity_regularizer, **kwargs)\n"
     ]
    },
    {
     "name": "stdout",
     "output_type": "stream",
     "text": [
      "\u001b[1m3594/3594\u001b[0m \u001b[32m━━━━━━━━━━━━━━━━━━━━\u001b[0m\u001b[37m\u001b[0m \u001b[1m6s\u001b[0m 1ms/step - loss: 24019.3828 - mae: 100.6246 - r2_score_metric: -382147952640.0000\n",
      "Epoch 2/10\n",
      "\u001b[1m3594/3594\u001b[0m \u001b[32m━━━━━━━━━━━━━━━━━━━━\u001b[0m\u001b[37m\u001b[0m \u001b[1m4s\u001b[0m 1ms/step - loss: 3425.3774 - mae: 46.3580 - r2_score_metric: -51223105536.0000\n",
      "Epoch 3/10\n",
      "\u001b[1m3594/3594\u001b[0m \u001b[32m━━━━━━━━━━━━━━━━━━━━\u001b[0m\u001b[37m\u001b[0m \u001b[1m4s\u001b[0m 1ms/step - loss: 3389.1836 - mae: 46.4941 - r2_score_metric: -49795575808.0000\n",
      "Epoch 4/10\n",
      "\u001b[1m3594/3594\u001b[0m \u001b[32m━━━━━━━━━━━━━━━━━━━━\u001b[0m\u001b[37m\u001b[0m \u001b[1m4s\u001b[0m 1ms/step - loss: 3209.0620 - mae: 44.7712 - r2_score_metric: -49749520384.0000\n",
      "Epoch 5/10\n",
      "\u001b[1m3594/3594\u001b[0m \u001b[32m━━━━━━━━━━━━━━━━━━━━\u001b[0m\u001b[37m\u001b[0m \u001b[1m4s\u001b[0m 1ms/step - loss: 3325.7449 - mae: 45.4312 - r2_score_metric: -48864239616.0000\n",
      "Epoch 6/10\n",
      "\u001b[1m3594/3594\u001b[0m \u001b[32m━━━━━━━━━━━━━━━━━━━━\u001b[0m\u001b[37m\u001b[0m \u001b[1m5s\u001b[0m 1ms/step - loss: 3140.2327 - mae: 44.0358 - r2_score_metric: -46467584000.0000\n",
      "Epoch 7/10\n",
      "\u001b[1m3594/3594\u001b[0m \u001b[32m━━━━━━━━━━━━━━━━━━━━\u001b[0m\u001b[37m\u001b[0m \u001b[1m5s\u001b[0m 2ms/step - loss: 2890.0793 - mae: 42.6645 - r2_score_metric: -42384162816.0000\n",
      "Epoch 8/10\n",
      "\u001b[1m3594/3594\u001b[0m \u001b[32m━━━━━━━━━━━━━━━━━━━━\u001b[0m\u001b[37m\u001b[0m \u001b[1m6s\u001b[0m 2ms/step - loss: 3134.1597 - mae: 42.8657 - r2_score_metric: -45087240192.0000\n",
      "Epoch 9/10\n",
      "\u001b[1m3594/3594\u001b[0m \u001b[32m━━━━━━━━━━━━━━━━━━━━\u001b[0m\u001b[37m\u001b[0m \u001b[1m5s\u001b[0m 1ms/step - loss: 2961.3232 - mae: 42.9207 - r2_score_metric: -42435280896.0000\n",
      "Epoch 10/10\n",
      "\u001b[1m3594/3594\u001b[0m \u001b[32m━━━━━━━━━━━━━━━━━━━━\u001b[0m\u001b[37m\u001b[0m \u001b[1m5s\u001b[0m 1ms/step - loss: 2948.2656 - mae: 41.9750 - r2_score_metric: -39525109760.0000\n",
      "\u001b[1m63/63\u001b[0m \u001b[32m━━━━━━━━━━━━━━━━━━━━\u001b[0m\u001b[37m\u001b[0m \u001b[1m0s\u001b[0m 2ms/step\n",
      "Epoch 1/10\n"
     ]
    },
    {
     "name": "stderr",
     "output_type": "stream",
     "text": [
      "c:\\Users\\frm19\\AppData\\Local\\Programs\\Python\\Python310\\lib\\site-packages\\keras\\src\\layers\\core\\dense.py:87: UserWarning: Do not pass an `input_shape`/`input_dim` argument to a layer. When using Sequential models, prefer using an `Input(shape)` object as the first layer in the model instead.\n",
      "  super().__init__(activity_regularizer=activity_regularizer, **kwargs)\n"
     ]
    },
    {
     "name": "stdout",
     "output_type": "stream",
     "text": [
      "\u001b[1m3594/3594\u001b[0m \u001b[32m━━━━━━━━━━━━━━━━━━━━\u001b[0m\u001b[37m\u001b[0m \u001b[1m8s\u001b[0m 1ms/step - loss: 25568.6777 - mae: 104.7159 - r2_score_metric: -355080699904.0000\n",
      "Epoch 2/10\n",
      "\u001b[1m3594/3594\u001b[0m \u001b[32m━━━━━━━━━━━━━━━━━━━━\u001b[0m\u001b[37m\u001b[0m \u001b[1m5s\u001b[0m 1ms/step - loss: 3444.6472 - mae: 46.1601 - r2_score_metric: -49433133056.0000\n",
      "Epoch 3/10\n",
      "\u001b[1m3594/3594\u001b[0m \u001b[32m━━━━━━━━━━━━━━━━━━━━\u001b[0m\u001b[37m\u001b[0m \u001b[1m6s\u001b[0m 2ms/step - loss: 3121.0771 - mae: 44.2083 - r2_score_metric: -45372862464.0000\n",
      "Epoch 4/10\n",
      "\u001b[1m3594/3594\u001b[0m \u001b[32m━━━━━━━━━━━━━━━━━━━━\u001b[0m\u001b[37m\u001b[0m \u001b[1m4s\u001b[0m 1ms/step - loss: 3346.1555 - mae: 43.7827 - r2_score_metric: -45805686784.0000\n",
      "Epoch 5/10\n",
      "\u001b[1m3594/3594\u001b[0m \u001b[32m━━━━━━━━━━━━━━━━━━━━\u001b[0m\u001b[37m\u001b[0m \u001b[1m4s\u001b[0m 1ms/step - loss: 3076.9976 - mae: 43.9009 - r2_score_metric: -44287229952.0000\n",
      "Epoch 6/10\n",
      "\u001b[1m3594/3594\u001b[0m \u001b[32m━━━━━━━━━━━━━━━━━━━━\u001b[0m\u001b[37m\u001b[0m \u001b[1m4s\u001b[0m 1ms/step - loss: 2835.9910 - mae: 42.2180 - r2_score_metric: -45743796224.0000\n",
      "Epoch 7/10\n",
      "\u001b[1m3594/3594\u001b[0m \u001b[32m━━━━━━━━━━━━━━━━━━━━\u001b[0m\u001b[37m\u001b[0m \u001b[1m4s\u001b[0m 1ms/step - loss: 2997.5684 - mae: 42.7041 - r2_score_metric: -45448642560.0000\n",
      "Epoch 8/10\n",
      "\u001b[1m3594/3594\u001b[0m \u001b[32m━━━━━━━━━━━━━━━━━━━━\u001b[0m\u001b[37m\u001b[0m \u001b[1m5s\u001b[0m 1ms/step - loss: 3671.1494 - mae: 42.6188 - r2_score_metric: -41247551488.0000\n",
      "Epoch 9/10\n",
      "\u001b[1m3594/3594\u001b[0m \u001b[32m━━━━━━━━━━━━━━━━━━━━\u001b[0m\u001b[37m\u001b[0m \u001b[1m6s\u001b[0m 2ms/step - loss: 2804.1667 - mae: 41.1184 - r2_score_metric: -41776095232.0000\n",
      "Epoch 10/10\n",
      "\u001b[1m3594/3594\u001b[0m \u001b[32m━━━━━━━━━━━━━━━━━━━━\u001b[0m\u001b[37m\u001b[0m \u001b[1m4s\u001b[0m 1ms/step - loss: 2684.2168 - mae: 40.9141 - r2_score_metric: -38014623744.0000\n",
      "\u001b[1m63/63\u001b[0m \u001b[32m━━━━━━━━━━━━━━━━━━━━\u001b[0m\u001b[37m\u001b[0m \u001b[1m0s\u001b[0m 1ms/step\n",
      "Epoch 1/10\n"
     ]
    },
    {
     "name": "stderr",
     "output_type": "stream",
     "text": [
      "c:\\Users\\frm19\\AppData\\Local\\Programs\\Python\\Python310\\lib\\site-packages\\keras\\src\\layers\\core\\dense.py:87: UserWarning: Do not pass an `input_shape`/`input_dim` argument to a layer. When using Sequential models, prefer using an `Input(shape)` object as the first layer in the model instead.\n",
      "  super().__init__(activity_regularizer=activity_regularizer, **kwargs)\n"
     ]
    },
    {
     "name": "stdout",
     "output_type": "stream",
     "text": [
      "\u001b[1m3594/3594\u001b[0m \u001b[32m━━━━━━━━━━━━━━━━━━━━\u001b[0m\u001b[37m\u001b[0m \u001b[1m7s\u001b[0m 1ms/step - loss: 23067.9199 - mae: 97.9405 - r2_score_metric: -345874923520.0000\n",
      "Epoch 2/10\n",
      "\u001b[1m3594/3594\u001b[0m \u001b[32m━━━━━━━━━━━━━━━━━━━━\u001b[0m\u001b[37m\u001b[0m \u001b[1m6s\u001b[0m 2ms/step - loss: 3551.9553 - mae: 45.9787 - r2_score_metric: -49219690496.0000\n",
      "Epoch 3/10\n",
      "\u001b[1m3594/3594\u001b[0m \u001b[32m━━━━━━━━━━━━━━━━━━━━\u001b[0m\u001b[37m\u001b[0m \u001b[1m6s\u001b[0m 2ms/step - loss: 3151.6111 - mae: 44.0336 - r2_score_metric: -45706178560.0000\n",
      "Epoch 4/10\n",
      "\u001b[1m3594/3594\u001b[0m \u001b[32m━━━━━━━━━━━━━━━━━━━━\u001b[0m\u001b[37m\u001b[0m \u001b[1m4s\u001b[0m 1ms/step - loss: 2987.5066 - mae: 43.2430 - r2_score_metric: -44657266688.0000\n",
      "Epoch 5/10\n",
      "\u001b[1m3594/3594\u001b[0m \u001b[32m━━━━━━━━━━━━━━━━━━━━\u001b[0m\u001b[37m\u001b[0m \u001b[1m5s\u001b[0m 1ms/step - loss: 2883.5879 - mae: 42.4470 - r2_score_metric: -44084523008.0000\n",
      "Epoch 6/10\n",
      "\u001b[1m3594/3594\u001b[0m \u001b[32m━━━━━━━━━━━━━━━━━━━━\u001b[0m\u001b[37m\u001b[0m \u001b[1m5s\u001b[0m 1ms/step - loss: 2907.7837 - mae: 41.9308 - r2_score_metric: -39219179520.0000\n",
      "Epoch 7/10\n",
      "\u001b[1m3594/3594\u001b[0m \u001b[32m━━━━━━━━━━━━━━━━━━━━\u001b[0m\u001b[37m\u001b[0m \u001b[1m7s\u001b[0m 2ms/step - loss: 2927.0713 - mae: 41.2991 - r2_score_metric: -41302560768.0000\n",
      "Epoch 8/10\n",
      "\u001b[1m3594/3594\u001b[0m \u001b[32m━━━━━━━━━━━━━━━━━━━━\u001b[0m\u001b[37m\u001b[0m \u001b[1m5s\u001b[0m 2ms/step - loss: 2705.7913 - mae: 40.7397 - r2_score_metric: -35548942336.0000\n",
      "Epoch 9/10\n",
      "\u001b[1m3594/3594\u001b[0m \u001b[32m━━━━━━━━━━━━━━━━━━━━\u001b[0m\u001b[37m\u001b[0m \u001b[1m5s\u001b[0m 1ms/step - loss: 2673.4792 - mae: 40.3405 - r2_score_metric: -39858671616.0000\n",
      "Epoch 10/10\n",
      "\u001b[1m3594/3594\u001b[0m \u001b[32m━━━━━━━━━━━━━━━━━━━━\u001b[0m\u001b[37m\u001b[0m \u001b[1m4s\u001b[0m 1ms/step - loss: 2735.4348 - mae: 40.4147 - r2_score_metric: -38686990336.0000\n",
      "\u001b[1m63/63\u001b[0m \u001b[32m━━━━━━━━━━━━━━━━━━━━\u001b[0m\u001b[37m\u001b[0m \u001b[1m0s\u001b[0m 3ms/step\n",
      "Epoch 1/10\n"
     ]
    },
    {
     "name": "stderr",
     "output_type": "stream",
     "text": [
      "c:\\Users\\frm19\\AppData\\Local\\Programs\\Python\\Python310\\lib\\site-packages\\keras\\src\\layers\\core\\dense.py:87: UserWarning: Do not pass an `input_shape`/`input_dim` argument to a layer. When using Sequential models, prefer using an `Input(shape)` object as the first layer in the model instead.\n",
      "  super().__init__(activity_regularizer=activity_regularizer, **kwargs)\n"
     ]
    },
    {
     "name": "stdout",
     "output_type": "stream",
     "text": [
      "\u001b[1m3594/3594\u001b[0m \u001b[32m━━━━━━━━━━━━━━━━━━━━\u001b[0m\u001b[37m\u001b[0m \u001b[1m7s\u001b[0m 1ms/step - loss: 25615.1250 - mae: 104.5492 - r2_score_metric: -435887603712.0000\n",
      "Epoch 2/10\n",
      "\u001b[1m3594/3594\u001b[0m \u001b[32m━━━━━━━━━━━━━━━━━━━━\u001b[0m\u001b[37m\u001b[0m \u001b[1m5s\u001b[0m 1ms/step - loss: 4271.4790 - mae: 48.7904 - r2_score_metric: -53353766912.0000\n",
      "Epoch 3/10\n",
      "\u001b[1m3594/3594\u001b[0m \u001b[32m━━━━━━━━━━━━━━━━━━━━\u001b[0m\u001b[37m\u001b[0m \u001b[1m5s\u001b[0m 1ms/step - loss: 3602.8367 - mae: 47.6816 - r2_score_metric: -52439568384.0000\n",
      "Epoch 4/10\n",
      "\u001b[1m3594/3594\u001b[0m \u001b[32m━━━━━━━━━━━━━━━━━━━━\u001b[0m\u001b[37m\u001b[0m \u001b[1m6s\u001b[0m 2ms/step - loss: 3671.3940 - mae: 46.5942 - r2_score_metric: -51788435456.0000\n",
      "Epoch 5/10\n",
      "\u001b[1m3594/3594\u001b[0m \u001b[32m━━━━━━━━━━━━━━━━━━━━\u001b[0m\u001b[37m\u001b[0m \u001b[1m5s\u001b[0m 1ms/step - loss: 3473.5176 - mae: 46.4280 - r2_score_metric: -53626925056.0000\n",
      "Epoch 6/10\n",
      "\u001b[1m3594/3594\u001b[0m \u001b[32m━━━━━━━━━━━━━━━━━━━━\u001b[0m\u001b[37m\u001b[0m \u001b[1m5s\u001b[0m 1ms/step - loss: 3330.3611 - mae: 45.8215 - r2_score_metric: -49222119424.0000\n",
      "Epoch 7/10\n",
      "\u001b[1m3594/3594\u001b[0m \u001b[32m━━━━━━━━━━━━━━━━━━━━\u001b[0m\u001b[37m\u001b[0m \u001b[1m6s\u001b[0m 2ms/step - loss: 3389.8860 - mae: 46.2189 - r2_score_metric: -50301886464.0000\n",
      "Epoch 8/10\n",
      "\u001b[1m3594/3594\u001b[0m \u001b[32m━━━━━━━━━━━━━━━━━━━━\u001b[0m\u001b[37m\u001b[0m \u001b[1m5s\u001b[0m 1ms/step - loss: 3451.9202 - mae: 45.5956 - r2_score_metric: -50699620352.0000\n",
      "Epoch 9/10\n",
      "\u001b[1m3594/3594\u001b[0m \u001b[32m━━━━━━━━━━━━━━━━━━━━\u001b[0m\u001b[37m\u001b[0m \u001b[1m5s\u001b[0m 1ms/step - loss: 3326.1846 - mae: 45.6714 - r2_score_metric: -48415776768.0000\n",
      "Epoch 10/10\n",
      "\u001b[1m3594/3594\u001b[0m \u001b[32m━━━━━━━━━━━━━━━━━━━━\u001b[0m\u001b[37m\u001b[0m \u001b[1m5s\u001b[0m 2ms/step - loss: 3257.0483 - mae: 44.3400 - r2_score_metric: -49017487360.0000\n",
      "\u001b[1m63/63\u001b[0m \u001b[32m━━━━━━━━━━━━━━━━━━━━\u001b[0m\u001b[37m\u001b[0m \u001b[1m0s\u001b[0m 2ms/step\n",
      "Epoch 1/10\n"
     ]
    },
    {
     "name": "stderr",
     "output_type": "stream",
     "text": [
      "c:\\Users\\frm19\\AppData\\Local\\Programs\\Python\\Python310\\lib\\site-packages\\keras\\src\\layers\\core\\dense.py:87: UserWarning: Do not pass an `input_shape`/`input_dim` argument to a layer. When using Sequential models, prefer using an `Input(shape)` object as the first layer in the model instead.\n",
      "  super().__init__(activity_regularizer=activity_regularizer, **kwargs)\n"
     ]
    },
    {
     "name": "stdout",
     "output_type": "stream",
     "text": [
      "\u001b[1m3594/3594\u001b[0m \u001b[32m━━━━━━━━━━━━━━━━━━━━\u001b[0m\u001b[37m\u001b[0m \u001b[1m9s\u001b[0m 2ms/step - loss: 24703.6543 - mae: 101.9257 - r2_score_metric: -406512893952.0000\n",
      "Epoch 2/10\n",
      "\u001b[1m3594/3594\u001b[0m \u001b[32m━━━━━━━━━━━━━━━━━━━━\u001b[0m\u001b[37m\u001b[0m \u001b[1m6s\u001b[0m 2ms/step - loss: 3477.5562 - mae: 46.7150 - r2_score_metric: -50807312384.0000\n",
      "Epoch 3/10\n",
      "\u001b[1m3594/3594\u001b[0m \u001b[32m━━━━━━━━━━━━━━━━━━━━\u001b[0m\u001b[37m\u001b[0m \u001b[1m5s\u001b[0m 1ms/step - loss: 3385.7053 - mae: 45.2119 - r2_score_metric: -48583593984.0000\n",
      "Epoch 4/10\n",
      "\u001b[1m3594/3594\u001b[0m \u001b[32m━━━━━━━━━━━━━━━━━━━━\u001b[0m\u001b[37m\u001b[0m \u001b[1m5s\u001b[0m 1ms/step - loss: 3431.3867 - mae: 45.5400 - r2_score_metric: -50046353408.0000\n",
      "Epoch 5/10\n",
      "\u001b[1m3594/3594\u001b[0m \u001b[32m━━━━━━━━━━━━━━━━━━━━\u001b[0m\u001b[37m\u001b[0m \u001b[1m7s\u001b[0m 2ms/step - loss: 3185.3101 - mae: 44.9868 - r2_score_metric: -48147460096.0000\n",
      "Epoch 6/10\n",
      "\u001b[1m3594/3594\u001b[0m \u001b[32m━━━━━━━━━━━━━━━━━━━━\u001b[0m\u001b[37m\u001b[0m \u001b[1m8s\u001b[0m 2ms/step - loss: 3216.0811 - mae: 44.1247 - r2_score_metric: -45800697856.0000\n",
      "Epoch 7/10\n",
      "\u001b[1m3594/3594\u001b[0m \u001b[32m━━━━━━━━━━━━━━━━━━━━\u001b[0m\u001b[37m\u001b[0m \u001b[1m6s\u001b[0m 2ms/step - loss: 3011.0366 - mae: 43.0187 - r2_score_metric: -47626821632.0000\n",
      "Epoch 8/10\n",
      "\u001b[1m3594/3594\u001b[0m \u001b[32m━━━━━━━━━━━━━━━━━━━━\u001b[0m\u001b[37m\u001b[0m \u001b[1m7s\u001b[0m 2ms/step - loss: 3049.4131 - mae: 43.4405 - r2_score_metric: -42952921088.0000\n",
      "Epoch 9/10\n",
      "\u001b[1m3594/3594\u001b[0m \u001b[32m━━━━━━━━━━━━━━━━━━━━\u001b[0m\u001b[37m\u001b[0m \u001b[1m6s\u001b[0m 2ms/step - loss: 3108.6526 - mae: 42.6081 - r2_score_metric: -43911110656.0000\n",
      "Epoch 10/10\n",
      "\u001b[1m3594/3594\u001b[0m \u001b[32m━━━━━━━━━━━━━━━━━━━━\u001b[0m\u001b[37m\u001b[0m \u001b[1m6s\u001b[0m 2ms/step - loss: 2910.3418 - mae: 42.7436 - r2_score_metric: -43932004352.0000\n",
      "\u001b[1m63/63\u001b[0m \u001b[32m━━━━━━━━━━━━━━━━━━━━\u001b[0m\u001b[37m\u001b[0m \u001b[1m0s\u001b[0m 2ms/step\n",
      "Target variable :  co2 in\n",
      "10-Fold Cross-Validation Scores:\n",
      "Fold 1: RMSE = 15.7248, MAE = 13.7247, R2 = -12.6200\n",
      "Fold 2: RMSE = 17.1155, MAE = 15.4103, R2 = -26.1123\n",
      "Fold 3: RMSE = 9.2719, MAE = 6.3773, R2 = -0.9375\n",
      "Fold 4: RMSE = 12.4919, MAE = 10.8700, R2 = -4.6962\n",
      "Fold 5: RMSE = 35.9661, MAE = 7.6376, R2 = -0.0607\n",
      "Fold 6: RMSE = 22.2884, MAE = 13.6876, R2 = -0.6514\n",
      "Fold 7: RMSE = 10.5253, MAE = 7.0646, R2 = -1.1807\n",
      "Fold 8: RMSE = 9.4731, MAE = 7.4899, R2 = -3.3229\n",
      "Fold 9: RMSE = 13.3737, MAE = 10.7028, R2 = -2.5361\n",
      "Fold 10: RMSE = 13.3558, MAE = 12.2554, R2 = -9.7205\n",
      "\n",
      "Average RMSE: 15.9586\n",
      "Average MAE: 10.5220\n",
      "Average R2: -6.1838\n"
     ]
    }
   ],
   "source": [
    "# List of target variables\n",
    "target_variables = ['global in', 'temp in', 'rh in', 'co2 in']\n",
    "\n",
    "# Iterate through each target variable and call the function\n",
    "for target in target_variables:\n",
    "    cross_validate_model(target, _epochs = 10, _batch_size= 5)"
   ]
  }
 ],
 "metadata": {
  "kernelspec": {
   "display_name": "Python 3",
   "language": "python",
   "name": "python3"
  },
  "language_info": {
   "codemirror_mode": {
    "name": "ipython",
    "version": 3
   },
   "file_extension": ".py",
   "mimetype": "text/x-python",
   "name": "python",
   "nbconvert_exporter": "python",
   "pygments_lexer": "ipython3",
   "version": "3.10.0"
  }
 },
 "nbformat": 4,
 "nbformat_minor": 2
}
